{
 "cells": [
  {
   "cell_type": "code",
   "execution_count": 1,
   "metadata": {},
   "outputs": [
    {
     "name": "stderr",
     "output_type": "stream",
     "text": [
      "Using TensorFlow backend.\n"
     ]
    }
   ],
   "source": [
    "from skimage.color import rgb2hsv\n",
    "#from keras.preprocessing.image import ImageDataGenerator, array_to_img, img_to_array, load_img\n",
    "import keras\n",
    "import seaborn as sns\n",
    "import pickle as pkl\n",
    "import cv2\n",
    "from matplotlib import pyplot\n",
    "from keras.callbacks import ModelCheckpoint\n",
    "from keras import backend as K\n",
    "import tensorflow as tf\n",
    "from keras.utils import to_categorical\n",
    "from keras.models import Sequential\n",
    "from keras.layers import Dense\n",
    "from keras.layers import Conv2D\n",
    "from keras.layers import MaxPooling2D\n",
    "from keras.layers import BatchNormalization\n",
    "from keras.layers import Dropout\n",
    "from keras.layers import Flatten\n",
    "from keras.layers import Lambda\n",
    "from keras.callbacks import EarlyStopping\n",
    "from sklearn.model_selection import train_test_split\n",
    "from keras.layers import SpatialDropout2D\n",
    "from contextlib import redirect_stdout\n",
    "import numpy as np\n",
    "import matplotlib.pyplot as plt\n",
    "from itertools import product\n",
    "import pandas as pd\n",
    "import os\n",
    "import re\n",
    "import copy\n",
    "import time\n",
    "import training_models\n",
    "import types\n",
    "import inspect"
   ]
  },
  {
   "cell_type": "code",
   "execution_count": 2,
   "metadata": {},
   "outputs": [
    {
     "data": {
      "text/plain": [
       "['/job:localhost/replica:0/task:0/device:GPU:0']"
      ]
     },
     "execution_count": 2,
     "metadata": {},
     "output_type": "execute_result"
    }
   ],
   "source": [
    "# double checking to ensure gpu is enabled for training\n",
    "K.tensorflow_backend._get_available_gpus()"
   ]
  },
  {
   "cell_type": "code",
   "execution_count": 3,
   "metadata": {},
   "outputs": [],
   "source": [
    "cwd = os.getcwd()"
   ]
  },
  {
   "cell_type": "code",
   "execution_count": 4,
   "metadata": {},
   "outputs": [
    {
     "data": {
      "text/plain": [
       "['count_.csv', 'frames']"
      ]
     },
     "execution_count": 4,
     "metadata": {},
     "output_type": "execute_result"
    }
   ],
   "source": [
    "os.listdir(cwd+ '\\\\color_data')"
   ]
  },
  {
   "cell_type": "code",
   "execution_count": 5,
   "metadata": {},
   "outputs": [],
   "source": [
    "target = pd.read_csv(cwd + '\\\\data\\\\count_.csv', names=['target'])"
   ]
  },
  {
   "cell_type": "code",
   "execution_count": 6,
   "metadata": {},
   "outputs": [
    {
     "data": {
      "text/html": [
       "<div>\n",
       "<style scoped>\n",
       "    .dataframe tbody tr th:only-of-type {\n",
       "        vertical-align: middle;\n",
       "    }\n",
       "\n",
       "    .dataframe tbody tr th {\n",
       "        vertical-align: top;\n",
       "    }\n",
       "\n",
       "    .dataframe thead th {\n",
       "        text-align: right;\n",
       "    }\n",
       "</style>\n",
       "<table border=\"1\" class=\"dataframe\">\n",
       "  <thead>\n",
       "    <tr style=\"text-align: right;\">\n",
       "      <th></th>\n",
       "      <th>target</th>\n",
       "    </tr>\n",
       "  </thead>\n",
       "  <tbody>\n",
       "    <tr>\n",
       "      <td>0</td>\n",
       "      <td>29</td>\n",
       "    </tr>\n",
       "    <tr>\n",
       "      <td>1</td>\n",
       "      <td>30</td>\n",
       "    </tr>\n",
       "    <tr>\n",
       "      <td>2</td>\n",
       "      <td>35</td>\n",
       "    </tr>\n",
       "    <tr>\n",
       "      <td>3</td>\n",
       "      <td>31</td>\n",
       "    </tr>\n",
       "    <tr>\n",
       "      <td>4</td>\n",
       "      <td>26</td>\n",
       "    </tr>\n",
       "  </tbody>\n",
       "</table>\n",
       "</div>"
      ],
      "text/plain": [
       "   target\n",
       "0      29\n",
       "1      30\n",
       "2      35\n",
       "3      31\n",
       "4      26"
      ]
     },
     "execution_count": 6,
     "metadata": {},
     "output_type": "execute_result"
    }
   ],
   "source": [
    "target.head()"
   ]
  },
  {
   "cell_type": "code",
   "execution_count": 7,
   "metadata": {},
   "outputs": [],
   "source": [
    "input_ = np.append(pkl.load(open(r'C:\\Users\\abelp\\machine_learning\\crowd_count\\data\\final_input_aj_1.pkl', 'rb')),\n",
    "                  pkl.load(open(r'C:\\Users\\abelp\\machine_learning\\crowd_count\\data\\final_input_aj_2.pkl', 'rb')), axis=0)"
   ]
  },
  {
   "cell_type": "code",
   "execution_count": 8,
   "metadata": {},
   "outputs": [],
   "source": [
    "model_location = 'C:\\\\Users\\\\abelp\\\\machine_learning\\\\crowd_count\\\\models\\\\'"
   ]
  },
  {
   "cell_type": "code",
   "execution_count": 9,
   "metadata": {},
   "outputs": [
    {
     "data": {
      "text/plain": [
       "['alex_net_trasfer.h5',\n",
       " 'alex_net_trasfer.png',\n",
       " 'alex_net_trasfer_actual.h5',\n",
       " 'alex_net_trasfer_actual.png',\n",
       " 'alex_net_trasfer_BE.h5',\n",
       " 'alex_net_trasfer_BE.png',\n",
       " 'alex_net_trasfer_BE_LR.h5',\n",
       " 'alex_net_trasfer_BE_LR.png',\n",
       " 'alex_net_trasfer_deep_BE.h5',\n",
       " 'alex_net_trasfer_deep_BE.png',\n",
       " 'alex_net_trasfer_deep_BE_LR.h5',\n",
       " 'alex_net_trasfer_deep_BE_LR.png',\n",
       " 'alex_net_trasfer_DO.h5',\n",
       " 'alex_net_trasfer_DO.png',\n",
       " 'alex_net_trasfer_v2.h5',\n",
       " 'alex_net_trasfer_v2.png',\n",
       " 'augmented_samplealex_net_trasfer.png',\n",
       " 'augmented_samplealex_net_trasfer_BE.png',\n",
       " 'augmented_samplealex_net_trasfer_BE_LR.png',\n",
       " 'augmented_samplealex_net_trasfer_deep_BE_LR.png',\n",
       " 'augmented_samplealex_net_trasfer_v2.png',\n",
       " 'augmented_samplebasic_CNN_v2_BN.png',\n",
       " 'augmented_samplebasic_CNN_v2_BN_LR.png',\n",
       " 'augmented_samplebasic_CNN_v2_DO_LR.png',\n",
       " 'basic_CNN.h5',\n",
       " 'basic_CNN.png',\n",
       " 'basic_CNN_v2.h5',\n",
       " 'basic_CNN_v2.png',\n",
       " 'basic_CNN_v2_BN.h5',\n",
       " 'basic_CNN_v2_BN.png',\n",
       " 'basic_CNN_v2_BN_LR.h5',\n",
       " 'basic_CNN_v2_BN_LR.png',\n",
       " 'basic_CNN_v2_DO.h5',\n",
       " 'basic_CNN_v2_DO.png',\n",
       " 'basic_CNN_v2_DO_LR.h5',\n",
       " 'basic_CNN_v2_DO_LR.png',\n",
       " 'normalized_samplealex_net_trasfer.png',\n",
       " 'normalized_samplealex_net_trasfer_BE.png',\n",
       " 'normalized_samplealex_net_trasfer_BE_LR.png',\n",
       " 'normalized_samplealex_net_trasfer_v2.png',\n",
       " 'normalized_samplebasic_CNN_v2_BN_LR.png',\n",
       " 'normalized_samplebasic_CNN_v2_DO_LR.png']"
      ]
     },
     "execution_count": 9,
     "metadata": {},
     "output_type": "execute_result"
    }
   ],
   "source": [
    "os.listdir(model_location)"
   ]
  },
  {
   "cell_type": "code",
   "execution_count": 10,
   "metadata": {},
   "outputs": [],
   "source": [
    "IMG_SIZE = input_.shape[1]\n",
    "IMG_SIZE2 = input_.shape[2]"
   ]
  },
  {
   "cell_type": "code",
   "execution_count": 11,
   "metadata": {},
   "outputs": [],
   "source": [
    "models_ = training_models.automated_model_building"
   ]
  },
  {
   "cell_type": "code",
   "execution_count": 12,
   "metadata": {},
   "outputs": [],
   "source": [
    "target = np.array(target['target'])"
   ]
  },
  {
   "cell_type": "code",
   "execution_count": 13,
   "metadata": {},
   "outputs": [],
   "source": [
    "X_train, X_test, y_train, y_test = train_test_split(input_, target, test_size=0.2, random_state=42)"
   ]
  },
  {
   "cell_type": "code",
   "execution_count": 14,
   "metadata": {},
   "outputs": [
    {
     "data": {
      "text/plain": [
       "(1600, 480, 640)"
      ]
     },
     "execution_count": 14,
     "metadata": {},
     "output_type": "execute_result"
    }
   ],
   "source": [
    "X_train.shape"
   ]
  },
  {
   "cell_type": "code",
   "execution_count": 15,
   "metadata": {},
   "outputs": [],
   "source": [
    "X_train = np.expand_dims(X_train, axis=3)\n",
    "X_test = np.expand_dims(X_test, axis=3)"
   ]
  },
  {
   "cell_type": "code",
   "execution_count": 16,
   "metadata": {},
   "outputs": [
    {
     "data": {
      "text/plain": [
       "(1600, 480, 640, 1)"
      ]
     },
     "execution_count": 16,
     "metadata": {},
     "output_type": "execute_result"
    }
   ],
   "source": [
    "X_train.shape"
   ]
  },
  {
   "cell_type": "code",
   "execution_count": 17,
   "metadata": {},
   "outputs": [],
   "source": [
    "del input_"
   ]
  },
  {
   "cell_type": "code",
   "execution_count": 18,
   "metadata": {},
   "outputs": [],
   "source": [
    "val_loss_dict = ['placeholder',100000000]\n",
    "to_test = []"
   ]
  },
  {
   "cell_type": "code",
   "execution_count": 19,
   "metadata": {},
   "outputs": [],
   "source": [
    "def data_Generator():\n",
    "    while True:\n",
    "        for i in range(0,len(X_train) // 100):\n",
    "            time.sleep(0.01)\n",
    "            yield  X_train[i*25:(i+1)*25], y_train[i*25:(i+1)*25]"
   ]
  },
  {
   "cell_type": "code",
   "execution_count": 20,
   "metadata": {},
   "outputs": [],
   "source": [
    "filter_size = [128, 256]\n",
    "kernel_size = [(11,11)]\n",
    "stride_size = [(3,3), (2,2)]"
   ]
  },
  {
   "cell_type": "code",
   "execution_count": 21,
   "metadata": {},
   "outputs": [],
   "source": [
    "filter_size_2 = [128, 256]\n",
    "kernel_size_2 = [(8,8), (4,4)]\n",
    "stride_size_2 = [(2,2), (1,1)]"
   ]
  },
  {
   "cell_type": "code",
   "execution_count": 22,
   "metadata": {},
   "outputs": [],
   "source": [
    "a = list(product(filter_size, kernel_size, stride_size))"
   ]
  },
  {
   "cell_type": "code",
   "execution_count": 23,
   "metadata": {},
   "outputs": [],
   "source": [
    "b = list(product(filter_size_2, kernel_size_2, stride_size_2))"
   ]
  },
  {
   "cell_type": "code",
   "execution_count": 24,
   "metadata": {},
   "outputs": [],
   "source": [
    "to_test = list(product(a,b))"
   ]
  },
  {
   "cell_type": "code",
   "execution_count": 25,
   "metadata": {},
   "outputs": [
    {
     "data": {
      "text/plain": [
       "[((128, (11, 11), (3, 3)), (128, (8, 8), (2, 2))),\n",
       " ((128, (11, 11), (3, 3)), (128, (8, 8), (1, 1))),\n",
       " ((128, (11, 11), (3, 3)), (128, (4, 4), (2, 2))),\n",
       " ((128, (11, 11), (3, 3)), (128, (4, 4), (1, 1))),\n",
       " ((128, (11, 11), (3, 3)), (256, (8, 8), (2, 2))),\n",
       " ((128, (11, 11), (3, 3)), (256, (8, 8), (1, 1))),\n",
       " ((128, (11, 11), (3, 3)), (256, (4, 4), (2, 2))),\n",
       " ((128, (11, 11), (3, 3)), (256, (4, 4), (1, 1))),\n",
       " ((128, (11, 11), (2, 2)), (128, (8, 8), (2, 2))),\n",
       " ((128, (11, 11), (2, 2)), (128, (8, 8), (1, 1))),\n",
       " ((128, (11, 11), (2, 2)), (128, (4, 4), (2, 2))),\n",
       " ((128, (11, 11), (2, 2)), (128, (4, 4), (1, 1))),\n",
       " ((128, (11, 11), (2, 2)), (256, (8, 8), (2, 2))),\n",
       " ((128, (11, 11), (2, 2)), (256, (8, 8), (1, 1))),\n",
       " ((128, (11, 11), (2, 2)), (256, (4, 4), (2, 2))),\n",
       " ((128, (11, 11), (2, 2)), (256, (4, 4), (1, 1))),\n",
       " ((256, (11, 11), (3, 3)), (128, (8, 8), (2, 2))),\n",
       " ((256, (11, 11), (3, 3)), (128, (8, 8), (1, 1))),\n",
       " ((256, (11, 11), (3, 3)), (128, (4, 4), (2, 2))),\n",
       " ((256, (11, 11), (3, 3)), (128, (4, 4), (1, 1))),\n",
       " ((256, (11, 11), (3, 3)), (256, (8, 8), (2, 2))),\n",
       " ((256, (11, 11), (3, 3)), (256, (8, 8), (1, 1))),\n",
       " ((256, (11, 11), (3, 3)), (256, (4, 4), (2, 2))),\n",
       " ((256, (11, 11), (3, 3)), (256, (4, 4), (1, 1))),\n",
       " ((256, (11, 11), (2, 2)), (128, (8, 8), (2, 2))),\n",
       " ((256, (11, 11), (2, 2)), (128, (8, 8), (1, 1))),\n",
       " ((256, (11, 11), (2, 2)), (128, (4, 4), (2, 2))),\n",
       " ((256, (11, 11), (2, 2)), (128, (4, 4), (1, 1))),\n",
       " ((256, (11, 11), (2, 2)), (256, (8, 8), (2, 2))),\n",
       " ((256, (11, 11), (2, 2)), (256, (8, 8), (1, 1))),\n",
       " ((256, (11, 11), (2, 2)), (256, (4, 4), (2, 2))),\n",
       " ((256, (11, 11), (2, 2)), (256, (4, 4), (1, 1)))]"
      ]
     },
     "execution_count": 25,
     "metadata": {},
     "output_type": "execute_result"
    }
   ],
   "source": [
    "to_test"
   ]
  },
  {
   "cell_type": "code",
   "execution_count": 26,
   "metadata": {},
   "outputs": [
    {
     "data": {
      "text/plain": [
       "((128, (11, 11), (3, 3)), (128, (8, 8), (2, 2)))"
      ]
     },
     "execution_count": 26,
     "metadata": {},
     "output_type": "execute_result"
    }
   ],
   "source": [
    "to_test[0]"
   ]
  },
  {
   "cell_type": "code",
   "execution_count": null,
   "metadata": {},
   "outputs": [],
   "source": []
  },
  {
   "cell_type": "code",
   "execution_count": 27,
   "metadata": {},
   "outputs": [],
   "source": [
    "def auto_train_model(model_params):        \n",
    "    #filepath = model_location + method + '.h5'\n",
    "    \n",
    "    history = 0\n",
    "    model = 0\n",
    "    \n",
    "    es_callback = EarlyStopping(monitor='mse', patience=4)\n",
    "    #checkpoint = ModelCheckpoint(filepath, monitor='val_mse', save_best_only=True, mode='min')\n",
    "    \n",
    "    model = models_.model_builder(IMG_SIZE, IMG_SIZE2, model_params)\n",
    "\n",
    "    model.compile(optimizer='ADAM', loss='mse', metrics=['mse'])\n",
    "    try:\n",
    "        history = model.fit_generator(data_Generator(), steps_per_epoch=25, epochs=500,  callbacks=[es_callback], verbose=0, validation_data=(X_test, y_test))\n",
    "        \n",
    "        if val_loss_dict[1] > min(history.history['val_mse']):\n",
    "            val_loss_dict[0] = model_params\n",
    "            val_loss_dict[1] = min(history.history['val_mse'])\n",
    "\n",
    "    except:\n",
    "        print ('ERROR on model: ' + str(model_params))\n",
    "        \n",
    "    if history in locals():\n",
    "        del history\n",
    "    if model in locals():\n",
    "        del model"
   ]
  },
  {
   "cell_type": "code",
   "execution_count": 28,
   "metadata": {},
   "outputs": [
    {
     "name": "stdout",
     "output_type": "stream",
     "text": [
      "ERROR on model: ((256, (11, 11), (2, 2)), (256, (8, 8), (1, 1)))\n",
      "ERROR on model: ((256, (11, 11), (2, 2)), (256, (4, 4), (1, 1)))\n"
     ]
    }
   ],
   "source": [
    "for x in to_test:\n",
    "    auto_train_model(x)"
   ]
  },
  {
   "cell_type": "code",
   "execution_count": 29,
   "metadata": {},
   "outputs": [
    {
     "data": {
      "text/plain": [
       "[((128, (11, 11), (3, 3)), (128, (4, 4), (2, 2))), 15.647869110107422]"
      ]
     },
     "execution_count": 29,
     "metadata": {},
     "output_type": "execute_result"
    }
   ],
   "source": [
    "val_loss_dict"
   ]
  },
  {
   "cell_type": "code",
   "execution_count": 31,
   "metadata": {},
   "outputs": [],
   "source": [
    "with open('output.txt', 'w') as file:  # Use file to refer to the file object\n",
    "    file.write(str(val_loss_dict))"
   ]
  }
 ],
 "metadata": {
  "kernelspec": {
   "display_name": "Python 3",
   "language": "python",
   "name": "python3"
  },
  "language_info": {
   "codemirror_mode": {
    "name": "ipython",
    "version": 3
   },
   "file_extension": ".py",
   "mimetype": "text/x-python",
   "name": "python",
   "nbconvert_exporter": "python",
   "pygments_lexer": "ipython3",
   "version": "3.7.4"
  }
 },
 "nbformat": 4,
 "nbformat_minor": 1
}
