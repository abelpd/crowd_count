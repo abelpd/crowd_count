{
 "cells": [
  {
   "cell_type": "code",
   "execution_count": 1,
   "metadata": {},
   "outputs": [
    {
     "name": "stderr",
     "output_type": "stream",
     "text": [
      "Using TensorFlow backend.\n"
     ]
    }
   ],
   "source": [
    "from skimage.color import rgb2hsv\n",
    "#from keras.preprocessing.image import ImageDataGenerator, array_to_img, img_to_array, load_img\n",
    "import keras\n",
    "import seaborn as sns\n",
    "import pickle as pkl\n",
    "import cv2\n",
    "from matplotlib import pyplot\n",
    "from keras.callbacks import ModelCheckpoint\n",
    "from keras import backend as K\n",
    "import tensorflow as tf\n",
    "from keras.utils import to_categorical\n",
    "from keras.models import Sequential\n",
    "from keras.layers import Dense\n",
    "from keras.layers import Conv2D\n",
    "from keras.layers import MaxPooling2D\n",
    "from keras.layers import BatchNormalization\n",
    "from keras.layers import Dropout\n",
    "from keras.layers import Flatten\n",
    "from keras.layers import Lambda\n",
    "from keras.callbacks import EarlyStopping\n",
    "from sklearn.model_selection import train_test_split\n",
    "from keras.layers import SpatialDropout2D\n",
    "from contextlib import redirect_stdout\n",
    "import numpy as np\n",
    "import matplotlib.pyplot as plt\n",
    "import pandas as pd\n",
    "import os\n",
    "import re\n",
    "import copy\n",
    "import time\n",
    "import training_models\n",
    "import types\n",
    "import inspect"
   ]
  },
  {
   "cell_type": "code",
   "execution_count": 2,
   "metadata": {},
   "outputs": [
    {
     "data": {
      "text/plain": [
       "['/job:localhost/replica:0/task:0/device:GPU:0']"
      ]
     },
     "execution_count": 2,
     "metadata": {},
     "output_type": "execute_result"
    }
   ],
   "source": [
    "# double checking to ensure gpu is enabled for training\n",
    "K.tensorflow_backend._get_available_gpus()"
   ]
  },
  {
   "cell_type": "code",
   "execution_count": 3,
   "metadata": {},
   "outputs": [
    {
     "data": {
      "text/plain": [
       "'2.0.0'"
      ]
     },
     "execution_count": 3,
     "metadata": {},
     "output_type": "execute_result"
    }
   ],
   "source": [
    "tf.__version__"
   ]
  },
  {
   "cell_type": "code",
   "execution_count": 4,
   "metadata": {},
   "outputs": [],
   "source": [
    "config = tf.compat.v1.ConfigProto()\n",
    "config.gpu_options.allow_growth = True\n",
    "session = tf.compat.v1.Session(config=config)"
   ]
  },
  {
   "cell_type": "code",
   "execution_count": 5,
   "metadata": {},
   "outputs": [],
   "source": [
    "cwd = os.getcwd()"
   ]
  },
  {
   "cell_type": "code",
   "execution_count": 6,
   "metadata": {},
   "outputs": [
    {
     "data": {
      "text/plain": [
       "['count_.csv', 'frames']"
      ]
     },
     "execution_count": 6,
     "metadata": {},
     "output_type": "execute_result"
    }
   ],
   "source": [
    "os.listdir(cwd+ '\\\\color_data')"
   ]
  },
  {
   "cell_type": "code",
   "execution_count": 7,
   "metadata": {},
   "outputs": [],
   "source": [
    "target = pd.read_csv(cwd + '\\\\data\\\\count_.csv', names=['target'])"
   ]
  },
  {
   "cell_type": "code",
   "execution_count": 8,
   "metadata": {},
   "outputs": [
    {
     "data": {
      "text/html": [
       "<div>\n",
       "<style scoped>\n",
       "    .dataframe tbody tr th:only-of-type {\n",
       "        vertical-align: middle;\n",
       "    }\n",
       "\n",
       "    .dataframe tbody tr th {\n",
       "        vertical-align: top;\n",
       "    }\n",
       "\n",
       "    .dataframe thead th {\n",
       "        text-align: right;\n",
       "    }\n",
       "</style>\n",
       "<table border=\"1\" class=\"dataframe\">\n",
       "  <thead>\n",
       "    <tr style=\"text-align: right;\">\n",
       "      <th></th>\n",
       "      <th>target</th>\n",
       "    </tr>\n",
       "  </thead>\n",
       "  <tbody>\n",
       "    <tr>\n",
       "      <td>0</td>\n",
       "      <td>29</td>\n",
       "    </tr>\n",
       "    <tr>\n",
       "      <td>1</td>\n",
       "      <td>30</td>\n",
       "    </tr>\n",
       "    <tr>\n",
       "      <td>2</td>\n",
       "      <td>35</td>\n",
       "    </tr>\n",
       "    <tr>\n",
       "      <td>3</td>\n",
       "      <td>31</td>\n",
       "    </tr>\n",
       "    <tr>\n",
       "      <td>4</td>\n",
       "      <td>26</td>\n",
       "    </tr>\n",
       "  </tbody>\n",
       "</table>\n",
       "</div>"
      ],
      "text/plain": [
       "   target\n",
       "0      29\n",
       "1      30\n",
       "2      35\n",
       "3      31\n",
       "4      26"
      ]
     },
     "execution_count": 8,
     "metadata": {},
     "output_type": "execute_result"
    }
   ],
   "source": [
    "target.head()"
   ]
  },
  {
   "cell_type": "code",
   "execution_count": 9,
   "metadata": {},
   "outputs": [],
   "source": [
    "input_ = np.append(pkl.load(open(r'C:\\Users\\abelp\\machine_learning\\crowd_count\\data\\final_input_aj_1.pkl', 'rb')),\n",
    "                  pkl.load(open(r'C:\\Users\\abelp\\machine_learning\\crowd_count\\data\\final_input_aj_2.pkl', 'rb')), axis=0)"
   ]
  },
  {
   "cell_type": "code",
   "execution_count": 10,
   "metadata": {},
   "outputs": [],
   "source": [
    "model_location = 'C:\\\\Users\\\\abelp\\\\machine_learning\\\\crowd_count\\\\models\\\\'"
   ]
  },
  {
   "cell_type": "code",
   "execution_count": 11,
   "metadata": {},
   "outputs": [
    {
     "data": {
      "text/plain": [
       "['alex_net_trasfer.h5',\n",
       " 'alex_net_trasfer.png',\n",
       " 'alex_net_trasfer_actual.h5',\n",
       " 'alex_net_trasfer_actual.png',\n",
       " 'alex_net_trasfer_BE.h5',\n",
       " 'alex_net_trasfer_BE.png',\n",
       " 'alex_net_trasfer_BE_LR.h5',\n",
       " 'alex_net_trasfer_BE_LR.png',\n",
       " 'alex_net_trasfer_deep_BE.h5',\n",
       " 'alex_net_trasfer_deep_BE.png',\n",
       " 'alex_net_trasfer_deep_BE_LR.h5',\n",
       " 'alex_net_trasfer_deep_BE_LR.png',\n",
       " 'alex_net_trasfer_DO.h5',\n",
       " 'alex_net_trasfer_DO.png',\n",
       " 'alex_net_trasfer_v2.h5',\n",
       " 'alex_net_trasfer_v2.png',\n",
       " 'augmented_samplealex_net_trasfer_deep_BE_LR.png',\n",
       " 'augmented_samplealex_net_trasfer_v2.png',\n",
       " 'augmented_samplebasic_CNN_v2_BN.png',\n",
       " 'basic_CNN.h5',\n",
       " 'basic_CNN.png',\n",
       " 'basic_CNN_v2.h5',\n",
       " 'basic_CNN_v2.png',\n",
       " 'basic_CNN_v2_BN.h5',\n",
       " 'basic_CNN_v2_BN.png',\n",
       " 'basic_CNN_v2_BN_LR.h5',\n",
       " 'basic_CNN_v2_BN_LR.png',\n",
       " 'basic_CNN_v2_DO.h5',\n",
       " 'basic_CNN_v2_DO.png',\n",
       " 'basic_CNN_v2_DO_LR.h5',\n",
       " 'basic_CNN_v2_DO_LR.png']"
      ]
     },
     "execution_count": 11,
     "metadata": {},
     "output_type": "execute_result"
    }
   ],
   "source": [
    "os.listdir(model_location)"
   ]
  },
  {
   "cell_type": "code",
   "execution_count": 12,
   "metadata": {},
   "outputs": [],
   "source": [
    "IMG_SIZE = input_.shape[1]\n",
    "IMG_SIZE2 = input_.shape[2]"
   ]
  },
  {
   "cell_type": "code",
   "execution_count": 13,
   "metadata": {},
   "outputs": [],
   "source": [
    "models_ = training_models.models_to_train"
   ]
  },
  {
   "cell_type": "code",
   "execution_count": 14,
   "metadata": {},
   "outputs": [],
   "source": [
    "target = np.array(target['target'])"
   ]
  },
  {
   "cell_type": "code",
   "execution_count": 15,
   "metadata": {},
   "outputs": [],
   "source": [
    "X_train, X_test, y_train, y_test = train_test_split(input_, target, test_size=0.2, random_state=42, shuffle=True)"
   ]
  },
  {
   "cell_type": "code",
   "execution_count": 16,
   "metadata": {},
   "outputs": [
    {
     "data": {
      "text/plain": [
       "(1600, 480, 640)"
      ]
     },
     "execution_count": 16,
     "metadata": {},
     "output_type": "execute_result"
    }
   ],
   "source": [
    "X_train.shape"
   ]
  },
  {
   "cell_type": "code",
   "execution_count": 17,
   "metadata": {},
   "outputs": [],
   "source": [
    "X_train = np.expand_dims(X_train, axis=3)\n",
    "X_test = np.expand_dims(X_test, axis=3)"
   ]
  },
  {
   "cell_type": "code",
   "execution_count": 18,
   "metadata": {},
   "outputs": [
    {
     "data": {
      "text/plain": [
       "(1600, 480, 640, 1)"
      ]
     },
     "execution_count": 18,
     "metadata": {},
     "output_type": "execute_result"
    }
   ],
   "source": [
    "X_train.shape"
   ]
  },
  {
   "cell_type": "code",
   "execution_count": 19,
   "metadata": {},
   "outputs": [],
   "source": [
    "del input_"
   ]
  },
  {
   "cell_type": "code",
   "execution_count": 20,
   "metadata": {},
   "outputs": [],
   "source": [
    "val_loss_dict = {}"
   ]
  },
  {
   "cell_type": "code",
   "execution_count": 21,
   "metadata": {},
   "outputs": [],
   "source": [
    "def data_Generator():\n",
    "    while True:\n",
    "        for i in range(0,len(X_train) // 100):\n",
    "            time.sleep(0.01)\n",
    "            yield  X_train[i*15:(i+1)*15], y_train[i*15:(i+1)*15]\n",
    "            \n",
    "def train_model(method):        \n",
    "    filepath = model_location + method + '.h5'\n",
    "    \n",
    "    es_callback = EarlyStopping(monitor='mse', patience=5)\n",
    "    checkpoint = ModelCheckpoint(filepath, monitor='val_mse', save_best_only=True, mode='min')\n",
    "    \n",
    "    model = getattr(models_, method)(IMG_SIZE, IMG_SIZE2)\n",
    "\n",
    "    model.compile(optimizer='ADAM', loss='mse', metrics=['mse'])\n",
    "\n",
    "    with open('C:\\\\Users\\\\abelp\\\\machine_learning\\\\crowd_count\\\\model_summary\\\\' + method + '_summary.txt', 'w') as f:\n",
    "        with redirect_stdout(f):\n",
    "            model.summary()\n",
    "    \n",
    "    history = model.fit_generator(data_Generator(), steps_per_epoch=100, epochs=500,  callbacks=[es_callback, checkpoint], verbose=1, validation_data=(X_test, y_test))\n",
    "    \n",
    "    val_loss_dict[method] = min(history.history['val_mse'])\n",
    "    \n",
    "    plt.figure()\n",
    "    plt.plot(history.history['mse'][1:], label='train')\n",
    "    plt.plot(history.history['val_mse'][1:], label='test')\n",
    "    plt.title('train / test loss - ' + method)\n",
    "    plt.savefig(model_location + method + '.png')\n",
    "\n",
    "    \n",
    "    del history\n",
    "    del model"
   ]
  },
  {
   "cell_type": "code",
   "execution_count": 22,
   "metadata": {},
   "outputs": [],
   "source": [
    "#train_model(\"alex_net_trasfer_deep_BE_LR\")"
   ]
  },
  {
   "cell_type": "code",
   "execution_count": 23,
   "metadata": {},
   "outputs": [
    {
     "name": "stdout",
     "output_type": "stream",
     "text": [
      "Epoch 1/500\n",
      "100/100 [==============================] - 26s 256ms/step - loss: 802.2980 - mse: 802.2983 - val_loss: 72795.4029 - val_mse: 72795.4062\n",
      "Epoch 2/500\n",
      "100/100 [==============================] - 21s 207ms/step - loss: 137.5632 - mse: 137.5633 - val_loss: 3079.2678 - val_mse: 3079.2678\n",
      "Epoch 3/500\n",
      "100/100 [==============================] - 21s 206ms/step - loss: 11.8793 - mse: 11.8793 - val_loss: 77.3623 - val_mse: 77.3623 13s - loss:  - ETA: 11s - - E\n",
      "Epoch 4/500\n",
      "100/100 [==============================] - 21s 206ms/step - loss: 2.9537 - mse: 2.9537 - val_loss: 28.3070 - val_mse: 28.3070\n",
      "Epoch 5/500\n",
      "100/100 [==============================] - 21s 206ms/step - loss: 2.4904 - mse: 2.4904 - val_loss: 21.7332 - val_mse: 21.7332\n",
      "Epoch 6/500\n",
      "100/100 [==============================] - 21s 207ms/step - loss: 5.0473 - mse: 5.0473 - val_loss: 34.8635 - val_mse: 34.8635TA: 1s - loss: 5.0137 - mse: \n",
      "Epoch 7/500\n",
      "100/100 [==============================] - 21s 207ms/step - loss: 4.4870 - mse: 4.4870 - val_loss: 21.9727 - val_mse: 21.9727 - ETA: 7s - loss: 5.487 - ETA: 4s - loss: 5.0542 -  - ETA: 2s - loss: 4.7529 -\n",
      "Epoch 8/500\n",
      "100/100 [==============================] - 22s 219ms/step - loss: 2.3639 - mse: 2.3639 - val_loss: 16.4017 - val_mse: 16.4017\n",
      "Epoch 9/500\n",
      "100/100 [==============================] - 23s 227ms/step - loss: 2.3778 - mse: 2.3778 - val_loss: 15.8516 - val_mse: 15.8516\n",
      "Epoch 10/500\n",
      "100/100 [==============================] - 22s 216ms/step - loss: 2.7036 - mse: 2.7036 - val_loss: 16.4914 - val_mse: 16.4914\n",
      "Epoch 11/500\n",
      "100/100 [==============================] - 22s 218ms/step - loss: 3.7001 - mse: 3.7001 - val_loss: 74.0849 - val_mse: 74.0849.8133 - ms\n",
      "Epoch 12/500\n",
      "100/100 [==============================] - 21s 214ms/step - loss: 3.7277 - mse: 3.7277 - val_loss: 43.9922 - val_mse: 43.9922\n",
      "Epoch 13/500\n",
      "100/100 [==============================] - 21s 210ms/step - loss: 2.8355 - mse: 2.8355 - val_loss: 14.9813 - val_mse: 14.9813\n",
      "Epoch 1/500\n",
      "100/100 [==============================] - 23s 227ms/step - loss: 847.7232 - mse: 847.7231 - val_loss: 61535.8982 - val_mse: 61535.894507 - m\n",
      "Epoch 2/500\n",
      "100/100 [==============================] - 22s 217ms/step - loss: 210.4791 - mse: 210.4791 - val_loss: 1994.2756 - val_mse: 1994.2755\n",
      "Epoch 3/500\n",
      "100/100 [==============================] - 22s 215ms/step - loss: 6.6891 - mse: 6.6891 - val_loss: 502.1147 - val_mse: 502.1147\n",
      "Epoch 4/500\n",
      "100/100 [==============================] - 22s 215ms/step - loss: 6.9227 - mse: 6.9227 - val_loss: 2173.5331 - val_mse: 2173.5330\n",
      "Epoch 5/500\n",
      "100/100 [==============================] - 22s 215ms/step - loss: 3.7742 - mse: 3.7742 - val_loss: 12.8582 - val_mse: 12.8582- ETA:  - ETA: 7s - loss: 3.3 - ETA: 4s - loss:\n",
      "Epoch 6/500\n",
      "100/100 [==============================] - 21s 215ms/step - loss: 3.7320 - mse: 3.7320 - val_loss: 1154.4110 - val_mse: 1154.4109 - loss\n",
      "Epoch 7/500\n",
      "100/100 [==============================] - 21s 215ms/step - loss: 3.4517 - mse: 3.4517 - val_loss: 335.4635 - val_mse: 335.4635\n",
      "Epoch 8/500\n",
      "100/100 [==============================] - 22s 216ms/step - loss: 3.7478 - mse: 3.7478 - val_loss: 1035.5228 - val_mse: 1035.5229\n",
      "Epoch 9/500\n",
      "100/100 [==============================] - 22s 215ms/step - loss: 3.0434 - mse: 3.0434 - val_loss: 623.2238 - val_mse: 623.223846 - mse: 2 - ETA: 2s - loss: 3.0531\n",
      "Epoch 10/500\n",
      "100/100 [==============================] - 21s 213ms/step - loss: 3.6022 - mse: 3.6022 - val_loss: 18.5249 - val_mse: 18.5249\n",
      "Epoch 11/500\n",
      "100/100 [==============================] - 22s 220ms/step - loss: 3.5446 - mse: 3.5446 - val_loss: 44.8494 - val_mse: 44.8494ss: 3.5502 - mse: 3\n",
      "Epoch 12/500\n",
      "100/100 [==============================] - 22s 217ms/step - loss: 3.9153 - mse: 3.9153 - val_loss: 195.3054 - val_mse: 195.3054\n",
      "Epoch 13/500\n",
      "100/100 [==============================] - 23s 226ms/step - loss: 3.1844 - mse: 3.1844 - val_loss: 314.0573 - val_mse: 314.0573- mse: 3. - E\n",
      "Epoch 14/500\n",
      "100/100 [==============================] - 23s 228ms/step - loss: 2.9918 - mse: 2.9918 - val_loss: 99.4876 - val_mse: 99.4876\n",
      "Epoch 15/500\n",
      "100/100 [==============================] - 21s 214ms/step - loss: 3.4959 - mse: 3.4959 - val_loss: 133.7311 - val_mse: 133.7311\n",
      "Epoch 16/500\n",
      "100/100 [==============================] - 24s 238ms/step - loss: 3.5981 - mse: 3.5981 - val_loss: 209.9469 - val_mse: 209.9468\n",
      "Epoch 17/500\n",
      "100/100 [==============================] - 21s 211ms/step - loss: 3.5226 - mse: 3.5226 - val_loss: 16.6355 - val_mse: 16.6355s - loss: 3.4481 - mse: 3.\n",
      "Epoch 18/500\n",
      "100/100 [==============================] - 21s 211ms/step - loss: 3.4902 - mse: 3.4902 - val_loss: 14.1487 - val_mse: 14.1487\n",
      "Epoch 19/500\n",
      "100/100 [==============================] - 21s 213ms/step - loss: 2.8759 - mse: 2.8759 - val_loss: 21.3506 - val_mse: 21.3506\n",
      "Epoch 20/500\n",
      "100/100 [==============================] - 21s 212ms/step - loss: 3.2789 - mse: 3.2789 - val_loss: 96.0884 - val_mse: 96.0884\n",
      "Epoch 21/500\n",
      "100/100 [==============================] - 21s 210ms/step - loss: 3.3592 - mse: 3.3592 - val_loss: 1411.2756 - val_mse: 1411.2756ss: 3.3\n",
      "Epoch 22/500\n",
      "100/100 [==============================] - 21s 211ms/step - loss: 3.5420 - mse: 3.5420 - val_loss: 142.9433 - val_mse: 142.9433-  - ETA: 3s - loss: 3.4083 - mse:  - ETA: 1s - loss: 3.4753 - m\n",
      "Epoch 23/500\n",
      "100/100 [==============================] - 21s 213ms/step - loss: 3.5499 - mse: 3.5499 - val_loss: 288.2434 - val_mse: 288.2435\n",
      "Epoch 24/500\n",
      "100/100 [==============================] - 21s 212ms/step - loss: 3.3973 - mse: 3.3973 - val_loss: 43.4367 - val_mse: 43.4367\n"
     ]
    },
    {
     "data": {
      "image/png": "[encoded data removed]",
      "text/plain": [
       "<Figure size 432x288 with 1 Axes>"
      ]
     },
     "metadata": {
      "needs_background": "light"
     },
     "output_type": "display_data"
    },
    {
     "data": {
      "image/png": "[encoded data removed]",
      "text/plain": [
       "<Figure size 432x288 with 1 Axes>"
      ]
     },
     "metadata": {
      "needs_background": "light"
     },
     "output_type": "display_data"
    }
   ],
   "source": [
    "exec_methods = [\"alex_net_trasfer_BE\", \"alex_net_trasfer_BE_LR\"]\n",
    "#exec_methods = [ \"alex_net_trasfer_BE_LR\"]\n",
    "for method in exec_methods:\n",
    "    train_model(method)"
   ]
  },
  {
   "cell_type": "code",
   "execution_count": 24,
   "metadata": {},
   "outputs": [
    {
     "data": {
      "text/plain": [
       "{'alex_net_trasfer_BE': 14.98133659362793,\n",
       " 'alex_net_trasfer_BE_LR': 12.85818862915039}"
      ]
     },
     "execution_count": 24,
     "metadata": {},
     "output_type": "execute_result"
    }
   ],
   "source": [
    "val_loss_dict"
   ]
  }
 ],
 "metadata": {
  "kernelspec": {
   "display_name": "Python 3",
   "language": "python",
   "name": "python3"
  },
  "language_info": {
   "codemirror_mode": {
    "name": "ipython",
    "version": 3
   },
   "file_extension": ".py",
   "mimetype": "text/x-python",
   "name": "python",
   "nbconvert_exporter": "python",
   "pygments_lexer": "ipython3",
   "version": "3.7.4"
  }
 },
 "nbformat": 4,
 "nbformat_minor": 1
}
