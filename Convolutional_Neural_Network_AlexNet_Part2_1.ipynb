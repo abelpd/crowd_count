{
 "cells": [
  {
   "cell_type": "code",
   "execution_count": 1,
   "metadata": {},
   "outputs": [
    {
     "name": "stderr",
     "output_type": "stream",
     "text": [
      "Using TensorFlow backend.\n"
     ]
    }
   ],
   "source": [
    "from skimage.color import rgb2hsv\n",
    "#from keras.preprocessing.image import ImageDataGenerator, array_to_img, img_to_array, load_img\n",
    "import keras\n",
    "import seaborn as sns\n",
    "import pickle as pkl\n",
    "import cv2\n",
    "from matplotlib import pyplot\n",
    "from keras.callbacks import ModelCheckpoint\n",
    "from keras import backend as K\n",
    "import tensorflow as tf\n",
    "from keras.utils import to_categorical\n",
    "from keras.models import Sequential\n",
    "from keras.layers import Dense\n",
    "from keras.layers import Conv2D\n",
    "from keras.layers import MaxPooling2D\n",
    "from keras.layers import BatchNormalization\n",
    "from keras.layers import Dropout\n",
    "from keras.layers import Flatten\n",
    "from keras.layers import Lambda\n",
    "from keras.callbacks import EarlyStopping\n",
    "from sklearn.model_selection import train_test_split\n",
    "from keras.layers import SpatialDropout2D\n",
    "from contextlib import redirect_stdout\n",
    "import numpy as np\n",
    "import matplotlib.pyplot as plt\n",
    "import pandas as pd\n",
    "import os\n",
    "import re\n",
    "import copy\n",
    "import time\n",
    "import training_models\n",
    "import types\n",
    "import inspect"
   ]
  },
  {
   "cell_type": "code",
   "execution_count": 2,
   "metadata": {},
   "outputs": [
    {
     "data": {
      "text/plain": [
       "['/job:localhost/replica:0/task:0/device:GPU:0']"
      ]
     },
     "execution_count": 2,
     "metadata": {},
     "output_type": "execute_result"
    }
   ],
   "source": [
    "# double checking to ensure gpu is enabled for training\n",
    "K.tensorflow_backend._get_available_gpus()"
   ]
  },
  {
   "cell_type": "code",
   "execution_count": 3,
   "metadata": {},
   "outputs": [
    {
     "data": {
      "text/plain": [
       "'2.0.0'"
      ]
     },
     "execution_count": 3,
     "metadata": {},
     "output_type": "execute_result"
    }
   ],
   "source": [
    "tf.__version__"
   ]
  },
  {
   "cell_type": "code",
   "execution_count": 4,
   "metadata": {},
   "outputs": [],
   "source": [
    "config = tf.compat.v1.ConfigProto()\n",
    "config.gpu_options.allow_growth = True\n",
    "session = tf.compat.v1.Session(config=config)"
   ]
  },
  {
   "cell_type": "code",
   "execution_count": 5,
   "metadata": {},
   "outputs": [],
   "source": [
    "cwd = os.getcwd()"
   ]
  },
  {
   "cell_type": "code",
   "execution_count": 6,
   "metadata": {},
   "outputs": [
    {
     "data": {
      "text/plain": [
       "['count_.csv', 'frames']"
      ]
     },
     "execution_count": 6,
     "metadata": {},
     "output_type": "execute_result"
    }
   ],
   "source": [
    "os.listdir(cwd+ '\\\\color_data')"
   ]
  },
  {
   "cell_type": "code",
   "execution_count": 7,
   "metadata": {},
   "outputs": [],
   "source": [
    "target = pd.read_csv(cwd + '\\\\data\\\\count_.csv', names=['target'])"
   ]
  },
  {
   "cell_type": "code",
   "execution_count": 8,
   "metadata": {},
   "outputs": [
    {
     "data": {
      "text/html": [
       "<div>\n",
       "<style scoped>\n",
       "    .dataframe tbody tr th:only-of-type {\n",
       "        vertical-align: middle;\n",
       "    }\n",
       "\n",
       "    .dataframe tbody tr th {\n",
       "        vertical-align: top;\n",
       "    }\n",
       "\n",
       "    .dataframe thead th {\n",
       "        text-align: right;\n",
       "    }\n",
       "</style>\n",
       "<table border=\"1\" class=\"dataframe\">\n",
       "  <thead>\n",
       "    <tr style=\"text-align: right;\">\n",
       "      <th></th>\n",
       "      <th>target</th>\n",
       "    </tr>\n",
       "  </thead>\n",
       "  <tbody>\n",
       "    <tr>\n",
       "      <td>0</td>\n",
       "      <td>29</td>\n",
       "    </tr>\n",
       "    <tr>\n",
       "      <td>1</td>\n",
       "      <td>30</td>\n",
       "    </tr>\n",
       "    <tr>\n",
       "      <td>2</td>\n",
       "      <td>35</td>\n",
       "    </tr>\n",
       "    <tr>\n",
       "      <td>3</td>\n",
       "      <td>31</td>\n",
       "    </tr>\n",
       "    <tr>\n",
       "      <td>4</td>\n",
       "      <td>26</td>\n",
       "    </tr>\n",
       "  </tbody>\n",
       "</table>\n",
       "</div>"
      ],
      "text/plain": [
       "   target\n",
       "0      29\n",
       "1      30\n",
       "2      35\n",
       "3      31\n",
       "4      26"
      ]
     },
     "execution_count": 8,
     "metadata": {},
     "output_type": "execute_result"
    }
   ],
   "source": [
    "target.head()"
   ]
  },
  {
   "cell_type": "code",
   "execution_count": 9,
   "metadata": {},
   "outputs": [],
   "source": [
    "input_ = np.append(pkl.load(open(r'C:\\Users\\abelp\\machine_learning\\crowd_count\\data\\final_input_aj_1.pkl', 'rb')),\n",
    "                  pkl.load(open(r'C:\\Users\\abelp\\machine_learning\\crowd_count\\data\\final_input_aj_2.pkl', 'rb')), axis=0)"
   ]
  },
  {
   "cell_type": "code",
   "execution_count": 10,
   "metadata": {},
   "outputs": [],
   "source": [
    "model_location = 'C:\\\\Users\\\\abelp\\\\machine_learning\\\\crowd_count\\\\models\\\\'"
   ]
  },
  {
   "cell_type": "code",
   "execution_count": 11,
   "metadata": {},
   "outputs": [
    {
     "data": {
      "text/plain": [
       "['alex_net_trasfer.h5',\n",
       " 'alex_net_trasfer.png',\n",
       " 'alex_net_trasfer_actual.h5',\n",
       " 'alex_net_trasfer_actual.png',\n",
       " 'alex_net_trasfer_deep_BE.h5',\n",
       " 'alex_net_trasfer_deep_BE.png',\n",
       " 'alex_net_trasfer_deep_BE_LR.h5',\n",
       " 'alex_net_trasfer_deep_BE_LR.png',\n",
       " 'alex_net_trasfer_v2.h5',\n",
       " 'alex_net_trasfer_v2.png',\n",
       " 'augmented_samplealex_net_trasfer_deep_BE_LR.png',\n",
       " 'augmented_samplealex_net_trasfer_v2.png',\n",
       " 'augmented_samplebasic_CNN_v2_BN.png',\n",
       " 'basic_CNN.h5',\n",
       " 'basic_CNN.png',\n",
       " 'basic_CNN_v2.h5',\n",
       " 'basic_CNN_v2.png',\n",
       " 'basic_CNN_v2_BN.h5',\n",
       " 'basic_CNN_v2_BN.png',\n",
       " 'basic_CNN_v2_BN_LR.h5',\n",
       " 'basic_CNN_v2_BN_LR.png',\n",
       " 'basic_CNN_v2_DO.h5',\n",
       " 'basic_CNN_v2_DO.png',\n",
       " 'basic_CNN_v2_DO_LR.h5',\n",
       " 'basic_CNN_v2_DO_LR.png']"
      ]
     },
     "execution_count": 11,
     "metadata": {},
     "output_type": "execute_result"
    }
   ],
   "source": [
    "os.listdir(model_location)"
   ]
  },
  {
   "cell_type": "code",
   "execution_count": 12,
   "metadata": {},
   "outputs": [],
   "source": [
    "IMG_SIZE = input_.shape[1]\n",
    "IMG_SIZE2 = input_.shape[2]"
   ]
  },
  {
   "cell_type": "code",
   "execution_count": 13,
   "metadata": {},
   "outputs": [],
   "source": [
    "models_ = training_models.models_to_train"
   ]
  },
  {
   "cell_type": "code",
   "execution_count": 14,
   "metadata": {},
   "outputs": [],
   "source": [
    "target = np.array(target['target'])"
   ]
  },
  {
   "cell_type": "code",
   "execution_count": 15,
   "metadata": {},
   "outputs": [],
   "source": [
    "X_train, X_test, y_train, y_test = train_test_split(input_, target, test_size=0.2, random_state=42, shuffle=True)"
   ]
  },
  {
   "cell_type": "code",
   "execution_count": 16,
   "metadata": {},
   "outputs": [
    {
     "data": {
      "text/plain": [
       "(1600, 480, 640)"
      ]
     },
     "execution_count": 16,
     "metadata": {},
     "output_type": "execute_result"
    }
   ],
   "source": [
    "X_train.shape"
   ]
  },
  {
   "cell_type": "code",
   "execution_count": 17,
   "metadata": {},
   "outputs": [],
   "source": [
    "X_train = np.expand_dims(X_train, axis=3)\n",
    "X_test = np.expand_dims(X_test, axis=3)"
   ]
  },
  {
   "cell_type": "code",
   "execution_count": 18,
   "metadata": {},
   "outputs": [
    {
     "data": {
      "text/plain": [
       "(1600, 480, 640, 1)"
      ]
     },
     "execution_count": 18,
     "metadata": {},
     "output_type": "execute_result"
    }
   ],
   "source": [
    "X_train.shape"
   ]
  },
  {
   "cell_type": "code",
   "execution_count": 19,
   "metadata": {},
   "outputs": [],
   "source": [
    "del input_"
   ]
  },
  {
   "cell_type": "code",
   "execution_count": 20,
   "metadata": {},
   "outputs": [],
   "source": [
    "val_loss_dict = {}"
   ]
  },
  {
   "cell_type": "code",
   "execution_count": 21,
   "metadata": {},
   "outputs": [],
   "source": [
    "def data_Generator():\n",
    "    while True:\n",
    "        for i in range(0,len(X_train) // 100):\n",
    "            time.sleep(0.01)\n",
    "            yield  X_train[i*15:(i+1)*15], y_train[i*15:(i+1)*15]\n",
    "            \n",
    "def train_model(method):        \n",
    "    filepath = model_location + method + '.h5'\n",
    "    \n",
    "    es_callback = EarlyStopping(monitor='mse', patience=5)\n",
    "    checkpoint = ModelCheckpoint(filepath, monitor='val_mse', save_best_only=True, mode='min')\n",
    "    \n",
    "    model = getattr(models_, method)(IMG_SIZE, IMG_SIZE2)\n",
    "\n",
    "    model.compile(optimizer='ADAM', loss='mse', metrics=['mse'])\n",
    "\n",
    "    with open('C:\\\\Users\\\\abelp\\\\machine_learning\\\\crowd_count\\\\model_summary\\\\' + method + '_summary.txt', 'w') as f:\n",
    "        with redirect_stdout(f):\n",
    "            model.summary()\n",
    "    \n",
    "    history = model.fit_generator(data_Generator(), steps_per_epoch=100, epochs=500,  callbacks=[es_callback, checkpoint], verbose=1, validation_data=(X_test, y_test))\n",
    "    \n",
    "    val_loss_dict[method] = min(history.history['val_mse'])\n",
    "    \n",
    "    plt.figure()\n",
    "    plt.plot(history.history['mse'][1:], label='train')\n",
    "    plt.plot(history.history['val_mse'][1:], label='test')\n",
    "    plt.title('train / test loss - ' + method)\n",
    "    plt.savefig(model_location + method + '.png')\n",
    "\n",
    "    \n",
    "    del history\n",
    "    del model"
   ]
  },
  {
   "cell_type": "code",
   "execution_count": 22,
   "metadata": {},
   "outputs": [
    {
     "name": "stdout",
     "output_type": "stream",
     "text": [
      "Epoch 1/500\n",
      "100/100 [==============================] - 26s 257ms/step - loss: 813.4833 - mse: 813.4835 - val_loss: 4266041.9781 - val_mse: 4266041.50002:01 - loss: 1006.4037 \n",
      "Epoch 2/500\n",
      "100/100 [==============================] - 24s 242ms/step - loss: 197.8038 - mse: 197.8038 - val_loss: 630618.7164 - val_mse: 630618.7500\n",
      "Epoch 3/500\n",
      "100/100 [==============================] - 26s 260ms/step - loss: 40.5628 - mse: 40.5628 - val_loss: 3320.2095 - val_mse: 3320.2097\n",
      "Epoch 4/500\n",
      "100/100 [==============================] - 26s 264ms/step - loss: 30.6075 - mse: 30.6075 - val_loss: 237.3213 - val_mse: 237.3214\n",
      "Epoch 5/500\n",
      "100/100 [==============================] - 25s 247ms/step - loss: 29.0270 - mse: 29.0270 - val_loss: 38.1167 - val_mse: 38.1167\n",
      "Epoch 6/500\n",
      "100/100 [==============================] - 24s 237ms/step - loss: 24.5887 - mse: 24.5887 - val_loss: 74.5132 - val_mse: 74.5132\n",
      "Epoch 7/500\n",
      "100/100 [==============================] - 22s 222ms/step - loss: 21.9414 - mse: 21.9414 - val_loss: 28.9085 - val_mse: 28.9085\n",
      "Epoch 8/500\n",
      "100/100 [==============================] - 24s 236ms/step - loss: 20.3787 - mse: 20.3787 - val_loss: 37.1703 - val_mse: 37.1703\n",
      "Epoch 9/500\n",
      "100/100 [==============================] - 32s 316ms/step - loss: 20.0698 - mse: 20.0698 - val_loss: 34.1830 - val_mse: 34.1830\n",
      "Epoch 10/500\n",
      "100/100 [==============================] - 30s 296ms/step - loss: 19.4238 - mse: 19.4238 - val_loss: 29.3309 - val_mse: 29.3309\n",
      "Epoch 11/500\n",
      "100/100 [==============================] - 31s 307ms/step - loss: 17.4505 - mse: 17.4505 - val_loss: 38.6381 - val_mse: 38.6381\n",
      "Epoch 12/500\n",
      "100/100 [==============================] - 30s 302ms/step - loss: 16.8759 - mse: 16.8759 - val_loss: 32.4260 - val_mse: 32.4260\n",
      "Epoch 13/500\n",
      "100/100 [==============================] - 30s 304ms/step - loss: 15.8608 - mse: 15.8608 - val_loss: 35.1856 - val_mse: 35.1856\n",
      "Epoch 14/500\n",
      "100/100 [==============================] - 32s 315ms/step - loss: 15.1564 - mse: 15.1564 - val_loss: 160.5676 - val_mse: 160.5676\n",
      "Epoch 15/500\n",
      "100/100 [==============================] - 32s 316ms/step - loss: 15.4318 - mse: 15.4318 - val_loss: 23.1681 - val_mse: 23.1681\n",
      "Epoch 16/500\n",
      "100/100 [==============================] - 32s 319ms/step - loss: 13.3885 - mse: 13.3885 - val_loss: 27.7638 - val_mse: 27.7638\n",
      "Epoch 17/500\n",
      "100/100 [==============================] - 31s 308ms/step - loss: 12.9109 - mse: 12.9109 - val_loss: 26.1277 - val_mse: 26.1277\n",
      "Epoch 18/500\n",
      "100/100 [==============================] - 32s 317ms/step - loss: 14.6526 - mse: 14.6526 - val_loss: 62.2263 - val_mse: 62.2263\n",
      "Epoch 19/500\n",
      "100/100 [==============================] - 31s 308ms/step - loss: 14.6200 - mse: 14.6200 - val_loss: 24.5311 - val_mse: 24.5311\n",
      "Epoch 20/500\n",
      "100/100 [==============================] - 33s 327ms/step - loss: 12.5708 - mse: 12.5708 - val_loss: 938.9022 - val_mse: 938.9022\n",
      "Epoch 21/500\n",
      "100/100 [==============================] - 31s 314ms/step - loss: 12.4680 - mse: 12.4680 - val_loss: 123.1686 - val_mse: 123.1686\n",
      "Epoch 22/500\n",
      "100/100 [==============================] - 32s 316ms/step - loss: 12.1196 - mse: 12.1196 - val_loss: 93.8430 - val_mse: 93.8430\n",
      "Epoch 23/500\n",
      "100/100 [==============================] - 31s 306ms/step - loss: 11.4924 - mse: 11.4924 - val_loss: 776867.1666 - val_mse: 776867.2500\n",
      "Epoch 24/500\n",
      "100/100 [==============================] - 31s 310ms/step - loss: 12.9451 - mse: 12.9451 - val_loss: 15182.4535 - val_mse: 15182.4561\n",
      "Epoch 25/500\n",
      "100/100 [==============================] - 31s 310ms/step - loss: 13.0282 - mse: 13.0282 - val_loss: 136.9371 - val_mse: 136.9370\n",
      "Epoch 26/500\n",
      "100/100 [==============================] - 30s 299ms/step - loss: 10.8529 - mse: 10.8529 - val_loss: 232.3386 - val_mse: 232.3385\n",
      "Epoch 27/500\n",
      "100/100 [==============================] - 31s 314ms/step - loss: 10.2371 - mse: 10.2371 - val_loss: 37.7564 - val_mse: 37.7564\n",
      "Epoch 28/500\n",
      "100/100 [==============================] - 32s 318ms/step - loss: 9.1304 - mse: 9.1304 - val_loss: 874.7285 - val_mse: 874.7285\n",
      "Epoch 29/500\n",
      "100/100 [==============================] - 31s 313ms/step - loss: 9.0154 - mse: 9.0154 - val_loss: 39.5188 - val_mse: 39.5188\n",
      "Epoch 30/500\n",
      "100/100 [==============================] - 31s 314ms/step - loss: 8.6775 - mse: 8.6775 - val_loss: 85.3436 - val_mse: 85.3436\n",
      "Epoch 31/500\n",
      "100/100 [==============================] - 32s 319ms/step - loss: 8.4637 - mse: 8.4637 - val_loss: 29.6999 - val_mse: 29.6999\n",
      "Epoch 32/500\n",
      "100/100 [==============================] - 32s 316ms/step - loss: 8.3342 - mse: 8.3342 - val_loss: 43.3145 - val_mse: 43.3145\n",
      "Epoch 33/500\n",
      "100/100 [==============================] - 32s 320ms/step - loss: 9.4713 - mse: 9.4713 - val_loss: 451584.8869 - val_mse: 451584.9062\n",
      "Epoch 34/500\n",
      "100/100 [==============================] - 32s 321ms/step - loss: 13.5482 - mse: 13.5482 - val_loss: 6611.9180 - val_mse: 6611.9180\n",
      "Epoch 35/500\n",
      "100/100 [==============================] - 31s 311ms/step - loss: 11.9506 - mse: 11.9507 - val_loss: 17790.5331 - val_mse: 17790.5332\n",
      "Epoch 36/500\n",
      "100/100 [==============================] - 30s 304ms/step - loss: 9.1625 - mse: 9.1625 - val_loss: 81.5734 - val_mse: 81.5734\n",
      "Epoch 37/500\n",
      "100/100 [==============================] - 30s 300ms/step - loss: 8.2375 - mse: 8.2375 - val_loss: 48.4616 - val_mse: 48.4616\n",
      "Epoch 38/500\n",
      "100/100 [==============================] - 30s 300ms/step - loss: 7.6828 - mse: 7.6828 - val_loss: 103.5046 - val_mse: 103.5046\n",
      "Epoch 39/500\n",
      "100/100 [==============================] - 30s 297ms/step - loss: 7.9369 - mse: 7.9369 - val_loss: 30.1705 - val_mse: 30.1705\n",
      "Epoch 40/500\n",
      "100/100 [==============================] - 29s 288ms/step - loss: 7.6053 - mse: 7.6053 - val_loss: 39.5356 - val_mse: 39.5356\n",
      "Epoch 41/500\n",
      "100/100 [==============================] - 30s 296ms/step - loss: 6.6152 - mse: 6.6152 - val_loss: 35.6393 - val_mse: 35.6393\n",
      "Epoch 42/500\n",
      "100/100 [==============================] - 30s 300ms/step - loss: 6.6851 - mse: 6.6851 - val_loss: 23.0768 - val_mse: 23.0768\n",
      "Epoch 43/500\n",
      "100/100 [==============================] - 30s 302ms/step - loss: 6.7761 - mse: 6.7762 - val_loss: 29.6186 - val_mse: 29.6186\n",
      "Epoch 44/500\n",
      "100/100 [==============================] - 30s 304ms/step - loss: 6.5103 - mse: 6.5103 - val_loss: 37.2888 - val_mse: 37.2888\n",
      "Epoch 45/500\n",
      "100/100 [==============================] - 30s 305ms/step - loss: 6.6012 - mse: 6.6012 - val_loss: 23.2620 - val_mse: 23.2620\n",
      "Epoch 46/500\n",
      "100/100 [==============================] - 31s 310ms/step - loss: 5.8396 - mse: 5.8396 - val_loss: 31.0841 - val_mse: 31.0841\n",
      "Epoch 47/500\n",
      "100/100 [==============================] - 32s 319ms/step - loss: 5.7501 - mse: 5.7501 - val_loss: 48.9249 - val_mse: 48.9249\n",
      "Epoch 48/500\n",
      "100/100 [==============================] - 31s 311ms/step - loss: 5.8709 - mse: 5.8709 - val_loss: 431.2017 - val_mse: 431.2018\n",
      "Epoch 49/500\n",
      "100/100 [==============================] - 31s 311ms/step - loss: 6.8478 - mse: 6.8478 - val_loss: 1737.2112 - val_mse: 1737.2113\n",
      "Epoch 50/500\n",
      "100/100 [==============================] - 30s 304ms/step - loss: 7.1816 - mse: 7.1816 - val_loss: 349328.8031 - val_mse: 349328.7500\n",
      "Epoch 51/500\n",
      "100/100 [==============================] - 31s 313ms/step - loss: 6.3589 - mse: 6.3589 - val_loss: 36.2414 - val_mse: 36.2414\n",
      "Epoch 52/500\n",
      "100/100 [==============================] - 31s 310ms/step - loss: 5.8252 - mse: 5.8252 - val_loss: 174.6888 - val_mse: 174.6888\n",
      "Epoch 1/500\n",
      "100/100 [==============================] - 29s 291ms/step - loss: 853.1088 - mse: 853.1088 - val_loss: 25.8046 - val_mse: 25.8046\n",
      "Epoch 2/500\n",
      "100/100 [==============================] - 28s 285ms/step - loss: 256.4850 - mse: 256.4850 - val_loss: 90.6777 - val_mse: 90.6777\n",
      "Epoch 3/500\n",
      "100/100 [==============================] - 28s 280ms/step - loss: 98.9697 - mse: 98.9697 - val_loss: 1640.1479 - val_mse: 1640.1481\n",
      "Epoch 4/500\n",
      "100/100 [==============================] - 29s 288ms/step - loss: 75.3504 - mse: 75.3504 - val_loss: 116.5602 - val_mse: 116.5602\n",
      "Epoch 5/500\n",
      "100/100 [==============================] - 28s 283ms/step - loss: 52.5423 - mse: 52.5423 - val_loss: 2873.9658 - val_mse: 2873.9656\n",
      "Epoch 6/500\n",
      "100/100 [==============================] - 29s 288ms/step - loss: 62.5868 - mse: 62.5868 - val_loss: 861.0448 - val_mse: 861.0449\n",
      "Epoch 7/500\n",
      "100/100 [==============================] - 29s 286ms/step - loss: 43.1468 - mse: 43.1468 - val_loss: 43.5685 - val_mse: 43.5684\n",
      "Epoch 8/500\n",
      "100/100 [==============================] - 29s 288ms/step - loss: 33.2576 - mse: 33.2576 - val_loss: 29.7921 - val_mse: 29.7921\n",
      "Epoch 9/500\n",
      "100/100 [==============================] - 29s 289ms/step - loss: 31.4281 - mse: 31.4281 - val_loss: 45.5089 - val_mse: 45.5089\n",
      "Epoch 10/500\n",
      "100/100 [==============================] - 29s 286ms/step - loss: 28.0558 - mse: 28.0558 - val_loss: 1566.9959 - val_mse: 1566.9960\n",
      "Epoch 11/500\n",
      "100/100 [==============================] - 29s 292ms/step - loss: 25.0460 - mse: 25.0460 - val_loss: 315.8457 - val_mse: 315.8458\n",
      "Epoch 12/500\n",
      "100/100 [==============================] - 29s 287ms/step - loss: 28.6327 - mse: 28.6327 - val_loss: 379.7264 - val_mse: 379.7265\n",
      "Epoch 13/500\n",
      "100/100 [==============================] - 28s 284ms/step - loss: 26.6278 - mse: 26.6278 - val_loss: 186.0650 - val_mse: 186.0650\n",
      "Epoch 14/500\n",
      "100/100 [==============================] - 29s 289ms/step - loss: 23.0253 - mse: 23.0252 - val_loss: 270.0815 - val_mse: 270.0815\n",
      "Epoch 15/500\n",
      "100/100 [==============================] - 29s 291ms/step - loss: 23.3822 - mse: 23.3822 - val_loss: 1680.9603 - val_mse: 1680.9602\n",
      "Epoch 16/500\n",
      "100/100 [==============================] - 29s 294ms/step - loss: 21.6404 - mse: 21.6404 - val_loss: 283.7127 - val_mse: 283.7128\n",
      "Epoch 17/500\n",
      "100/100 [==============================] - 29s 293ms/step - loss: 18.9552 - mse: 18.9552 - val_loss: 283.1698 - val_mse: 283.1698\n",
      "Epoch 18/500\n",
      "100/100 [==============================] - 29s 295ms/step - loss: 19.4446 - mse: 19.4446 - val_loss: 434.9196 - val_mse: 434.9196\n",
      "Epoch 19/500\n",
      "100/100 [==============================] - 29s 293ms/step - loss: 18.3865 - mse: 18.3865 - val_loss: 615.3378 - val_mse: 615.3378\n",
      "Epoch 20/500\n",
      "100/100 [==============================] - 22s 221ms/step - loss: 18.6469 - mse: 18.6469 - val_loss: 666631416.4952 - val_mse: 666631360.0000\n",
      "Epoch 21/500\n",
      "100/100 [==============================] - 21s 208ms/step - loss: 54.1375 - mse: 54.1375 - val_loss: 49.3509 - val_mse: 49.3509\n",
      "Epoch 22/500\n",
      "100/100 [==============================] - 23s 225ms/step - loss: 44.8485 - mse: 44.8485 - val_loss: 2007.4097 - val_mse: 2007.4097\n",
      "Epoch 23/500\n",
      "100/100 [==============================] - 21s 215ms/step - loss: 23.7710 - mse: 23.7710 - val_loss: 674.3830 - val_mse: 674.3829\n",
      "Epoch 24/500\n",
      "100/100 [==============================] - 21s 208ms/step - loss: 22.1454 - mse: 22.1454 - val_loss: 593.0144 - val_mse: 593.0144\n"
     ]
    },
    {
     "data": {
      "image/png": "[encoded data removed]",
      "text/plain": [
       "<Figure size 432x288 with 1 Axes>"
      ]
     },
     "metadata": {
      "needs_background": "light"
     },
     "output_type": "display_data"
    },
    {
     "data": {
      "image/png": "[encoded data removed]",
      "text/plain": [
       "<Figure size 432x288 with 1 Axes>"
      ]
     },
     "metadata": {
      "needs_background": "light"
     },
     "output_type": "display_data"
    }
   ],
   "source": [
    "exec_methods = [\"alex_net_trasfer_actual\", \"alex_net_trasfer_DO\"]\n",
    "for method in exec_methods:\n",
    "    train_model(method)"
   ]
  },
  {
   "cell_type": "code",
   "execution_count": 23,
   "metadata": {},
   "outputs": [
    {
     "data": {
      "text/plain": [
       "{'alex_net_trasfer_actual': 23.0767822265625,\n",
       " 'alex_net_trasfer_DO': 25.804553985595703}"
      ]
     },
     "execution_count": 23,
     "metadata": {},
     "output_type": "execute_result"
    }
   ],
   "source": [
    "val_loss_dict"
   ]
  }
 ],
 "metadata": {
  "kernelspec": {
   "display_name": "Python 3",
   "language": "python",
   "name": "python3"
  },
  "language_info": {
   "codemirror_mode": {
    "name": "ipython",
    "version": 3
   },
   "file_extension": ".py",
   "mimetype": "text/x-python",
   "name": "python",
   "nbconvert_exporter": "python",
   "pygments_lexer": "ipython3",
   "version": "3.7.4"
  }
 },
 "nbformat": 4,
 "nbformat_minor": 1
}
