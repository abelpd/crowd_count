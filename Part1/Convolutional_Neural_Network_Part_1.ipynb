{
 "cells": [
  {
   "cell_type": "code",
   "execution_count": 1,
   "metadata": {},
   "outputs": [
    {
     "name": "stderr",
     "output_type": "stream",
     "text": [
      "Using TensorFlow backend.\n"
     ]
    }
   ],
   "source": [
    "from skimage.color import rgb2hsv\n",
    "#from keras.preprocessing.image import ImageDataGenerator, array_to_img, img_to_array, load_img\n",
    "import keras\n",
    "import seaborn as sns\n",
    "import pickle as pkl\n",
    "import cv2\n",
    "from matplotlib import pyplot\n",
    "from keras.callbacks import ModelCheckpoint\n",
    "from keras import backend as K\n",
    "import tensorflow as tf\n",
    "from keras.utils import to_categorical\n",
    "from keras.models import Sequential\n",
    "from keras.layers import Dense\n",
    "from keras.layers import Conv2D\n",
    "from keras.layers import MaxPooling2D\n",
    "from keras.layers import BatchNormalization\n",
    "from keras.layers import Dropout\n",
    "from keras.layers import Flatten\n",
    "from keras.layers import Lambda\n",
    "from keras.callbacks import EarlyStopping\n",
    "from sklearn.model_selection import train_test_split\n",
    "from keras.layers import SpatialDropout2D\n",
    "from contextlib import redirect_stdout\n",
    "import numpy as np\n",
    "import matplotlib.pyplot as plt\n",
    "import pandas as pd\n",
    "import os\n",
    "import re\n",
    "import copy\n",
    "import time\n",
    "import training_models\n",
    "import types\n",
    "import inspect"
   ]
  },
  {
   "cell_type": "code",
   "execution_count": 2,
   "metadata": {},
   "outputs": [
    {
     "data": {
      "text/plain": [
       "['/job:localhost/replica:0/task:0/device:GPU:0']"
      ]
     },
     "execution_count": 2,
     "metadata": {},
     "output_type": "execute_result"
    }
   ],
   "source": [
    "# double checking to ensure gpu is enabled for training\n",
    "K.tensorflow_backend._get_available_gpus()"
   ]
  },
  {
   "cell_type": "code",
   "execution_count": 3,
   "metadata": {},
   "outputs": [],
   "source": [
    "cwd = os.getcwd()"
   ]
  },
  {
   "cell_type": "code",
   "execution_count": 4,
   "metadata": {},
   "outputs": [
    {
     "data": {
      "text/plain": [
       "['count_.csv', 'frames']"
      ]
     },
     "execution_count": 4,
     "metadata": {},
     "output_type": "execute_result"
    }
   ],
   "source": [
    "os.listdir(cwd+ '\\\\color_data')"
   ]
  },
  {
   "cell_type": "code",
   "execution_count": 5,
   "metadata": {},
   "outputs": [],
   "source": [
    "target = pd.read_csv(cwd + '\\\\data\\\\count_.csv', names=['target'])"
   ]
  },
  {
   "cell_type": "code",
   "execution_count": 6,
   "metadata": {},
   "outputs": [
    {
     "data": {
      "text/html": [
       "<div>\n",
       "<style scoped>\n",
       "    .dataframe tbody tr th:only-of-type {\n",
       "        vertical-align: middle;\n",
       "    }\n",
       "\n",
       "    .dataframe tbody tr th {\n",
       "        vertical-align: top;\n",
       "    }\n",
       "\n",
       "    .dataframe thead th {\n",
       "        text-align: right;\n",
       "    }\n",
       "</style>\n",
       "<table border=\"1\" class=\"dataframe\">\n",
       "  <thead>\n",
       "    <tr style=\"text-align: right;\">\n",
       "      <th></th>\n",
       "      <th>target</th>\n",
       "    </tr>\n",
       "  </thead>\n",
       "  <tbody>\n",
       "    <tr>\n",
       "      <td>0</td>\n",
       "      <td>29</td>\n",
       "    </tr>\n",
       "    <tr>\n",
       "      <td>1</td>\n",
       "      <td>30</td>\n",
       "    </tr>\n",
       "    <tr>\n",
       "      <td>2</td>\n",
       "      <td>35</td>\n",
       "    </tr>\n",
       "    <tr>\n",
       "      <td>3</td>\n",
       "      <td>31</td>\n",
       "    </tr>\n",
       "    <tr>\n",
       "      <td>4</td>\n",
       "      <td>26</td>\n",
       "    </tr>\n",
       "  </tbody>\n",
       "</table>\n",
       "</div>"
      ],
      "text/plain": [
       "   target\n",
       "0      29\n",
       "1      30\n",
       "2      35\n",
       "3      31\n",
       "4      26"
      ]
     },
     "execution_count": 6,
     "metadata": {},
     "output_type": "execute_result"
    }
   ],
   "source": [
    "target.head()"
   ]
  },
  {
   "cell_type": "code",
   "execution_count": 7,
   "metadata": {},
   "outputs": [],
   "source": [
    "input_ = np.append(pkl.load(open(r'C:\\Users\\abelp\\machine_learning\\crowd_count\\data\\final_input_aj_1.pkl', 'rb')),\n",
    "                  pkl.load(open(r'C:\\Users\\abelp\\machine_learning\\crowd_count\\data\\final_input_aj_2.pkl', 'rb')), axis=0)"
   ]
  },
  {
   "cell_type": "code",
   "execution_count": 8,
   "metadata": {},
   "outputs": [],
   "source": [
    "model_location = 'C:\\\\Users\\\\abelp\\\\machine_learning\\\\crowd_count\\\\models\\\\'"
   ]
  },
  {
   "cell_type": "code",
   "execution_count": 9,
   "metadata": {},
   "outputs": [
    {
     "data": {
      "text/plain": [
       "['alex_net_trasfer.h5',\n",
       " 'alex_net_trasfer.png',\n",
       " 'alex_net_trasfer_deep.h5',\n",
       " 'alex_net_trasfer_deep.png',\n",
       " 'alex_net_trasfer_deep_BE.h5',\n",
       " 'alex_net_trasfer_deep_BE.png',\n",
       " 'alex_net_trasfer_deep_BE_LR.h5',\n",
       " 'alex_net_trasfer_deep_BE_LR.png',\n",
       " 'alex_net_trasfer_v2.h5',\n",
       " 'alex_net_trasfer_v2.png',\n",
       " 'augmented_samplealex_net_trasfer_deep_BE_LR.png',\n",
       " 'augmented_samplealex_net_trasfer_v2.png',\n",
       " 'augmented_samplebasic_CNN_v2_BN.png',\n",
       " 'basic_CNN.h5',\n",
       " 'basic_CNN.png',\n",
       " 'basic_CNN_v2.h5',\n",
       " 'basic_CNN_v2.png',\n",
       " 'basic_CNN_v2_BN.h5',\n",
       " 'basic_CNN_v2_BN.png',\n",
       " 'basic_CNN_v2_DO.h5',\n",
       " 'basic_CNN_v2_DO.png']"
      ]
     },
     "execution_count": 9,
     "metadata": {},
     "output_type": "execute_result"
    }
   ],
   "source": [
    "os.listdir(model_location)"
   ]
  },
  {
   "cell_type": "code",
   "execution_count": 10,
   "metadata": {},
   "outputs": [],
   "source": [
    "IMG_SIZE = input_.shape[1]\n",
    "IMG_SIZE2 = input_.shape[2]"
   ]
  },
  {
   "cell_type": "code",
   "execution_count": 11,
   "metadata": {},
   "outputs": [],
   "source": [
    "models_ = training_models.models_to_train"
   ]
  },
  {
   "cell_type": "code",
   "execution_count": 12,
   "metadata": {},
   "outputs": [],
   "source": [
    "target = np.array(target['target'])"
   ]
  },
  {
   "cell_type": "code",
   "execution_count": 13,
   "metadata": {},
   "outputs": [],
   "source": [
    "X_train, X_test, y_train, y_test = train_test_split(input_, target, test_size=0.2, random_state=42)"
   ]
  },
  {
   "cell_type": "code",
   "execution_count": 14,
   "metadata": {},
   "outputs": [
    {
     "data": {
      "text/plain": [
       "(1600, 480, 640)"
      ]
     },
     "execution_count": 14,
     "metadata": {},
     "output_type": "execute_result"
    }
   ],
   "source": [
    "X_train.shape"
   ]
  },
  {
   "cell_type": "code",
   "execution_count": 15,
   "metadata": {},
   "outputs": [],
   "source": [
    "X_train = np.expand_dims(X_train, axis=3)\n",
    "X_test = np.expand_dims(X_test, axis=3)"
   ]
  },
  {
   "cell_type": "code",
   "execution_count": 16,
   "metadata": {},
   "outputs": [
    {
     "data": {
      "text/plain": [
       "(1600, 480, 640, 1)"
      ]
     },
     "execution_count": 16,
     "metadata": {},
     "output_type": "execute_result"
    }
   ],
   "source": [
    "X_train.shape"
   ]
  },
  {
   "cell_type": "code",
   "execution_count": 17,
   "metadata": {},
   "outputs": [],
   "source": [
    "del input_"
   ]
  },
  {
   "cell_type": "code",
   "execution_count": 18,
   "metadata": {},
   "outputs": [],
   "source": [
    "val_loss_dict = {}"
   ]
  },
  {
   "cell_type": "code",
   "execution_count": 19,
   "metadata": {},
   "outputs": [],
   "source": [
    "def data_Generator():\n",
    "    while True:\n",
    "        for i in range(0,len(X_train) // 100):\n",
    "            time.sleep(0.01)\n",
    "            yield  X_train[i*25:(i+1)*25], y_train[i*25:(i+1)*25]\n",
    "            \n",
    "def train_model(method):        \n",
    "    filepath = model_location + method + '.h5'\n",
    "    \n",
    "    es_callback = EarlyStopping(monitor='mse', patience=4)\n",
    "    checkpoint = ModelCheckpoint(filepath, monitor='val_mse', save_best_only=True, mode='min')\n",
    "    \n",
    "    model = getattr(models_, method)(IMG_SIZE, IMG_SIZE2)\n",
    "\n",
    "    model.compile(optimizer='ADAM', loss='mse', metrics=['mse'])\n",
    "\n",
    "    with open('C:\\\\Users\\\\abelp\\\\machine_learning\\\\crowd_count\\\\model_summary\\\\' + method + '_summary.txt', 'w') as f:\n",
    "        with redirect_stdout(f):\n",
    "            model.summary()\n",
    "    \n",
    "    history = model.fit_generator(data_Generator(), steps_per_epoch=25, epochs=500,  callbacks=[es_callback, checkpoint], verbose=1, validation_data=(X_test, y_test))\n",
    "    \n",
    "    val_loss_dict[method] = min(history.history['val_mse'])\n",
    "    \n",
    "    plt.figure()\n",
    "    plt.plot(history.history['mse'][1:], label='train')\n",
    "    plt.plot(history.history['val_mse'][1:], label='test')\n",
    "    plt.title('train / test loss - ' + method)\n",
    "    plt.savefig(model_location + method + '.png', transparent=True)\n",
    "    \n",
    "    del history\n",
    "    del model"
   ]
  },
  {
   "cell_type": "code",
   "execution_count": 20,
   "metadata": {},
   "outputs": [
    {
     "name": "stdout",
     "output_type": "stream",
     "text": [
      "Epoch 1/500\n",
      "25/25 [==============================] - 6s 256ms/step - loss: 460.5667 - mse: 460.5666 - val_loss: 53.7638 - val_mse: 53.7638\n",
      "Epoch 2/500\n",
      "25/25 [==============================] - 4s 175ms/step - loss: 47.7012 - mse: 47.7012 - val_loss: 78.6327 - val_mse: 78.6327\n",
      "Epoch 3/500\n",
      "25/25 [==============================] - 4s 174ms/step - loss: 32.2967 - mse: 32.2967 - val_loss: 15.7663 - val_mse: 15.7663\n",
      "Epoch 4/500\n",
      "25/25 [==============================] - 4s 169ms/step - loss: 10.2500 - mse: 10.2500 - val_loss: 26.2902 - val_mse: 26.2902\n",
      "Epoch 5/500\n",
      "25/25 [==============================] - 4s 168ms/step - loss: 11.0578 - mse: 11.0578 - val_loss: 20.7145 - val_mse: 20.7145\n",
      "Epoch 6/500\n",
      "25/25 [==============================] - 4s 169ms/step - loss: 12.8642 - mse: 12.8642 - val_loss: 24.9993 - val_mse: 24.9993\n",
      "Epoch 7/500\n",
      "25/25 [==============================] - 4s 168ms/step - loss: 17.5403 - mse: 17.5403 - val_loss: 37.2069 - val_mse: 37.2069\n",
      "Epoch 8/500\n",
      "25/25 [==============================] - 4s 169ms/step - loss: 24.6844 - mse: 24.6844 - val_loss: 20.0619 - val_mse: 20.0619\n",
      "Epoch 1/500\n",
      "25/25 [==============================] - 5s 186ms/step - loss: 541.3328 - mse: 541.3329 - val_loss: 38.8587 - val_mse: 38.8587\n",
      "Epoch 2/500\n",
      "25/25 [==============================] - 5s 183ms/step - loss: 49.9395 - mse: 49.9395 - val_loss: 39.3198 - val_mse: 39.3198\n",
      "Epoch 3/500\n",
      "25/25 [==============================] - 5s 209ms/step - loss: 28.1491 - mse: 28.1491 - val_loss: 24.8943 - val_mse: 24.8943\n",
      "Epoch 4/500\n",
      "25/25 [==============================] - 4s 176ms/step - loss: 23.9830 - mse: 23.9830 - val_loss: 25.7654 - val_mse: 25.7654\n",
      "Epoch 5/500\n",
      "25/25 [==============================] - 4s 162ms/step - loss: 21.2902 - mse: 21.2902 - val_loss: 20.5958 - val_mse: 20.5958\n",
      "Epoch 6/500\n",
      "25/25 [==============================] - 4s 165ms/step - loss: 19.3535 - mse: 19.3535 - val_loss: 19.4157 - val_mse: 19.4157\n",
      "Epoch 7/500\n",
      "25/25 [==============================] - 4s 175ms/step - loss: 16.5073 - mse: 16.5073 - val_loss: 25.1821 - val_mse: 25.1821\n",
      "Epoch 8/500\n",
      "25/25 [==============================] - 4s 165ms/step - loss: 14.5184 - mse: 14.5184 - val_loss: 17.8888 - val_mse: 17.8888\n",
      "Epoch 9/500\n",
      "25/25 [==============================] - 4s 167ms/step - loss: 13.8228 - mse: 13.8228 - val_loss: 17.3831 - val_mse: 17.3831\n",
      "Epoch 10/500\n",
      "25/25 [==============================] - 4s 158ms/step - loss: 12.6166 - mse: 12.6166 - val_loss: 18.0582 - val_mse: 18.0582\n",
      "Epoch 11/500\n",
      "25/25 [==============================] - 4s 159ms/step - loss: 12.4477 - mse: 12.4477 - val_loss: 17.6405 - val_mse: 17.6405\n",
      "Epoch 12/500\n",
      "25/25 [==============================] - 4s 154ms/step - loss: 11.8203 - mse: 11.8203 - val_loss: 17.6174 - val_mse: 17.6174\n",
      "Epoch 13/500\n",
      "25/25 [==============================] - 4s 155ms/step - loss: 11.1509 - mse: 11.1509 - val_loss: 16.6164 - val_mse: 16.6164\n",
      "Epoch 14/500\n",
      "25/25 [==============================] - 4s 165ms/step - loss: 10.8106 - mse: 10.8106 - val_loss: 16.2062 - val_mse: 16.2062\n",
      "Epoch 15/500\n",
      "25/25 [==============================] - 4s 177ms/step - loss: 10.0346 - mse: 10.0346 - val_loss: 16.3389 - val_mse: 16.3389\n",
      "Epoch 16/500\n",
      "25/25 [==============================] - 4s 171ms/step - loss: 10.2736 - mse: 10.2736 - val_loss: 15.9790 - val_mse: 15.9790\n",
      "Epoch 17/500\n",
      "25/25 [==============================] - 4s 165ms/step - loss: 9.4313 - mse: 9.4313 - val_loss: 16.0498 - val_mse: 16.0498\n",
      "Epoch 18/500\n",
      "25/25 [==============================] - 4s 162ms/step - loss: 9.7512 - mse: 9.7512 - val_loss: 15.9766 - val_mse: 15.9766\n",
      "Epoch 19/500\n",
      "25/25 [==============================] - 4s 165ms/step - loss: 9.0700 - mse: 9.0700 - val_loss: 16.0876 - val_mse: 16.0876\n",
      "Epoch 20/500\n",
      "25/25 [==============================] - 4s 172ms/step - loss: 9.2197 - mse: 9.2197 - val_loss: 14.6614 - val_mse: 14.6614\n",
      "Epoch 21/500\n",
      "25/25 [==============================] - 4s 162ms/step - loss: 8.7694 - mse: 8.7694 - val_loss: 15.4791 - val_mse: 15.4791\n",
      "Epoch 22/500\n",
      "25/25 [==============================] - 4s 174ms/step - loss: 8.4359 - mse: 8.4359 - val_loss: 15.0444 - val_mse: 15.0444\n",
      "Epoch 23/500\n",
      "25/25 [==============================] - 4s 153ms/step - loss: 8.0450 - mse: 8.0450 - val_loss: 15.8126 - val_mse: 15.8126\n",
      "Epoch 24/500\n",
      "25/25 [==============================] - 4s 154ms/step - loss: 7.2979 - mse: 7.2979 - val_loss: 13.3739 - val_mse: 13.3739\n",
      "Epoch 25/500\n",
      "25/25 [==============================] - 4s 155ms/step - loss: 7.0590 - mse: 7.0590 - val_loss: 13.2386 - val_mse: 13.2386\n",
      "Epoch 26/500\n",
      "25/25 [==============================] - 4s 156ms/step - loss: 6.4000 - mse: 6.4000 - val_loss: 12.9519 - val_mse: 12.9519\n",
      "Epoch 27/500\n",
      "25/25 [==============================] - 4s 158ms/step - loss: 6.5007 - mse: 6.5007 - val_loss: 12.7673 - val_mse: 12.7673\n",
      "Epoch 28/500\n",
      "25/25 [==============================] - 4s 157ms/step - loss: 5.8502 - mse: 5.8502 - val_loss: 12.9754 - val_mse: 12.9754\n",
      "Epoch 29/500\n",
      "25/25 [==============================] - 4s 164ms/step - loss: 6.0838 - mse: 6.0838 - val_loss: 12.6148 - val_mse: 12.6148\n",
      "Epoch 30/500\n",
      "25/25 [==============================] - 4s 159ms/step - loss: 5.5855 - mse: 5.5855 - val_loss: 12.5880 - val_mse: 12.5880\n",
      "Epoch 31/500\n",
      "25/25 [==============================] - 4s 159ms/step - loss: 5.4737 - mse: 5.4737 - val_loss: 12.2349 - val_mse: 12.2349\n",
      "Epoch 32/500\n",
      "25/25 [==============================] - 4s 154ms/step - loss: 5.5262 - mse: 5.5262 - val_loss: 11.9489 - val_mse: 11.9489\n",
      "Epoch 33/500\n",
      "25/25 [==============================] - 4s 156ms/step - loss: 4.7709 - mse: 4.7709 - val_loss: 12.3355 - val_mse: 12.3355\n",
      "Epoch 34/500\n",
      "25/25 [==============================] - 4s 154ms/step - loss: 6.1861 - mse: 6.1861 - val_loss: 13.4187 - val_mse: 13.4187\n",
      "Epoch 35/500\n",
      "25/25 [==============================] - 4s 157ms/step - loss: 6.1234 - mse: 6.1234 - val_loss: 15.1069 - val_mse: 15.1069\n",
      "Epoch 36/500\n",
      "25/25 [==============================] - 4s 155ms/step - loss: 5.3489 - mse: 5.3489 - val_loss: 11.4502 - val_mse: 11.4502\n",
      "Epoch 37/500\n",
      "25/25 [==============================] - 4s 157ms/step - loss: 4.7708 - mse: 4.7708 - val_loss: 16.8421 - val_mse: 16.8421\n",
      "Epoch 38/500\n",
      "25/25 [==============================] - 4s 157ms/step - loss: 5.4431 - mse: 5.4431 - val_loss: 11.3475 - val_mse: 11.3475\n",
      "Epoch 39/500\n",
      "25/25 [==============================] - 4s 159ms/step - loss: 6.2961 - mse: 6.2961 - val_loss: 23.8570 - val_mse: 23.8570\n",
      "Epoch 40/500\n",
      "25/25 [==============================] - 4s 158ms/step - loss: 12.2439 - mse: 12.2439 - val_loss: 11.4885 - val_mse: 11.4885\n",
      "Epoch 41/500\n",
      "25/25 [==============================] - 4s 156ms/step - loss: 6.7589 - mse: 6.7589 - val_loss: 18.5010 - val_mse: 18.5010\n",
      "Epoch 1/500\n",
      "25/25 [==============================] - 4s 176ms/step - loss: 1249.2756 - mse: 1249.2755 - val_loss: 1012.6012 - val_mse: 1012.6013\n",
      "Epoch 2/500\n",
      "25/25 [==============================] - 4s 159ms/step - loss: 997.3525 - mse: 997.3526 - val_loss: 999.8117 - val_mse: 999.8116\n",
      "Epoch 3/500\n",
      "25/25 [==============================] - 4s 159ms/step - loss: 985.2521 - mse: 985.2521 - val_loss: 986.1669 - val_mse: 986.1671\n",
      "Epoch 4/500\n",
      "25/25 [==============================] - 4s 170ms/step - loss: 964.9659 - mse: 964.9658 - val_loss: 971.6425 - val_mse: 971.6426\n",
      "Epoch 5/500\n",
      "25/25 [==============================] - 4s 165ms/step - loss: 962.6442 - mse: 962.6442 - val_loss: 955.7881 - val_mse: 955.7883\n",
      "Epoch 6/500\n",
      "25/25 [==============================] - 4s 176ms/step - loss: 929.6628 - mse: 929.6626 - val_loss: 938.0310 - val_mse: 938.0309\n",
      "Epoch 7/500\n",
      "25/25 [==============================] - 4s 169ms/step - loss: 917.9685 - mse: 917.9685 - val_loss: 917.5664 - val_mse: 917.5664\n",
      "Epoch 8/500\n",
      "25/25 [==============================] - 4s 171ms/step - loss: 900.2874 - mse: 900.2874 - val_loss: 893.5617 - val_mse: 893.5618\n",
      "Epoch 9/500\n",
      "25/25 [==============================] - 4s 166ms/step - loss: 866.8729 - mse: 866.8728 - val_loss: 865.0160 - val_mse: 865.0159\n",
      "Epoch 10/500\n",
      "25/25 [==============================] - 4s 161ms/step - loss: 844.0438 - mse: 844.0439 - val_loss: 830.9644 - val_mse: 830.9645\n",
      "Epoch 11/500\n"
     ]
    },
    {
     "name": "stdout",
     "output_type": "stream",
     "text": [
      "25/25 [==============================] - 4s 177ms/step - loss: 803.9592 - mse: 803.9592 - val_loss: 790.5326 - val_mse: 790.5326\n",
      "Epoch 12/500\n",
      "25/25 [==============================] - 4s 165ms/step - loss: 764.5319 - mse: 764.5320 - val_loss: 743.0721 - val_mse: 743.0721\n",
      "Epoch 13/500\n",
      "25/25 [==============================] - 4s 165ms/step - loss: 705.4219 - mse: 705.4220 - val_loss: 688.4731 - val_mse: 688.4731\n",
      "Epoch 14/500\n",
      "25/25 [==============================] - 4s 165ms/step - loss: 656.3341 - mse: 656.3341 - val_loss: 627.0096 - val_mse: 627.0096\n",
      "Epoch 15/500\n",
      "25/25 [==============================] - 4s 173ms/step - loss: 585.3147 - mse: 585.3146 - val_loss: 560.0489 - val_mse: 560.0490\n",
      "Epoch 16/500\n",
      "25/25 [==============================] - 4s 171ms/step - loss: 522.7631 - mse: 522.7631 - val_loss: 489.2612 - val_mse: 489.2612\n",
      "Epoch 17/500\n",
      "25/25 [==============================] - 4s 165ms/step - loss: 450.2722 - mse: 450.2722 - val_loss: 417.3881 - val_mse: 417.3880\n",
      "Epoch 18/500\n",
      "25/25 [==============================] - 4s 172ms/step - loss: 381.5666 - mse: 381.5666 - val_loss: 347.2570 - val_mse: 347.2569\n",
      "Epoch 19/500\n",
      "25/25 [==============================] - 4s 169ms/step - loss: 314.1320 - mse: 314.1320 - val_loss: 281.8399 - val_mse: 281.8399\n",
      "Epoch 20/500\n",
      "25/25 [==============================] - 4s 171ms/step - loss: 250.3025 - mse: 250.3025 - val_loss: 223.7260 - val_mse: 223.7260\n",
      "Epoch 21/500\n",
      "25/25 [==============================] - 4s 165ms/step - loss: 203.9479 - mse: 203.9479 - val_loss: 174.4808 - val_mse: 174.4808\n",
      "Epoch 22/500\n",
      "25/25 [==============================] - 4s 165ms/step - loss: 152.0704 - mse: 152.0704 - val_loss: 135.1104 - val_mse: 135.1104\n",
      "Epoch 23/500\n",
      "25/25 [==============================] - 4s 178ms/step - loss: 123.5722 - mse: 123.5722 - val_loss: 105.0263 - val_mse: 105.0263\n",
      "Epoch 24/500\n",
      "25/25 [==============================] - 4s 164ms/step - loss: 97.3336 - mse: 97.3336 - val_loss: 83.3966 - val_mse: 83.3966\n",
      "Epoch 25/500\n",
      "25/25 [==============================] - 4s 164ms/step - loss: 79.9535 - mse: 79.9535 - val_loss: 68.5331 - val_mse: 68.5331\n",
      "Epoch 26/500\n",
      "25/25 [==============================] - 4s 164ms/step - loss: 67.4175 - mse: 67.4175 - val_loss: 58.8367 - val_mse: 58.8367\n",
      "Epoch 27/500\n",
      "25/25 [==============================] - 4s 164ms/step - loss: 62.6438 - mse: 62.6438 - val_loss: 52.7879 - val_mse: 52.7879\n",
      "Epoch 28/500\n",
      "25/25 [==============================] - 4s 168ms/step - loss: 57.5941 - mse: 57.5941 - val_loss: 49.1422 - val_mse: 49.1422\n",
      "Epoch 29/500\n",
      "25/25 [==============================] - 4s 165ms/step - loss: 53.7028 - mse: 53.7028 - val_loss: 47.0500 - val_mse: 47.0500\n",
      "Epoch 30/500\n",
      "25/25 [==============================] - 4s 166ms/step - loss: 54.6518 - mse: 54.6518 - val_loss: 45.8337 - val_mse: 45.8337\n",
      "Epoch 31/500\n",
      "25/25 [==============================] - 4s 161ms/step - loss: 49.7233 - mse: 49.7233 - val_loss: 45.1829 - val_mse: 45.1829\n",
      "Epoch 32/500\n",
      "25/25 [==============================] - 4s 172ms/step - loss: 53.7594 - mse: 53.7594 - val_loss: 44.8033 - val_mse: 44.8033\n",
      "Epoch 33/500\n",
      "25/25 [==============================] - 4s 164ms/step - loss: 50.1293 - mse: 50.1292 - val_loss: 44.6002 - val_mse: 44.6002\n",
      "Epoch 34/500\n",
      "25/25 [==============================] - 4s 159ms/step - loss: 53.0954 - mse: 53.0954 - val_loss: 44.4818 - val_mse: 44.4818\n",
      "Epoch 35/500\n",
      "25/25 [==============================] - 4s 163ms/step - loss: 51.0565 - mse: 51.0565 - val_loss: 44.4125 - val_mse: 44.4125\n",
      "Epoch 1/500\n",
      "25/25 [==============================] - 5s 205ms/step - loss: 3004.1328 - mse: 3004.1333 - val_loss: 523.3607 - val_mse: 523.3607\n",
      "Epoch 2/500\n",
      "25/25 [==============================] - 5s 187ms/step - loss: 48.3751 - mse: 48.3751 - val_loss: 343.2027 - val_mse: 343.2027\n",
      "Epoch 3/500\n",
      "25/25 [==============================] - 5s 184ms/step - loss: 29.7710 - mse: 29.7710 - val_loss: 211.1323 - val_mse: 211.1323\n",
      "Epoch 4/500\n",
      "25/25 [==============================] - 4s 177ms/step - loss: 24.6765 - mse: 24.6765 - val_loss: 133.9339 - val_mse: 133.9339\n",
      "Epoch 5/500\n",
      "25/25 [==============================] - 4s 179ms/step - loss: 20.7956 - mse: 20.7956 - val_loss: 77.4433 - val_mse: 77.4433\n",
      "Epoch 6/500\n",
      "25/25 [==============================] - 5s 191ms/step - loss: 16.7580 - mse: 16.7580 - val_loss: 57.2028 - val_mse: 57.2028\n",
      "Epoch 7/500\n",
      "25/25 [==============================] - 4s 168ms/step - loss: 15.4886 - mse: 15.4886 - val_loss: 36.3513 - val_mse: 36.3513\n",
      "Epoch 8/500\n",
      "25/25 [==============================] - 4s 168ms/step - loss: 12.1983 - mse: 12.1983 - val_loss: 27.3094 - val_mse: 27.3094\n",
      "Epoch 9/500\n",
      "25/25 [==============================] - 4s 167ms/step - loss: 12.1273 - mse: 12.1273 - val_loss: 23.0377 - val_mse: 23.0377\n",
      "Epoch 10/500\n",
      "25/25 [==============================] - 4s 167ms/step - loss: 9.7481 - mse: 9.7481 - val_loss: 19.4153 - val_mse: 19.4153\n",
      "Epoch 11/500\n",
      "25/25 [==============================] - 4s 167ms/step - loss: 10.0384 - mse: 10.0384 - val_loss: 17.1716 - val_mse: 17.1716\n",
      "Epoch 12/500\n",
      "25/25 [==============================] - 4s 167ms/step - loss: 8.3890 - mse: 8.3890 - val_loss: 15.8088 - val_mse: 15.8088\n",
      "Epoch 13/500\n",
      "25/25 [==============================] - 4s 168ms/step - loss: 8.0823 - mse: 8.0823 - val_loss: 14.9018 - val_mse: 14.9018\n",
      "Epoch 14/500\n",
      "25/25 [==============================] - 4s 167ms/step - loss: 7.5271 - mse: 7.5271 - val_loss: 14.0538 - val_mse: 14.0538\n",
      "Epoch 15/500\n",
      "25/25 [==============================] - 4s 167ms/step - loss: 6.7113 - mse: 6.7113 - val_loss: 13.6780 - val_mse: 13.6780\n",
      "Epoch 16/500\n",
      "25/25 [==============================] - 4s 167ms/step - loss: 6.6308 - mse: 6.6308 - val_loss: 13.1858 - val_mse: 13.1858\n",
      "Epoch 17/500\n",
      "25/25 [==============================] - 4s 167ms/step - loss: 5.8496 - mse: 5.8496 - val_loss: 13.4720 - val_mse: 13.4720\n",
      "Epoch 18/500\n",
      "25/25 [==============================] - 4s 168ms/step - loss: 5.9436 - mse: 5.9436 - val_loss: 12.6430 - val_mse: 12.6430\n",
      "Epoch 19/500\n",
      "25/25 [==============================] - 4s 168ms/step - loss: 5.1190 - mse: 5.1190 - val_loss: 13.5132 - val_mse: 13.5132\n",
      "Epoch 20/500\n",
      "25/25 [==============================] - 4s 167ms/step - loss: 5.1755 - mse: 5.1755 - val_loss: 12.1426 - val_mse: 12.1426\n",
      "Epoch 21/500\n",
      "25/25 [==============================] - 4s 168ms/step - loss: 4.6418 - mse: 4.6418 - val_loss: 12.6256 - val_mse: 12.6256\n",
      "Epoch 22/500\n",
      "25/25 [==============================] - 4s 167ms/step - loss: 4.5557 - mse: 4.5557 - val_loss: 12.6273 - val_mse: 12.6273\n",
      "Epoch 23/500\n",
      "25/25 [==============================] - 4s 167ms/step - loss: 4.2806 - mse: 4.2806 - val_loss: 12.3631 - val_mse: 12.3631\n",
      "Epoch 24/500\n",
      "25/25 [==============================] - 4s 168ms/step - loss: 3.9426 - mse: 3.9426 - val_loss: 12.5707 - val_mse: 12.5707\n",
      "Epoch 25/500\n",
      "25/25 [==============================] - 4s 167ms/step - loss: 3.9043 - mse: 3.9043 - val_loss: 12.3228 - val_mse: 12.3228\n",
      "Epoch 26/500\n",
      "25/25 [==============================] - 4s 167ms/step - loss: 3.4279 - mse: 3.4279 - val_loss: 13.5903 - val_mse: 13.5903\n",
      "Epoch 27/500\n",
      "25/25 [==============================] - 4s 167ms/step - loss: 3.5038 - mse: 3.5038 - val_loss: 11.4195 - val_mse: 11.4195\n",
      "Epoch 28/500\n",
      "25/25 [==============================] - 4s 167ms/step - loss: 3.1049 - mse: 3.1049 - val_loss: 13.2880 - val_mse: 13.2880\n",
      "Epoch 29/500\n",
      "25/25 [==============================] - 4s 167ms/step - loss: 3.1925 - mse: 3.1925 - val_loss: 11.3333 - val_mse: 11.3333\n",
      "Epoch 30/500\n",
      "25/25 [==============================] - 4s 168ms/step - loss: 2.8542 - mse: 2.8542 - val_loss: 11.3568 - val_mse: 11.3568\n",
      "Epoch 31/500\n",
      "25/25 [==============================] - 4s 166ms/step - loss: 2.7569 - mse: 2.7569 - val_loss: 11.3955 - val_mse: 11.3955\n",
      "Epoch 32/500\n",
      "25/25 [==============================] - 4s 167ms/step - loss: 2.6947 - mse: 2.6947 - val_loss: 11.2777 - val_mse: 11.2777\n",
      "Epoch 33/500\n",
      "25/25 [==============================] - 4s 167ms/step - loss: 2.3644 - mse: 2.3644 - val_loss: 12.2931 - val_mse: 12.2931\n",
      "Epoch 34/500\n",
      "25/25 [==============================] - 4s 172ms/step - loss: 2.4417 - mse: 2.4417 - val_loss: 11.3744 - val_mse: 11.3744\n",
      "Epoch 35/500\n"
     ]
    },
    {
     "name": "stdout",
     "output_type": "stream",
     "text": [
      "25/25 [==============================] - 4s 174ms/step - loss: 2.1047 - mse: 2.1047 - val_loss: 14.3493 - val_mse: 14.3493\n",
      "Epoch 36/500\n",
      "25/25 [==============================] - 4s 174ms/step - loss: 2.1510 - mse: 2.1510 - val_loss: 11.1239 - val_mse: 11.1239\n",
      "Epoch 37/500\n",
      "25/25 [==============================] - 4s 173ms/step - loss: 1.9752 - mse: 1.9752 - val_loss: 11.6482 - val_mse: 11.6482\n",
      "Epoch 38/500\n",
      "25/25 [==============================] - 4s 173ms/step - loss: 1.8773 - mse: 1.8773 - val_loss: 11.0103 - val_mse: 11.0103\n",
      "Epoch 39/500\n",
      "25/25 [==============================] - 4s 174ms/step - loss: 1.8330 - mse: 1.8330 - val_loss: 11.0935 - val_mse: 11.0935\n",
      "Epoch 40/500\n",
      "25/25 [==============================] - 4s 174ms/step - loss: 1.6072 - mse: 1.6072 - val_loss: 11.1530 - val_mse: 11.1530\n",
      "Epoch 41/500\n",
      "25/25 [==============================] - 4s 173ms/step - loss: 1.6357 - mse: 1.6357 - val_loss: 11.0509 - val_mse: 11.0509\n",
      "Epoch 42/500\n",
      "25/25 [==============================] - 4s 173ms/step - loss: 1.4402 - mse: 1.4402 - val_loss: 13.6659 - val_mse: 13.6659\n",
      "Epoch 43/500\n",
      "25/25 [==============================] - 4s 173ms/step - loss: 1.5168 - mse: 1.5168 - val_loss: 11.0219 - val_mse: 11.0219\n",
      "Epoch 44/500\n",
      "25/25 [==============================] - 4s 173ms/step - loss: 1.4089 - mse: 1.4089 - val_loss: 14.3038 - val_mse: 14.3038\n",
      "Epoch 45/500\n",
      "25/25 [==============================] - 4s 173ms/step - loss: 1.4328 - mse: 1.4328 - val_loss: 11.4047 - val_mse: 11.4047\n",
      "Epoch 46/500\n",
      "25/25 [==============================] - 5s 188ms/step - loss: 1.4308 - mse: 1.4308 - val_loss: 11.6003 - val_mse: 11.6003\n",
      "Epoch 47/500\n",
      "25/25 [==============================] - 4s 173ms/step - loss: 1.4090 - mse: 1.4090 - val_loss: 11.1183 - val_mse: 11.1183\n",
      "Epoch 48/500\n",
      "25/25 [==============================] - 4s 173ms/step - loss: 1.4258 - mse: 1.4258 - val_loss: 12.2891 - val_mse: 12.2891\n",
      "Epoch 1/500\n",
      "25/25 [==============================] - 5s 186ms/step - loss: 3001.2044 - mse: 3001.2046 - val_loss: 49.1216 - val_mse: 49.1216\n",
      "Epoch 2/500\n",
      "25/25 [==============================] - 4s 175ms/step - loss: 82.7007 - mse: 82.7007 - val_loss: 39.3323 - val_mse: 39.3323\n",
      "Epoch 3/500\n",
      "25/25 [==============================] - 4s 177ms/step - loss: 33.9764 - mse: 33.9764 - val_loss: 27.3870 - val_mse: 27.3870\n",
      "Epoch 4/500\n",
      "25/25 [==============================] - 4s 174ms/step - loss: 27.5524 - mse: 27.5524 - val_loss: 23.4468 - val_mse: 23.4468\n",
      "Epoch 5/500\n",
      "25/25 [==============================] - 4s 174ms/step - loss: 22.5870 - mse: 22.5870 - val_loss: 21.4024 - val_mse: 21.4024\n",
      "Epoch 6/500\n",
      "25/25 [==============================] - 4s 167ms/step - loss: 18.2096 - mse: 18.2096 - val_loss: 21.5687 - val_mse: 21.5687\n",
      "Epoch 7/500\n",
      "25/25 [==============================] - 4s 177ms/step - loss: 17.0275 - mse: 17.0275 - val_loss: 21.4778 - val_mse: 21.4778\n",
      "Epoch 8/500\n",
      "25/25 [==============================] - 4s 179ms/step - loss: 15.0738 - mse: 15.0738 - val_loss: 18.2676 - val_mse: 18.2676\n",
      "Epoch 9/500\n",
      "25/25 [==============================] - 4s 174ms/step - loss: 14.3303 - mse: 14.3303 - val_loss: 18.7078 - val_mse: 18.7078\n",
      "Epoch 10/500\n",
      "25/25 [==============================] - 4s 176ms/step - loss: 12.7524 - mse: 12.7524 - val_loss: 15.8600 - val_mse: 15.8600\n",
      "Epoch 11/500\n",
      "25/25 [==============================] - 4s 175ms/step - loss: 13.1226 - mse: 13.1226 - val_loss: 15.8792 - val_mse: 15.8792\n",
      "Epoch 12/500\n",
      "25/25 [==============================] - 4s 175ms/step - loss: 12.2430 - mse: 12.2430 - val_loss: 14.8138 - val_mse: 14.8138\n",
      "Epoch 13/500\n",
      "25/25 [==============================] - 4s 177ms/step - loss: 11.4625 - mse: 11.4625 - val_loss: 16.6001 - val_mse: 16.6001\n",
      "Epoch 14/500\n",
      "25/25 [==============================] - 4s 177ms/step - loss: 11.0674 - mse: 11.0674 - val_loss: 14.8877 - val_mse: 14.8877\n",
      "Epoch 15/500\n",
      "25/25 [==============================] - 4s 179ms/step - loss: 10.7031 - mse: 10.7031 - val_loss: 13.9679 - val_mse: 13.9679\n",
      "Epoch 16/500\n",
      "25/25 [==============================] - 4s 172ms/step - loss: 11.1120 - mse: 11.1120 - val_loss: 17.5668 - val_mse: 17.5668\n",
      "Epoch 17/500\n",
      "25/25 [==============================] - 4s 174ms/step - loss: 9.7495 - mse: 9.7495 - val_loss: 13.8680 - val_mse: 13.8680\n",
      "Epoch 18/500\n",
      "25/25 [==============================] - 4s 175ms/step - loss: 10.1524 - mse: 10.1524 - val_loss: 13.0160 - val_mse: 13.0160\n",
      "Epoch 19/500\n",
      "25/25 [==============================] - 4s 177ms/step - loss: 9.1494 - mse: 9.1494 - val_loss: 12.8528 - val_mse: 12.8528\n",
      "Epoch 20/500\n",
      "25/25 [==============================] - 4s 174ms/step - loss: 8.5994 - mse: 8.5994 - val_loss: 13.5348 - val_mse: 13.5348\n",
      "Epoch 21/500\n",
      "25/25 [==============================] - 4s 175ms/step - loss: 8.9821 - mse: 8.9821 - val_loss: 12.3440 - val_mse: 12.3440\n",
      "Epoch 22/500\n",
      "25/25 [==============================] - 4s 176ms/step - loss: 8.3473 - mse: 8.3473 - val_loss: 12.0632 - val_mse: 12.0632\n",
      "Epoch 23/500\n",
      "25/25 [==============================] - 4s 174ms/step - loss: 8.0429 - mse: 8.0429 - val_loss: 12.8871 - val_mse: 12.8871\n",
      "Epoch 24/500\n",
      "25/25 [==============================] - 4s 175ms/step - loss: 7.5110 - mse: 7.5110 - val_loss: 11.8337 - val_mse: 11.8337\n",
      "Epoch 25/500\n",
      "25/25 [==============================] - 4s 174ms/step - loss: 7.5289 - mse: 7.5289 - val_loss: 11.7733 - val_mse: 11.7733\n",
      "Epoch 26/500\n",
      "25/25 [==============================] - 4s 180ms/step - loss: 7.2175 - mse: 7.2175 - val_loss: 11.5592 - val_mse: 11.5592\n",
      "Epoch 27/500\n",
      "25/25 [==============================] - 4s 175ms/step - loss: 7.4927 - mse: 7.4927 - val_loss: 11.3977 - val_mse: 11.3977\n",
      "Epoch 28/500\n",
      "25/25 [==============================] - 4s 178ms/step - loss: 7.3148 - mse: 7.3148 - val_loss: 11.5080 - val_mse: 11.5080\n",
      "Epoch 29/500\n",
      "25/25 [==============================] - 4s 175ms/step - loss: 6.9925 - mse: 6.9925 - val_loss: 10.9118 - val_mse: 10.9118\n",
      "Epoch 30/500\n",
      "25/25 [==============================] - 4s 174ms/step - loss: 6.9768 - mse: 6.9768 - val_loss: 11.0170 - val_mse: 11.0170\n",
      "Epoch 31/500\n",
      "25/25 [==============================] - 4s 172ms/step - loss: 6.7714 - mse: 6.7714 - val_loss: 11.4017 - val_mse: 11.4017\n",
      "Epoch 32/500\n",
      "25/25 [==============================] - 4s 171ms/step - loss: 7.8151 - mse: 7.8151 - val_loss: 10.7334 - val_mse: 10.7334\n",
      "Epoch 33/500\n",
      "25/25 [==============================] - 4s 174ms/step - loss: 8.1589 - mse: 8.1589 - val_loss: 11.9992 - val_mse: 11.9992\n",
      "Epoch 34/500\n",
      "25/25 [==============================] - 4s 173ms/step - loss: 7.2261 - mse: 7.2261 - val_loss: 10.6969 - val_mse: 10.6969\n",
      "Epoch 35/500\n",
      "25/25 [==============================] - 4s 174ms/step - loss: 6.8859 - mse: 6.8859 - val_loss: 10.5630 - val_mse: 10.5630\n",
      "Epoch 1/500\n",
      "25/25 [==============================] - 5s 202ms/step - loss: 5194.9359 - mse: 5194.9355 - val_loss: 423.8062 - val_mse: 423.8062\n",
      "Epoch 2/500\n",
      "25/25 [==============================] - 5s 182ms/step - loss: 58.0318 - mse: 58.0318 - val_loss: 416.1150 - val_mse: 416.1151\n",
      "Epoch 3/500\n",
      "25/25 [==============================] - 5s 183ms/step - loss: 35.3661 - mse: 35.3661 - val_loss: 365.4170 - val_mse: 365.4170\n",
      "Epoch 4/500\n",
      "25/25 [==============================] - 5s 185ms/step - loss: 30.6897 - mse: 30.6897 - val_loss: 311.7569 - val_mse: 311.7569\n",
      "Epoch 5/500\n",
      "25/25 [==============================] - 5s 189ms/step - loss: 27.2281 - mse: 27.2281 - val_loss: 250.5032 - val_mse: 250.5032\n",
      "Epoch 6/500\n",
      "25/25 [==============================] - 5s 191ms/step - loss: 23.3536 - mse: 23.3536 - val_loss: 223.8890 - val_mse: 223.8890\n",
      "Epoch 7/500\n",
      "25/25 [==============================] - 5s 189ms/step - loss: 22.1243 - mse: 22.1243 - val_loss: 180.5834 - val_mse: 180.5834\n",
      "Epoch 8/500\n",
      "25/25 [==============================] - 5s 189ms/step - loss: 18.0586 - mse: 18.0586 - val_loss: 145.8644 - val_mse: 145.8644\n",
      "Epoch 9/500\n",
      "25/25 [==============================] - 5s 194ms/step - loss: 17.8055 - mse: 17.8055 - val_loss: 138.6365 - val_mse: 138.6364\n",
      "Epoch 10/500\n",
      "25/25 [==============================] - 5s 198ms/step - loss: 14.2908 - mse: 14.2908 - val_loss: 103.3823 - val_mse: 103.3823\n",
      "Epoch 11/500\n",
      "25/25 [==============================] - 5s 191ms/step - loss: 14.4172 - mse: 14.4172 - val_loss: 92.4000 - val_mse: 92.4000\n"
     ]
    },
    {
     "name": "stdout",
     "output_type": "stream",
     "text": [
      "Epoch 12/500\n",
      "25/25 [==============================] - 5s 186ms/step - loss: 11.9149 - mse: 11.9149 - val_loss: 73.7489 - val_mse: 73.7489\n",
      "Epoch 13/500\n",
      "25/25 [==============================] - 5s 189ms/step - loss: 11.0618 - mse: 11.0618 - val_loss: 59.6715 - val_mse: 59.6715\n",
      "Epoch 14/500\n",
      "25/25 [==============================] - 5s 186ms/step - loss: 10.2806 - mse: 10.2806 - val_loss: 51.0857 - val_mse: 51.0857\n",
      "Epoch 15/500\n",
      "25/25 [==============================] - 5s 183ms/step - loss: 8.5572 - mse: 8.5572 - val_loss: 40.2485 - val_mse: 40.2485\n",
      "Epoch 16/500\n",
      "25/25 [==============================] - 5s 190ms/step - loss: 8.6612 - mse: 8.6612 - val_loss: 37.5456 - val_mse: 37.5456\n",
      "Epoch 17/500\n",
      "25/25 [==============================] - 5s 187ms/step - loss: 7.2646 - mse: 7.2646 - val_loss: 32.4781 - val_mse: 32.4781\n",
      "Epoch 18/500\n",
      "25/25 [==============================] - 5s 184ms/step - loss: 7.3203 - mse: 7.3203 - val_loss: 27.4918 - val_mse: 27.4918\n",
      "Epoch 19/500\n",
      "25/25 [==============================] - 5s 189ms/step - loss: 6.3173 - mse: 6.3173 - val_loss: 25.9724 - val_mse: 25.9724\n",
      "Epoch 20/500\n",
      "25/25 [==============================] - 5s 191ms/step - loss: 6.0733 - mse: 6.0733 - val_loss: 17.9601 - val_mse: 17.9601\n",
      "Epoch 21/500\n",
      "25/25 [==============================] - 5s 194ms/step - loss: 5.5086 - mse: 5.5086 - val_loss: 18.8543 - val_mse: 18.8543\n",
      "Epoch 22/500\n",
      "25/25 [==============================] - 5s 187ms/step - loss: 5.1189 - mse: 5.1189 - val_loss: 16.9321 - val_mse: 16.9321\n",
      "Epoch 23/500\n",
      "25/25 [==============================] - 5s 180ms/step - loss: 4.9240 - mse: 4.9240 - val_loss: 15.2513 - val_mse: 15.2513\n",
      "Epoch 24/500\n",
      "25/25 [==============================] - 5s 187ms/step - loss: 4.3679 - mse: 4.3679 - val_loss: 14.3971 - val_mse: 14.3971\n",
      "Epoch 25/500\n",
      "25/25 [==============================] - 5s 186ms/step - loss: 4.3607 - mse: 4.3607 - val_loss: 14.6523 - val_mse: 14.6523\n",
      "Epoch 26/500\n",
      "25/25 [==============================] - 5s 189ms/step - loss: 3.8028 - mse: 3.8028 - val_loss: 15.6484 - val_mse: 15.6484\n",
      "Epoch 27/500\n",
      "25/25 [==============================] - 5s 185ms/step - loss: 3.8994 - mse: 3.8994 - val_loss: 11.9821 - val_mse: 11.9821\n",
      "Epoch 28/500\n",
      "25/25 [==============================] - 5s 185ms/step - loss: 3.4011 - mse: 3.4011 - val_loss: 13.9158 - val_mse: 13.9158\n",
      "Epoch 29/500\n",
      "25/25 [==============================] - 5s 185ms/step - loss: 3.4349 - mse: 3.4349 - val_loss: 11.1105 - val_mse: 11.1105\n",
      "Epoch 30/500\n",
      "25/25 [==============================] - 5s 190ms/step - loss: 3.1319 - mse: 3.1319 - val_loss: 11.0548 - val_mse: 11.0548\n",
      "Epoch 31/500\n",
      "25/25 [==============================] - 5s 185ms/step - loss: 2.9134 - mse: 2.9134 - val_loss: 11.2304 - val_mse: 11.2304\n",
      "Epoch 32/500\n",
      "25/25 [==============================] - 5s 185ms/step - loss: 2.8527 - mse: 2.8527 - val_loss: 11.0325 - val_mse: 11.0325\n",
      "Epoch 33/500\n",
      "25/25 [==============================] - 5s 185ms/step - loss: 2.5570 - mse: 2.5570 - val_loss: 12.0754 - val_mse: 12.0754\n",
      "Epoch 34/500\n",
      "25/25 [==============================] - 5s 188ms/step - loss: 2.5033 - mse: 2.5033 - val_loss: 11.2502 - val_mse: 11.2502\n",
      "Epoch 35/500\n",
      "25/25 [==============================] - 5s 190ms/step - loss: 2.1937 - mse: 2.1937 - val_loss: 13.9797 - val_mse: 13.9797\n",
      "Epoch 36/500\n",
      "25/25 [==============================] - 5s 189ms/step - loss: 2.3708 - mse: 2.3708 - val_loss: 10.6975 - val_mse: 10.6975\n",
      "Epoch 37/500\n",
      "25/25 [==============================] - 5s 190ms/step - loss: 2.1414 - mse: 2.1414 - val_loss: 11.1557 - val_mse: 11.1557\n",
      "Epoch 38/500\n",
      "25/25 [==============================] - 5s 190ms/step - loss: 2.0694 - mse: 2.0694 - val_loss: 10.6556 - val_mse: 10.6556\n",
      "Epoch 39/500\n",
      "25/25 [==============================] - 5s 187ms/step - loss: 2.5308 - mse: 2.5308 - val_loss: 12.0981 - val_mse: 12.0981\n",
      "Epoch 40/500\n",
      "25/25 [==============================] - 5s 189ms/step - loss: 3.1274 - mse: 3.1274 - val_loss: 11.0743 - val_mse: 11.0743\n",
      "Epoch 41/500\n",
      "25/25 [==============================] - 5s 187ms/step - loss: 5.6214 - mse: 5.6214 - val_loss: 10.9691 - val_mse: 10.9691\n",
      "Epoch 42/500\n",
      "25/25 [==============================] - 5s 186ms/step - loss: 6.0344 - mse: 6.0344 - val_loss: 23.0951 - val_mse: 23.0951\n",
      "Epoch 1/500\n",
      "25/25 [==============================] - 10s 397ms/step - loss: 1013.5109 - mse: 1013.5110 - val_loss: 611.5770 - val_mse: 611.5770\n",
      "Epoch 2/500\n",
      "25/25 [==============================] - 7s 275ms/step - loss: 141.4980 - mse: 141.4980 - val_loss: 321.5499 - val_mse: 321.5500\n",
      "Epoch 3/500\n",
      "25/25 [==============================] - 7s 282ms/step - loss: 50.7850 - mse: 50.7849 - val_loss: 317.7866 - val_mse: 317.7866\n",
      "Epoch 4/500\n",
      "25/25 [==============================] - 7s 273ms/step - loss: 43.7933 - mse: 43.7933 - val_loss: 324.0539 - val_mse: 324.0540\n",
      "Epoch 5/500\n",
      "25/25 [==============================] - 7s 271ms/step - loss: 42.2146 - mse: 42.2146 - val_loss: 300.2938 - val_mse: 300.2938\n",
      "Epoch 6/500\n",
      "25/25 [==============================] - 7s 272ms/step - loss: 41.1825 - mse: 41.1825 - val_loss: 306.4756 - val_mse: 306.4755\n",
      "Epoch 7/500\n",
      "25/25 [==============================] - 7s 272ms/step - loss: 40.2846 - mse: 40.2846 - val_loss: 386.8707 - val_mse: 386.8707\n",
      "Epoch 8/500\n",
      "25/25 [==============================] - 7s 268ms/step - loss: 36.6796 - mse: 36.6796 - val_loss: 318.3787 - val_mse: 318.3786\n",
      "Epoch 9/500\n",
      "25/25 [==============================] - 7s 274ms/step - loss: 33.1230 - mse: 33.1230 - val_loss: 294.3835 - val_mse: 294.3835\n",
      "Epoch 10/500\n",
      "25/25 [==============================] - 7s 273ms/step - loss: 27.8372 - mse: 27.8372 - val_loss: 246.4111 - val_mse: 246.4111\n",
      "Epoch 11/500\n",
      "25/25 [==============================] - 7s 273ms/step - loss: 27.7595 - mse: 27.7595 - val_loss: 293.1688 - val_mse: 293.1688\n",
      "Epoch 12/500\n",
      "25/25 [==============================] - 7s 276ms/step - loss: 26.4524 - mse: 26.4524 - val_loss: 274.6611 - val_mse: 274.6610\n",
      "Epoch 13/500\n",
      "25/25 [==============================] - 7s 277ms/step - loss: 24.5378 - mse: 24.5378 - val_loss: 248.5907 - val_mse: 248.5907\n",
      "Epoch 14/500\n",
      "25/25 [==============================] - 7s 276ms/step - loss: 22.9517 - mse: 22.9517 - val_loss: 312.9275 - val_mse: 312.9275\n",
      "Epoch 15/500\n",
      "25/25 [==============================] - 7s 274ms/step - loss: 23.1608 - mse: 23.1608 - val_loss: 275.3709 - val_mse: 275.3710\n",
      "Epoch 16/500\n",
      "25/25 [==============================] - 7s 285ms/step - loss: 21.6745 - mse: 21.6745 - val_loss: 251.8566 - val_mse: 251.8566\n",
      "Epoch 17/500\n",
      "25/25 [==============================] - 7s 276ms/step - loss: 20.9087 - mse: 20.9087 - val_loss: 244.9660 - val_mse: 244.9660\n",
      "Epoch 18/500\n",
      "25/25 [==============================] - 7s 268ms/step - loss: 19.4390 - mse: 19.4390 - val_loss: 303.5997 - val_mse: 303.5997\n",
      "Epoch 19/500\n",
      "25/25 [==============================] - 7s 266ms/step - loss: 21.7267 - mse: 21.7267 - val_loss: 266.2548 - val_mse: 266.2548\n",
      "Epoch 20/500\n",
      "25/25 [==============================] - 7s 263ms/step - loss: 18.6144 - mse: 18.6144 - val_loss: 275.8754 - val_mse: 275.8755\n",
      "Epoch 21/500\n",
      "25/25 [==============================] - 7s 265ms/step - loss: 17.2686 - mse: 17.2686 - val_loss: 291.1825 - val_mse: 291.1825\n",
      "Epoch 22/500\n",
      "25/25 [==============================] - 7s 267ms/step - loss: 16.5022 - mse: 16.5022 - val_loss: 312.2370 - val_mse: 312.2370\n",
      "Epoch 23/500\n",
      "25/25 [==============================] - 7s 268ms/step - loss: 17.1689 - mse: 17.1689 - val_loss: 352.0525 - val_mse: 352.0525\n",
      "Epoch 24/500\n",
      "25/25 [==============================] - 7s 265ms/step - loss: 16.3041 - mse: 16.3041 - val_loss: 323.2428 - val_mse: 323.2429\n",
      "Epoch 25/500\n",
      "25/25 [==============================] - 7s 268ms/step - loss: 15.4296 - mse: 15.4296 - val_loss: 319.0297 - val_mse: 319.0297\n",
      "Epoch 26/500\n",
      "25/25 [==============================] - 7s 268ms/step - loss: 16.2655 - mse: 16.2655 - val_loss: 277.7773 - val_mse: 277.7773\n",
      "Epoch 27/500\n",
      "25/25 [==============================] - 7s 282ms/step - loss: 15.7478 - mse: 15.7478 - val_loss: 344.2947 - val_mse: 344.2947\n",
      "Epoch 28/500\n",
      "25/25 [==============================] - 7s 274ms/step - loss: 17.5059 - mse: 17.5059 - val_loss: 335.4389 - val_mse: 335.4389\n",
      "Epoch 29/500\n"
     ]
    },
    {
     "name": "stdout",
     "output_type": "stream",
     "text": [
      "25/25 [==============================] - 7s 277ms/step - loss: 15.3789 - mse: 15.3789 - val_loss: 265.0353 - val_mse: 265.0353\n",
      "Epoch 30/500\n",
      "25/25 [==============================] - 7s 265ms/step - loss: 17.5425 - mse: 17.5425 - val_loss: 392.1707 - val_mse: 392.1707\n",
      "Epoch 31/500\n",
      "25/25 [==============================] - 7s 263ms/step - loss: 21.9386 - mse: 21.9386 - val_loss: 258.8440 - val_mse: 258.8441\n",
      "Epoch 32/500\n",
      "25/25 [==============================] - 7s 267ms/step - loss: 15.8717 - mse: 15.8717 - val_loss: 300.7959 - val_mse: 300.7959\n",
      "Epoch 33/500\n",
      "25/25 [==============================] - 7s 266ms/step - loss: 14.1969 - mse: 14.1969 - val_loss: 320.3009 - val_mse: 320.3009\n",
      "Epoch 34/500\n",
      "25/25 [==============================] - 7s 267ms/step - loss: 13.6168 - mse: 13.6168 - val_loss: 270.9483 - val_mse: 270.9483\n",
      "Epoch 35/500\n",
      "25/25 [==============================] - 7s 268ms/step - loss: 11.6192 - mse: 11.6192 - val_loss: 290.4924 - val_mse: 290.4924\n",
      "Epoch 36/500\n",
      "25/25 [==============================] - 7s 277ms/step - loss: 11.5665 - mse: 11.5665 - val_loss: 325.9719 - val_mse: 325.9719\n",
      "Epoch 37/500\n",
      "25/25 [==============================] - 7s 281ms/step - loss: 10.9259 - mse: 10.9259 - val_loss: 303.9244 - val_mse: 303.9244\n",
      "Epoch 38/500\n",
      "25/25 [==============================] - 7s 278ms/step - loss: 9.9011 - mse: 9.9010 - val_loss: 272.2979 - val_mse: 272.2979\n",
      "Epoch 39/500\n",
      "25/25 [==============================] - 7s 279ms/step - loss: 11.8941 - mse: 11.8941 - val_loss: 345.1878 - val_mse: 345.1878\n",
      "Epoch 40/500\n",
      "25/25 [==============================] - 7s 273ms/step - loss: 14.2457 - mse: 14.2457 - val_loss: 319.8271 - val_mse: 319.8271\n",
      "Epoch 41/500\n",
      "25/25 [==============================] - 7s 275ms/step - loss: 18.1875 - mse: 18.1875 - val_loss: 284.1233 - val_mse: 284.1232\n",
      "Epoch 42/500\n",
      "25/25 [==============================] - 7s 274ms/step - loss: 18.5749 - mse: 18.5749 - val_loss: 333.9501 - val_mse: 333.9502\n",
      "Epoch 1/500\n",
      "25/25 [==============================] - 9s 346ms/step - loss: 621.1103 - mse: 621.1102 - val_loss: 648.5877 - val_mse: 648.5877\n",
      "Epoch 2/500\n",
      "25/25 [==============================] - 8s 321ms/step - loss: 46.8282 - mse: 46.8282 - val_loss: 46.7338 - val_mse: 46.7338\n",
      "Epoch 3/500\n",
      "25/25 [==============================] - 8s 324ms/step - loss: 24.2045 - mse: 24.2045 - val_loss: 45.0406 - val_mse: 45.0406\n",
      "Epoch 4/500\n",
      "25/25 [==============================] - 8s 321ms/step - loss: 20.7812 - mse: 20.7812 - val_loss: 40.3252 - val_mse: 40.3252\n",
      "Epoch 5/500\n",
      "25/25 [==============================] - 8s 325ms/step - loss: 23.6879 - mse: 23.6879 - val_loss: 58.0054 - val_mse: 58.0054\n",
      "Epoch 6/500\n",
      "25/25 [==============================] - 8s 324ms/step - loss: 15.5443 - mse: 15.5443 - val_loss: 62.8717 - val_mse: 62.8717\n",
      "Epoch 7/500\n",
      "25/25 [==============================] - 8s 327ms/step - loss: 10.3653 - mse: 10.3653 - val_loss: 58.0781 - val_mse: 58.0781\n",
      "Epoch 8/500\n",
      "25/25 [==============================] - 8s 320ms/step - loss: 9.5201 - mse: 9.5201 - val_loss: 68.5231 - val_mse: 68.5231\n",
      "Epoch 9/500\n",
      "25/25 [==============================] - 8s 319ms/step - loss: 7.9707 - mse: 7.9707 - val_loss: 70.6377 - val_mse: 70.6377\n",
      "Epoch 10/500\n",
      "25/25 [==============================] - 8s 322ms/step - loss: 7.0047 - mse: 7.0047 - val_loss: 51.6713 - val_mse: 51.6713\n",
      "Epoch 11/500\n",
      "25/25 [==============================] - 8s 323ms/step - loss: 6.9933 - mse: 6.9933 - val_loss: 39.9271 - val_mse: 39.9271\n",
      "Epoch 12/500\n",
      "25/25 [==============================] - 8s 320ms/step - loss: 6.6478 - mse: 6.6478 - val_loss: 65.4153 - val_mse: 65.4153\n",
      "Epoch 13/500\n",
      "25/25 [==============================] - 8s 314ms/step - loss: 8.7040 - mse: 8.7040 - val_loss: 19.5250 - val_mse: 19.5250\n",
      "Epoch 14/500\n",
      "25/25 [==============================] - 8s 330ms/step - loss: 9.7261 - mse: 9.7261 - val_loss: 22.6227 - val_mse: 22.6227\n",
      "Epoch 15/500\n",
      "25/25 [==============================] - 8s 322ms/step - loss: 17.5099 - mse: 17.5099 - val_loss: 38.1729 - val_mse: 38.1729\n",
      "Epoch 16/500\n",
      "25/25 [==============================] - 8s 319ms/step - loss: 34.9865 - mse: 34.9865 - val_loss: 20.1185 - val_mse: 20.1185\n"
     ]
    },
    {
     "data": {
      "image/png": "[encoded data removed]",
      "text/plain": [
       "<Figure size 432x288 with 1 Axes>"
      ]
     },
     "metadata": {
      "needs_background": "light"
     },
     "output_type": "display_data"
    },
    {
     "data": {
      "image/png": "[encoded data removed]",
      "text/plain": [
       "<Figure size 432x288 with 1 Axes>"
      ]
     },
     "metadata": {
      "needs_background": "light"
     },
     "output_type": "display_data"
    },
    {
     "data": {
      "image/png": "[encoded data removed]",
      "text/plain": [
       "<Figure size 432x288 with 1 Axes>"
      ]
     },
     "metadata": {
      "needs_background": "light"
     },
     "output_type": "display_data"
    },
    {
     "data": {
      "image/png": "[encoded data removed]",
      "text/plain": [
       "<Figure size 432x288 with 1 Axes>"
      ]
     },
     "metadata": {
      "needs_background": "light"
     },
     "output_type": "display_data"
    },
    {
     "data": {
      "image/png": "[encoded data removed]",
      "text/plain": [
       "<Figure size 432x288 with 1 Axes>"
      ]
     },
     "metadata": {
      "needs_background": "light"
     },
     "output_type": "display_data"
    },
    {
     "data": {
      "image/png": "[encoded data removed]",
      "text/plain": [
       "<Figure size 432x288 with 1 Axes>"
      ]
     },
     "metadata": {
      "needs_background": "light"
     },
     "output_type": "display_data"
    },
    {
     "data": {
      "image/png": "[encoded data removed]",
      "text/plain": [
       "<Figure size 432x288 with 1 Axes>"
      ]
     },
     "metadata": {
      "needs_background": "light"
     },
     "output_type": "display_data"
    },
    {
     "data": {
      "image/png": "[encoded data removed]",
      "text/plain": [
       "<Figure size 432x288 with 1 Axes>"
      ]
     },
     "metadata": {
      "needs_background": "light"
     },
     "output_type": "display_data"
    }
   ],
   "source": [
    "exec_methods = [\"basic_CNN\", \"basic_CNN_v2\", \"basic_CNN_v2_DO\", \"basic_CNN_v2_BN\",\"basic_CNN_v2_DO_LR\", \"basic_CNN_v2_BN_LR\", \"alex_net_trasfer\", \"alex_net_trasfer_v2\"]\n",
    "for method in exec_methods:\n",
    "    train_model(method)"
   ]
  },
  {
   "cell_type": "code",
   "execution_count": 21,
   "metadata": {},
   "outputs": [
    {
     "data": {
      "text/plain": [
       "{'basic_CNN': 15.766340255737305,\n",
       " 'basic_CNN_v2': 11.347467422485352,\n",
       " 'basic_CNN_v2_DO': 44.412479400634766,\n",
       " 'basic_CNN_v2_BN': 11.010293960571289,\n",
       " 'basic_CNN_v2_DO_LR': 10.563013076782227,\n",
       " 'basic_CNN_v2_BN_LR': 10.655610084533691,\n",
       " 'alex_net_trasfer': 244.96600341796875,\n",
       " 'alex_net_trasfer_v2': 19.525014877319336}"
      ]
     },
     "execution_count": 21,
     "metadata": {},
     "output_type": "execute_result"
    }
   ],
   "source": [
    "val_loss_dict"
   ]
  }
 ],
 "metadata": {
  "kernelspec": {
   "display_name": "Python 3",
   "language": "python",
   "name": "python3"
  },
  "language_info": {
   "codemirror_mode": {
    "name": "ipython",
    "version": 3
   },
   "file_extension": ".py",
   "mimetype": "text/x-python",
   "name": "python",
   "nbconvert_exporter": "python",
   "pygments_lexer": "ipython3",
   "version": "3.7.4"
  }
 },
 "nbformat": 4,
 "nbformat_minor": 1
}
