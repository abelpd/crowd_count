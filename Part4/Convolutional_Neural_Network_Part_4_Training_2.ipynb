{
 "cells": [
  {
   "cell_type": "code",
   "execution_count": 1,
   "metadata": {},
   "outputs": [
    {
     "name": "stderr",
     "output_type": "stream",
     "text": [
      "Using TensorFlow backend.\n"
     ]
    }
   ],
   "source": [
    "from skimage.color import rgb2hsv\n",
    "#from keras.preprocessing.image import ImageDataGenerator, array_to_img, img_to_array, load_img\n",
    "import keras\n",
    "import seaborn as sns\n",
    "import pickle as pkl\n",
    "import cv2\n",
    "from matplotlib import pyplot\n",
    "from keras.callbacks import ModelCheckpoint\n",
    "from keras import backend as K\n",
    "import tensorflow as tf\n",
    "from keras.utils import to_categorical\n",
    "from keras.models import Sequential\n",
    "from keras.layers import Dense\n",
    "from keras.layers import Conv2D\n",
    "from keras.layers import MaxPooling2D\n",
    "from keras.layers import BatchNormalization\n",
    "from keras.layers import Dropout\n",
    "from keras.layers import Flatten\n",
    "from keras.layers import Lambda\n",
    "from keras.callbacks import EarlyStopping\n",
    "from sklearn.model_selection import train_test_split\n",
    "from keras.layers import SpatialDropout2D\n",
    "from contextlib import redirect_stdout\n",
    "import numpy as np\n",
    "import matplotlib.pyplot as plt\n",
    "import pandas as pd\n",
    "import os\n",
    "import re\n",
    "import copy\n",
    "import time\n",
    "import training_models\n",
    "import types\n",
    "import inspect"
   ]
  },
  {
   "cell_type": "code",
   "execution_count": 2,
   "metadata": {},
   "outputs": [
    {
     "data": {
      "text/plain": [
       "['/job:localhost/replica:0/task:0/device:GPU:0']"
      ]
     },
     "execution_count": 2,
     "metadata": {},
     "output_type": "execute_result"
    }
   ],
   "source": [
    "# double checking to ensure gpu is enabled for training\n",
    "K.tensorflow_backend._get_available_gpus()"
   ]
  },
  {
   "cell_type": "code",
   "execution_count": 3,
   "metadata": {},
   "outputs": [],
   "source": [
    "cwd = os.getcwd()"
   ]
  },
  {
   "cell_type": "code",
   "execution_count": 4,
   "metadata": {},
   "outputs": [
    {
     "data": {
      "text/plain": [
       "['count_.csv', 'frames']"
      ]
     },
     "execution_count": 4,
     "metadata": {},
     "output_type": "execute_result"
    }
   ],
   "source": [
    "os.listdir(cwd+ '\\\\color_data')"
   ]
  },
  {
   "cell_type": "code",
   "execution_count": 5,
   "metadata": {},
   "outputs": [],
   "source": [
    "target = pd.read_csv(r'C:\\Users\\abelp\\machine_learning\\crowd_count\\data\\count_.csv', names=['target'])"
   ]
  },
  {
   "cell_type": "code",
   "execution_count": 6,
   "metadata": {},
   "outputs": [
    {
     "data": {
      "text/plain": [
       "2000"
      ]
     },
     "execution_count": 6,
     "metadata": {},
     "output_type": "execute_result"
    }
   ],
   "source": [
    "len(target)"
   ]
  },
  {
   "cell_type": "code",
   "execution_count": 7,
   "metadata": {},
   "outputs": [],
   "source": [
    "target.columns = ['target']"
   ]
  },
  {
   "cell_type": "code",
   "execution_count": 8,
   "metadata": {},
   "outputs": [],
   "source": [
    "input_ = np.append(pkl.load(open(r'C:\\Users\\abelp\\machine_learning\\crowd_count\\final_data\\mean_normalized1.pkl', 'rb')),\n",
    "                  pkl.load(open(r'C:\\Users\\abelp\\machine_learning\\crowd_count\\final_data\\mean_normalized2.pkl', 'rb')),axis=0)"
   ]
  },
  {
   "cell_type": "code",
   "execution_count": 9,
   "metadata": {},
   "outputs": [],
   "source": [
    "model_location = 'C:\\\\Users\\\\abelp\\\\machine_learning\\\\crowd_count\\\\models\\\\'"
   ]
  },
  {
   "cell_type": "code",
   "execution_count": 10,
   "metadata": {},
   "outputs": [
    {
     "data": {
      "text/plain": [
       "['alex_net_trasfer.h5',\n",
       " 'alex_net_trasfer.png',\n",
       " 'alex_net_trasfer_actual.h5',\n",
       " 'alex_net_trasfer_actual.png',\n",
       " 'alex_net_trasfer_BE.h5',\n",
       " 'alex_net_trasfer_BE.png',\n",
       " 'alex_net_trasfer_BE_LR.h5',\n",
       " 'alex_net_trasfer_BE_LR.png',\n",
       " 'alex_net_trasfer_deep_BE.h5',\n",
       " 'alex_net_trasfer_deep_BE.png',\n",
       " 'alex_net_trasfer_deep_BE_LR.h5',\n",
       " 'alex_net_trasfer_deep_BE_LR.png',\n",
       " 'alex_net_trasfer_DO.h5',\n",
       " 'alex_net_trasfer_DO.png',\n",
       " 'alex_net_trasfer_v2.h5',\n",
       " 'alex_net_trasfer_v2.png',\n",
       " 'augmented_samplealex_net_trasfer.png',\n",
       " 'augmented_samplealex_net_trasfer_BE.png',\n",
       " 'augmented_samplealex_net_trasfer_BE_LR.png',\n",
       " 'augmented_samplealex_net_trasfer_deep_BE_LR.png',\n",
       " 'augmented_samplealex_net_trasfer_v2.png',\n",
       " 'augmented_samplebasic_CNN_v2_BN.png',\n",
       " 'augmented_samplebasic_CNN_v2_BN_LR.png',\n",
       " 'augmented_samplebasic_CNN_v2_DO_LR.png',\n",
       " 'basic_CNN.h5',\n",
       " 'basic_CNN.png',\n",
       " 'basic_CNN_v2.h5',\n",
       " 'basic_CNN_v2.png',\n",
       " 'basic_CNN_v2_BN.h5',\n",
       " 'basic_CNN_v2_BN.png',\n",
       " 'basic_CNN_v2_BN_LR.h5',\n",
       " 'basic_CNN_v2_BN_LR.png',\n",
       " 'basic_CNN_v2_DO.h5',\n",
       " 'basic_CNN_v2_DO.png',\n",
       " 'basic_CNN_v2_DO_LR.h5',\n",
       " 'basic_CNN_v2_DO_LR.png',\n",
       " 'normalized_samplealex_net_trasfer.png',\n",
       " 'normalized_samplealex_net_trasfer_BE.png',\n",
       " 'normalized_samplealex_net_trasfer_BE_LR.png',\n",
       " 'normalized_samplealex_net_trasfer_v2.png',\n",
       " 'normalized_samplebasic_CNN_v2_BN_LR.png',\n",
       " 'normalized_samplebasic_CNN_v2_DO_LR.png']"
      ]
     },
     "execution_count": 10,
     "metadata": {},
     "output_type": "execute_result"
    }
   ],
   "source": [
    "os.listdir(model_location)"
   ]
  },
  {
   "cell_type": "code",
   "execution_count": 11,
   "metadata": {},
   "outputs": [],
   "source": [
    "IMG_SIZE = input_.shape[1]\n",
    "IMG_SIZE2 = input_.shape[2]"
   ]
  },
  {
   "cell_type": "code",
   "execution_count": 12,
   "metadata": {},
   "outputs": [],
   "source": [
    "models_ = training_models.models_to_train"
   ]
  },
  {
   "cell_type": "code",
   "execution_count": 13,
   "metadata": {},
   "outputs": [],
   "source": [
    "target = np.array(target['target'])"
   ]
  },
  {
   "cell_type": "code",
   "execution_count": 14,
   "metadata": {},
   "outputs": [],
   "source": [
    "X_train, X_test, y_train, y_test = train_test_split(input_, target, test_size=0.2, random_state=42, shuffle=True)"
   ]
  },
  {
   "cell_type": "code",
   "execution_count": 15,
   "metadata": {},
   "outputs": [
    {
     "data": {
      "text/plain": [
       "(1600, 480, 640)"
      ]
     },
     "execution_count": 15,
     "metadata": {},
     "output_type": "execute_result"
    }
   ],
   "source": [
    "X_train.shape"
   ]
  },
  {
   "cell_type": "code",
   "execution_count": 16,
   "metadata": {},
   "outputs": [],
   "source": [
    "X_train = np.expand_dims(X_train, axis=3)\n",
    "X_test = np.expand_dims(X_test, axis=3)"
   ]
  },
  {
   "cell_type": "code",
   "execution_count": 17,
   "metadata": {},
   "outputs": [
    {
     "data": {
      "text/plain": [
       "(1600, 480, 640, 1)"
      ]
     },
     "execution_count": 17,
     "metadata": {},
     "output_type": "execute_result"
    }
   ],
   "source": [
    "X_train.shape"
   ]
  },
  {
   "cell_type": "code",
   "execution_count": 18,
   "metadata": {},
   "outputs": [],
   "source": [
    "del input_"
   ]
  },
  {
   "cell_type": "code",
   "execution_count": 19,
   "metadata": {},
   "outputs": [],
   "source": [
    "val_loss_dict = {}"
   ]
  },
  {
   "cell_type": "code",
   "execution_count": 20,
   "metadata": {},
   "outputs": [],
   "source": [
    "def data_Generator():\n",
    "    while True:\n",
    "        for i in range(0,len(X_train) // 100):\n",
    "            time.sleep(0.01)\n",
    "            yield  X_train[i*10:(i+1)*10], y_train[i*10:(i+1)*10]\n",
    "            \n",
    "def train_model(method):        \n",
    "    filepath = model_location + method + '.h5'\n",
    "    \n",
    "    es_callback = EarlyStopping(monitor='mse', patience=5)\n",
    "    checkpoint = ModelCheckpoint(filepath, monitor='val_mse', save_best_only=True, mode='min')\n",
    "    \n",
    "    model = getattr(models_, method)(IMG_SIZE, IMG_SIZE2)\n",
    "\n",
    "    model.compile(optimizer='ADAM', loss='mse', metrics=['mse'])\n",
    "\n",
    "    with open('C:\\\\Users\\\\abelp\\\\machine_learning\\\\crowd_count\\\\model_summary\\\\augmented_' + method + '_summary.txt', 'w') as f:\n",
    "        with redirect_stdout(f):\n",
    "            model.summary()\n",
    "    \n",
    "    history = model.fit_generator(data_Generator(), steps_per_epoch=50, epochs=500,  callbacks=[es_callback, checkpoint], verbose=1, validation_data=(X_test, y_test))\n",
    "    \n",
    "    val_loss_dict[method] = min(history.history['val_mse'])\n",
    "    \n",
    "    plt.figure()\n",
    "    plt.plot(history.history['mse'][1:], label='train')\n",
    "    plt.plot(history.history['val_mse'][1:], label='test')\n",
    "    plt.title('train / test loss - ' + method)\n",
    "    plt.savefig(model_location + 'normalized_sample' + method + '.png')\n",
    "    \n",
    "    del history\n",
    "    del model"
   ]
  },
  {
   "cell_type": "code",
   "execution_count": 21,
   "metadata": {},
   "outputs": [
    {
     "name": "stdout",
     "output_type": "stream",
     "text": [
      "Epoch 1/500\n",
      "50/50 [==============================] - 15s 303ms/step - loss: 181.0200 - mse: 181.0201 - val_loss: 258.5543 - val_mse: 258.5543\n",
      "Epoch 2/500\n",
      "50/50 [==============================] - 9s 171ms/step - loss: 25.7087 - mse: 25.7087 - val_loss: 75.5571 - val_mse: 75.5571\n",
      "Epoch 3/500\n",
      "50/50 [==============================] - 9s 172ms/step - loss: 19.8963 - mse: 19.8963 - val_loss: 34.4831 - val_mse: 34.4831\n",
      "Epoch 4/500\n",
      "50/50 [==============================] - 9s 174ms/step - loss: 28.7788 - mse: 28.7788 - val_loss: 233.9529 - val_mse: 233.9529\n",
      "Epoch 5/500\n",
      "50/50 [==============================] - 9s 175ms/step - loss: 52.4965 - mse: 52.4965 - val_loss: 514.2250 - val_mse: 514.2251\n",
      "Epoch 6/500\n",
      "50/50 [==============================] - 9s 177ms/step - loss: 71.7832 - mse: 71.7832 - val_loss: 523.5286 - val_mse: 523.5286\n",
      "Epoch 7/500\n",
      "50/50 [==============================] - 9s 173ms/step - loss: 44.9763 - mse: 44.9763 - val_loss: 276.1365 - val_mse: 276.1366\n",
      "Epoch 8/500\n",
      "50/50 [==============================] - 9s 174ms/step - loss: 11.0523 - mse: 11.0523 - val_loss: 212.3417 - val_mse: 212.3417\n",
      "Epoch 9/500\n",
      "50/50 [==============================] - 9s 173ms/step - loss: 5.6651 - mse: 5.6651 - val_loss: 41.3183 - val_mse: 41.3183\n",
      "Epoch 10/500\n",
      "50/50 [==============================] - 9s 174ms/step - loss: 7.3222 - mse: 7.3222 - val_loss: 62.8650 - val_mse: 62.8650\n",
      "Epoch 11/500\n",
      "50/50 [==============================] - 9s 173ms/step - loss: 13.2541 - mse: 13.2541 - val_loss: 182.2611 - val_mse: 182.2611\n",
      "Epoch 12/500\n",
      "50/50 [==============================] - 9s 174ms/step - loss: 16.2786 - mse: 16.2786 - val_loss: 199.6548 - val_mse: 199.6548\n",
      "Epoch 13/500\n",
      "50/50 [==============================] - 9s 175ms/step - loss: 13.7892 - mse: 13.7892 - val_loss: 135.6106 - val_mse: 135.6106\n",
      "Epoch 14/500\n",
      "50/50 [==============================] - 9s 175ms/step - loss: 11.8084 - mse: 11.8084 - val_loss: 688.5983 - val_mse: 688.5983\n",
      "Epoch 1/500\n",
      "50/50 [==============================] - 14s 271ms/step - loss: 931.1392 - mse: 931.1392 - val_loss: 1070089.2547 - val_mse: 1070089.3750\n",
      "Epoch 2/500\n",
      "50/50 [==============================] - 11s 211ms/step - loss: 704.9857 - mse: 704.9855 - val_loss: 4166.9246 - val_mse: 4166.9248\n",
      "Epoch 3/500\n",
      "50/50 [==============================] - 11s 213ms/step - loss: 314.2637 - mse: 314.2637 - val_loss: 1094.2239 - val_mse: 1094.2239\n",
      "Epoch 4/500\n",
      "50/50 [==============================] - 11s 212ms/step - loss: 46.1578 - mse: 46.1578 - val_loss: 588.8761 - val_mse: 588.8762\n",
      "Epoch 5/500\n",
      "50/50 [==============================] - 11s 211ms/step - loss: 11.1728 - mse: 11.1728 - val_loss: 584.7388 - val_mse: 584.7388\n",
      "Epoch 6/500\n",
      "50/50 [==============================] - 11s 211ms/step - loss: 4.4966 - mse: 4.4966 - val_loss: 20.5247 - val_mse: 20.5247\n",
      "Epoch 7/500\n",
      "50/50 [==============================] - 11s 211ms/step - loss: 2.5637 - mse: 2.5637 - val_loss: 22.4717 - val_mse: 22.4717\n",
      "Epoch 8/500\n",
      "50/50 [==============================] - 10s 210ms/step - loss: 2.5019 - mse: 2.5019 - val_loss: 18.3710 - val_mse: 18.3710\n",
      "Epoch 9/500\n",
      "50/50 [==============================] - 11s 210ms/step - loss: 2.4794 - mse: 2.4794 - val_loss: 18.3554 - val_mse: 18.3554\n",
      "Epoch 10/500\n",
      "50/50 [==============================] - 11s 211ms/step - loss: 2.7693 - mse: 2.7693 - val_loss: 27.7613 - val_mse: 27.7613\n",
      "Epoch 11/500\n",
      "50/50 [==============================] - 11s 212ms/step - loss: 3.1548 - mse: 3.1548 - val_loss: 16.6099 - val_mse: 16.6099\n",
      "Epoch 12/500\n",
      "50/50 [==============================] - 11s 212ms/step - loss: 3.2772 - mse: 3.2772 - val_loss: 19.9334 - val_mse: 19.9334\n",
      "Epoch 13/500\n",
      "50/50 [==============================] - 11s 210ms/step - loss: 2.6197 - mse: 2.6197 - val_loss: 16.2035 - val_mse: 16.2035\n",
      "Epoch 14/500\n",
      "50/50 [==============================] - 11s 211ms/step - loss: 2.6370 - mse: 2.6370 - val_loss: 19.1678 - val_mse: 19.1678\n",
      "Epoch 1/500\n",
      "50/50 [==============================] - 13s 256ms/step - loss: 934.2299 - mse: 934.2299 - val_loss: 3708324.0187 - val_mse: 3708323.7500\n",
      "Epoch 2/500\n",
      "50/50 [==============================] - 11s 215ms/step - loss: 702.5101 - mse: 702.5101 - val_loss: 18383.9738 - val_mse: 18383.9707\n",
      "Epoch 3/500\n",
      "50/50 [==============================] - 11s 214ms/step - loss: 294.0526 - mse: 294.0526 - val_loss: 699.7709 - val_mse: 699.7709\n",
      "Epoch 4/500\n",
      "50/50 [==============================] - 11s 214ms/step - loss: 42.8747 - mse: 42.8747 - val_loss: 1817.6812 - val_mse: 1817.6812\n",
      "Epoch 5/500\n",
      "50/50 [==============================] - 11s 215ms/step - loss: 11.6732 - mse: 11.6732 - val_loss: 10610.8876 - val_mse: 10610.8877\n",
      "Epoch 6/500\n",
      "50/50 [==============================] - 11s 216ms/step - loss: 8.6655 - mse: 8.6655 - val_loss: 290.6603 - val_mse: 290.6603\n",
      "Epoch 7/500\n",
      "50/50 [==============================] - 11s 216ms/step - loss: 3.4922 - mse: 3.4922 - val_loss: 80.6576 - val_mse: 80.6576\n",
      "Epoch 8/500\n",
      "50/50 [==============================] - 11s 216ms/step - loss: 2.6102 - mse: 2.6102 - val_loss: 38.3172 - val_mse: 38.3172\n",
      "Epoch 9/500\n",
      "50/50 [==============================] - 11s 216ms/step - loss: 2.4399 - mse: 2.4399 - val_loss: 18.3518 - val_mse: 18.3518\n",
      "Epoch 10/500\n",
      "50/50 [==============================] - 11s 216ms/step - loss: 5.0212 - mse: 5.0212 - val_loss: 318.4419 - val_mse: 318.4420\n",
      "Epoch 11/500\n",
      "50/50 [==============================] - 11s 215ms/step - loss: 5.8051 - mse: 5.8051 - val_loss: 16.1312 - val_mse: 16.1312\n",
      "Epoch 12/500\n",
      "50/50 [==============================] - 11s 215ms/step - loss: 2.6759 - mse: 2.6759 - val_loss: 14.5746 - val_mse: 14.5746\n",
      "Epoch 13/500\n",
      "50/50 [==============================] - 11s 216ms/step - loss: 2.1877 - mse: 2.1877 - val_loss: 16.5450 - val_mse: 16.5450\n",
      "Epoch 14/500\n",
      "50/50 [==============================] - 11s 216ms/step - loss: 2.7625 - mse: 2.7625 - val_loss: 17.9442 - val_mse: 17.9442\n",
      "Epoch 15/500\n",
      "50/50 [==============================] - 11s 216ms/step - loss: 3.9233 - mse: 3.9233 - val_loss: 19.4485 - val_mse: 19.4485\n",
      "Epoch 16/500\n",
      "50/50 [==============================] - 11s 214ms/step - loss: 4.6052 - mse: 4.6052 - val_loss: 168.5089 - val_mse: 168.5089\n",
      "Epoch 17/500\n",
      "50/50 [==============================] - 11s 216ms/step - loss: 4.0650 - mse: 4.0650 - val_loss: 16.2212 - val_mse: 16.2212\n",
      "Epoch 18/500\n",
      "50/50 [==============================] - 11s 215ms/step - loss: 3.9841 - mse: 3.9841 - val_loss: 23.2243 - val_mse: 23.2243\n"
     ]
    },
    {
     "data": {
      "image/png": "[encoded data removed]",
      "text/plain": [
       "<Figure size 432x288 with 1 Axes>"
      ]
     },
     "metadata": {
      "needs_background": "light"
     },
     "output_type": "display_data"
    },
    {
     "data": {
      "image/png": "[encoded data removed]",
      "text/plain": [
       "<Figure size 432x288 with 1 Axes>"
      ]
     },
     "metadata": {
      "needs_background": "light"
     },
     "output_type": "display_data"
    },
    {
     "data": {
      "image/png": "[encoded data removed]",
      "text/plain": [
       "<Figure size 432x288 with 1 Axes>"
      ]
     },
     "metadata": {
      "needs_background": "light"
     },
     "output_type": "display_data"
    }
   ],
   "source": [
    "exec_methods = [\"alex_net_trasfer_v2\", \"alex_net_trasfer_BE\", \"alex_net_trasfer_BE_LR\"]\n",
    "for method in exec_methods:\n",
    "    train_model(method)"
   ]
  },
  {
   "cell_type": "code",
   "execution_count": 22,
   "metadata": {},
   "outputs": [
    {
     "data": {
      "text/plain": [
       "{'alex_net_trasfer_v2': 34.48309326171875,\n",
       " 'alex_net_trasfer_BE': 16.20354652404785,\n",
       " 'alex_net_trasfer_BE_LR': 14.574605941772461}"
      ]
     },
     "execution_count": 22,
     "metadata": {},
     "output_type": "execute_result"
    }
   ],
   "source": [
    "val_loss_dict"
   ]
  },
  {
   "cell_type": "code",
   "execution_count": 23,
   "metadata": {},
   "outputs": [],
   "source": [
    "#, \"alex_net_trasfer_v2\", \"alex_net_trasfer_BE\", \"alex_net_trasfer_BE_LR\""
   ]
  }
 ],
 "metadata": {
  "kernelspec": {
   "display_name": "Python 3",
   "language": "python",
   "name": "python3"
  },
  "language_info": {
   "codemirror_mode": {
    "name": "ipython",
    "version": 3
   },
   "file_extension": ".py",
   "mimetype": "text/x-python",
   "name": "python",
   "nbconvert_exporter": "python",
   "pygments_lexer": "ipython3",
   "version": "3.7.4"
  }
 },
 "nbformat": 4,
 "nbformat_minor": 1
}
