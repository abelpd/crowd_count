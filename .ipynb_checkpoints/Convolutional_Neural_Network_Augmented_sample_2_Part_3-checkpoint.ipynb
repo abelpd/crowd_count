{
 "cells": [
  {
   "cell_type": "code",
   "execution_count": 1,
   "metadata": {},
   "outputs": [
    {
     "name": "stderr",
     "output_type": "stream",
     "text": [
      "Using TensorFlow backend.\n"
     ]
    }
   ],
   "source": [
    "from skimage.color import rgb2hsv\n",
    "#from keras.preprocessing.image import ImageDataGenerator, array_to_img, img_to_array, load_img\n",
    "import keras\n",
    "import seaborn as sns\n",
    "import pickle as pkl\n",
    "import cv2\n",
    "from matplotlib import pyplot\n",
    "from keras.callbacks import ModelCheckpoint\n",
    "from keras import backend as K\n",
    "import tensorflow as tf\n",
    "from keras.utils import to_categorical\n",
    "from keras.models import Sequential\n",
    "from keras.layers import Dense\n",
    "from keras.layers import Conv2D\n",
    "from keras.layers import MaxPooling2D\n",
    "from keras.layers import BatchNormalization\n",
    "from keras.layers import Dropout\n",
    "from keras.layers import Flatten\n",
    "from keras.layers import Lambda\n",
    "from keras.callbacks import EarlyStopping\n",
    "from sklearn.model_selection import train_test_split\n",
    "from keras.layers import SpatialDropout2D\n",
    "from contextlib import redirect_stdout\n",
    "import numpy as np\n",
    "import matplotlib.pyplot as plt\n",
    "import pandas as pd\n",
    "import os\n",
    "import re\n",
    "import copy\n",
    "import time\n",
    "import training_models\n",
    "import types\n",
    "import inspect"
   ]
  },
  {
   "cell_type": "code",
   "execution_count": 2,
   "metadata": {},
   "outputs": [
    {
     "data": {
      "text/plain": [
       "['/job:localhost/replica:0/task:0/device:GPU:0']"
      ]
     },
     "execution_count": 2,
     "metadata": {},
     "output_type": "execute_result"
    }
   ],
   "source": [
    "# double checking to ensure gpu is enabled for training\n",
    "K.tensorflow_backend._get_available_gpus()"
   ]
  },
  {
   "cell_type": "code",
   "execution_count": 3,
   "metadata": {},
   "outputs": [],
   "source": [
    "cwd = os.getcwd()"
   ]
  },
  {
   "cell_type": "code",
   "execution_count": 4,
   "metadata": {},
   "outputs": [
    {
     "data": {
      "text/plain": [
       "['count_.csv', 'frames']"
      ]
     },
     "execution_count": 4,
     "metadata": {},
     "output_type": "execute_result"
    }
   ],
   "source": [
    "os.listdir(cwd+ '\\\\color_data')"
   ]
  },
  {
   "cell_type": "code",
   "execution_count": 5,
   "metadata": {},
   "outputs": [],
   "source": [
    "target = pd.read_csv(r'C:\\Users\\abelp\\machine_learning\\crowd_count\\data\\count_.csv', names=['target'])"
   ]
  },
  {
   "cell_type": "code",
   "execution_count": 6,
   "metadata": {},
   "outputs": [],
   "source": [
    "t = pkl.load(open(r'C:\\Users\\abelp\\machine_learning\\crowd_count\\final_data\\augmented_target1.pkl','rb') )"
   ]
  },
  {
   "cell_type": "code",
   "execution_count": 7,
   "metadata": {},
   "outputs": [],
   "source": [
    "target = pd.DataFrame(np.append(np.array(target['target']).ravel(),t))"
   ]
  },
  {
   "cell_type": "code",
   "execution_count": 8,
   "metadata": {},
   "outputs": [
    {
     "data": {
      "text/plain": [
       "4000"
      ]
     },
     "execution_count": 8,
     "metadata": {},
     "output_type": "execute_result"
    }
   ],
   "source": [
    "len(target)"
   ]
  },
  {
   "cell_type": "code",
   "execution_count": 9,
   "metadata": {},
   "outputs": [],
   "source": [
    "target.columns = ['target']"
   ]
  },
  {
   "cell_type": "code",
   "execution_count": 10,
   "metadata": {},
   "outputs": [],
   "source": [
    "input_ = np.append(pkl.load(open(r'C:\\Users\\abelp\\machine_learning\\crowd_count\\data\\final_input_aj_1.pkl', 'rb')),\n",
    "                  pkl.load(open(r'C:\\Users\\abelp\\machine_learning\\crowd_count\\data\\final_input_aj_2.pkl', 'rb')),axis=0)"
   ]
  },
  {
   "cell_type": "code",
   "execution_count": 11,
   "metadata": {},
   "outputs": [],
   "source": [
    "input_ = np.append(input_, pkl.load(open(r'C:\\Users\\abelp\\machine_learning\\crowd_count\\final_data\\augmented_frames1.pkl', 'rb')), axis=0)"
   ]
  },
  {
   "cell_type": "code",
   "execution_count": 12,
   "metadata": {},
   "outputs": [],
   "source": [
    "model_location = 'C:\\\\Users\\\\abelp\\\\machine_learning\\\\crowd_count\\\\models\\\\'"
   ]
  },
  {
   "cell_type": "code",
   "execution_count": 14,
   "metadata": {},
   "outputs": [],
   "source": [
    "IMG_SIZE = input_.shape[1]\n",
    "IMG_SIZE2 = input_.shape[2]"
   ]
  },
  {
   "cell_type": "code",
   "execution_count": 15,
   "metadata": {},
   "outputs": [],
   "source": [
    "models_ = training_models.models_to_train"
   ]
  },
  {
   "cell_type": "code",
   "execution_count": 16,
   "metadata": {},
   "outputs": [],
   "source": [
    "target = np.array(target['target'])"
   ]
  },
  {
   "cell_type": "code",
   "execution_count": 17,
   "metadata": {},
   "outputs": [],
   "source": [
    "X_train, X_test, y_train, y_test = train_test_split(input_, target, test_size=0.2, random_state=42, shuffle=True)"
   ]
  },
  {
   "cell_type": "code",
   "execution_count": 18,
   "metadata": {},
   "outputs": [
    {
     "data": {
      "text/plain": [
       "(3200, 480, 640)"
      ]
     },
     "execution_count": 18,
     "metadata": {},
     "output_type": "execute_result"
    }
   ],
   "source": [
    "X_train.shape"
   ]
  },
  {
   "cell_type": "code",
   "execution_count": 19,
   "metadata": {},
   "outputs": [],
   "source": [
    "X_train = np.expand_dims(X_train, axis=3)\n",
    "X_test = np.expand_dims(X_test, axis=3)"
   ]
  },
  {
   "cell_type": "code",
   "execution_count": 20,
   "metadata": {},
   "outputs": [
    {
     "data": {
      "text/plain": [
       "(3200, 480, 640, 1)"
      ]
     },
     "execution_count": 20,
     "metadata": {},
     "output_type": "execute_result"
    }
   ],
   "source": [
    "X_train.shape"
   ]
  },
  {
   "cell_type": "code",
   "execution_count": 21,
   "metadata": {},
   "outputs": [],
   "source": [
    "del input_"
   ]
  },
  {
   "cell_type": "code",
   "execution_count": 22,
   "metadata": {},
   "outputs": [],
   "source": [
    "val_loss_dict = {}"
   ]
  },
  {
   "cell_type": "code",
   "execution_count": 23,
   "metadata": {},
   "outputs": [],
   "source": [
    "def data_Generator():\n",
    "    while True:\n",
    "        for i in range(0,len(X_train) // 100):\n",
    "            time.sleep(0.01)\n",
    "            yield  X_train[i*10:(i+1)*10], y_train[i*10:(i+1)*10]\n",
    "            \n",
    "def train_model(method):        \n",
    "    filepath = model_location + method + '.h5'\n",
    "    \n",
    "    es_callback = EarlyStopping(monitor='mse', patience=5)\n",
    "    checkpoint = ModelCheckpoint(filepath, monitor='val_mse', save_best_only=True, mode='min')\n",
    "    \n",
    "    model = getattr(models_, method)(IMG_SIZE, IMG_SIZE2)\n",
    "\n",
    "    model.compile(optimizer='ADAM', loss='mse', metrics=['mse'])\n",
    "\n",
    "    with open('C:\\\\Users\\\\abelp\\\\machine_learning\\\\crowd_count\\\\model_summary\\\\augmented_' + method + '_summary.txt', 'w') as f:\n",
    "        with redirect_stdout(f):\n",
    "            model.summary()\n",
    "    \n",
    "    history = model.fit_generator(data_Generator(), steps_per_epoch=25, epochs=500,  callbacks=[es_callback, checkpoint], verbose=1, validation_data=(X_test, y_test))\n",
    "    \n",
    "    val_loss_dict[method] = min(history.history['val_mse'])\n",
    "    \n",
    "    plt.figure()\n",
    "    plt.plot(history.history['mse'][1:], label='train')\n",
    "    plt.plot(history.history['val_mse'][1:], label='test')\n",
    "    plt.title('train / test loss - ' + method)\n",
    "    plt.savefig(model_location + 'augmented_sample' + method + '.png')\n",
    "    \n",
    "    del history\n",
    "    del model"
   ]
  },
  {
   "cell_type": "code",
   "execution_count": 24,
   "metadata": {},
   "outputs": [
    {
     "name": "stdout",
     "output_type": "stream",
     "text": [
      "Epoch 1/500\n",
      "25/25 [==============================] - 13s 535ms/step - loss: 436.0553 - mse: 436.0553 - val_loss: 226.3359 - val_mse: 226.3359\n",
      "Epoch 2/500\n",
      "25/25 [==============================] - 7s 266ms/step - loss: 52.5341 - mse: 52.5341 - val_loss: 366.3677 - val_mse: 366.3678\n",
      "Epoch 3/500\n",
      "25/25 [==============================] - 7s 268ms/step - loss: 41.8165 - mse: 41.8165 - val_loss: 89.4575 - val_mse: 89.4575\n",
      "Epoch 4/500\n",
      "25/25 [==============================] - 7s 268ms/step - loss: 32.9038 - mse: 32.9038 - val_loss: 111.3421 - val_mse: 111.3421\n",
      "Epoch 5/500\n",
      "25/25 [==============================] - 7s 268ms/step - loss: 31.9487 - mse: 31.9487 - val_loss: 53.3418 - val_mse: 53.3418\n",
      "Epoch 6/500\n",
      "25/25 [==============================] - 7s 268ms/step - loss: 27.9687 - mse: 27.9687 - val_loss: 27.1529 - val_mse: 27.1529\n",
      "Epoch 7/500\n",
      "25/25 [==============================] - 7s 269ms/step - loss: 23.7646 - mse: 23.7646 - val_loss: 27.6962 - val_mse: 27.6962\n",
      "Epoch 8/500\n",
      "25/25 [==============================] - 7s 287ms/step - loss: 16.6503 - mse: 16.6503 - val_loss: 33.3674 - val_mse: 33.3674\n",
      "Epoch 9/500\n",
      "25/25 [==============================] - 7s 293ms/step - loss: 17.7495 - mse: 17.7495 - val_loss: 51.0288 - val_mse: 51.0288\n",
      "Epoch 10/500\n",
      "25/25 [==============================] - 7s 267ms/step - loss: 16.3008 - mse: 16.3008 - val_loss: 44.8292 - val_mse: 44.8292\n",
      "Epoch 11/500\n",
      "25/25 [==============================] - 7s 274ms/step - loss: 14.7038 - mse: 14.7038 - val_loss: 58.5301 - val_mse: 58.5301\n",
      "Epoch 12/500\n",
      "25/25 [==============================] - 7s 267ms/step - loss: 11.3074 - mse: 11.3074 - val_loss: 111.2951 - val_mse: 111.2951\n",
      "Epoch 13/500\n",
      "25/25 [==============================] - 7s 267ms/step - loss: 11.4061 - mse: 11.4061 - val_loss: 64.3480 - val_mse: 64.3480\n",
      "Epoch 14/500\n",
      "25/25 [==============================] - 7s 274ms/step - loss: 12.4794 - mse: 12.4794 - val_loss: 38.5205 - val_mse: 38.5205\n",
      "Epoch 15/500\n",
      "25/25 [==============================] - 7s 269ms/step - loss: 10.5563 - mse: 10.5563 - val_loss: 20.4028 - val_mse: 20.4028\n",
      "Epoch 16/500\n",
      "25/25 [==============================] - 7s 269ms/step - loss: 25.1458 - mse: 25.1458 - val_loss: 63.8412 - val_mse: 63.8412\n",
      "Epoch 17/500\n",
      "25/25 [==============================] - 7s 269ms/step - loss: 16.7878 - mse: 16.7878 - val_loss: 41.8265 - val_mse: 41.8265\n",
      "Epoch 18/500\n",
      "25/25 [==============================] - 7s 270ms/step - loss: 43.2556 - mse: 43.2556 - val_loss: 26.4452 - val_mse: 26.4452\n",
      "Epoch 19/500\n",
      "25/25 [==============================] - 7s 271ms/step - loss: 29.7990 - mse: 29.7990 - val_loss: 28.4728 - val_mse: 28.4728\n",
      "Epoch 20/500\n",
      "25/25 [==============================] - 7s 269ms/step - loss: 52.7935 - mse: 52.7935 - val_loss: 365.5541 - val_mse: 365.5541\n",
      "Epoch 1/500\n",
      "25/25 [==============================] - 11s 457ms/step - loss: 1027.6513 - mse: 1027.6514 - val_loss: 436222077.6000 - val_mse: 436221984.0000\n",
      "Epoch 2/500\n",
      "25/25 [==============================] - 9s 359ms/step - loss: 933.3756 - mse: 933.3756 - val_loss: 4857017.5875 - val_mse: 4857017.5000\n",
      "Epoch 3/500\n",
      "25/25 [==============================] - 8s 329ms/step - loss: 842.0706 - mse: 842.0705 - val_loss: 1140810.7703 - val_mse: 1140811.0000\n",
      "Epoch 4/500\n",
      "25/25 [==============================] - 9s 350ms/step - loss: 653.0727 - mse: 653.0727 - val_loss: 106264.3472 - val_mse: 106264.3594\n",
      "Epoch 5/500\n",
      "25/25 [==============================] - 8s 320ms/step - loss: 487.8088 - mse: 487.8088 - val_loss: 265259.3965 - val_mse: 265259.4062\n",
      "Epoch 6/500\n",
      "25/25 [==============================] - 8s 323ms/step - loss: 265.9006 - mse: 265.9006 - val_loss: 37540.9604 - val_mse: 37540.9648\n",
      "Epoch 7/500\n",
      "25/25 [==============================] - 8s 316ms/step - loss: 122.5563 - mse: 122.5563 - val_loss: 32814.0270 - val_mse: 32814.0273\n",
      "Epoch 8/500\n",
      "25/25 [==============================] - 8s 314ms/step - loss: 40.6173 - mse: 40.6173 - val_loss: 10069.9911 - val_mse: 10069.9893\n",
      "Epoch 9/500\n",
      "25/25 [==============================] - 8s 315ms/step - loss: 33.1858 - mse: 33.1858 - val_loss: 10818.9547 - val_mse: 10818.9551\n",
      "Epoch 10/500\n",
      "25/25 [==============================] - 8s 313ms/step - loss: 22.8562 - mse: 22.8562 - val_loss: 21627.1601 - val_mse: 21627.1602\n",
      "Epoch 11/500\n",
      "25/25 [==============================] - 8s 313ms/step - loss: 20.6710 - mse: 20.6710 - val_loss: 2167.4204 - val_mse: 2167.4202\n",
      "Epoch 12/500\n",
      "25/25 [==============================] - 8s 315ms/step - loss: 20.1989 - mse: 20.1989 - val_loss: 4870.9723 - val_mse: 4870.9727\n",
      "Epoch 13/500\n",
      "25/25 [==============================] - 8s 314ms/step - loss: 19.0408 - mse: 19.0408 - val_loss: 46.2952 - val_mse: 46.2952\n",
      "Epoch 14/500\n",
      "25/25 [==============================] - 8s 316ms/step - loss: 17.1059 - mse: 17.1059 - val_loss: 508.2447 - val_mse: 508.2447\n",
      "Epoch 15/500\n",
      "25/25 [==============================] - 8s 314ms/step - loss: 15.4092 - mse: 15.4092 - val_loss: 269.2036 - val_mse: 269.2036\n",
      "Epoch 16/500\n",
      "25/25 [==============================] - 8s 314ms/step - loss: 13.1964 - mse: 13.1964 - val_loss: 147.3192 - val_mse: 147.3192\n",
      "Epoch 17/500\n",
      "25/25 [==============================] - 8s 314ms/step - loss: 14.0411 - mse: 14.0411 - val_loss: 34.6426 - val_mse: 34.6426\n",
      "Epoch 18/500\n",
      "25/25 [==============================] - 8s 329ms/step - loss: 14.0916 - mse: 14.0916 - val_loss: 59.6117 - val_mse: 59.6117\n",
      "Epoch 19/500\n",
      "25/25 [==============================] - 8s 326ms/step - loss: 15.0395 - mse: 15.0395 - val_loss: 37.7942 - val_mse: 37.7942\n",
      "Epoch 20/500\n",
      "25/25 [==============================] - 8s 322ms/step - loss: 13.5957 - mse: 13.5957 - val_loss: 35.9339 - val_mse: 35.9340\n",
      "Epoch 21/500\n",
      "25/25 [==============================] - 9s 340ms/step - loss: 11.5130 - mse: 11.5130 - val_loss: 137.3740 - val_mse: 137.3740\n",
      "Epoch 22/500\n",
      "25/25 [==============================] - 8s 313ms/step - loss: 10.9413 - mse: 10.9413 - val_loss: 30.5678 - val_mse: 30.5678\n",
      "Epoch 23/500\n",
      "25/25 [==============================] - 8s 314ms/step - loss: 16.0192 - mse: 16.0192 - val_loss: 37.9812 - val_mse: 37.9812\n",
      "Epoch 24/500\n",
      "25/25 [==============================] - 8s 319ms/step - loss: 12.9770 - mse: 12.9770 - val_loss: 44.1985 - val_mse: 44.1985\n",
      "Epoch 25/500\n",
      "25/25 [==============================] - 8s 316ms/step - loss: 11.6542 - mse: 11.6542 - val_loss: 67.0019 - val_mse: 67.0019\n",
      "Epoch 26/500\n",
      "25/25 [==============================] - 8s 314ms/step - loss: 9.9452 - mse: 9.9452 - val_loss: 48.7512 - val_mse: 48.7512\n",
      "Epoch 27/500\n",
      "25/25 [==============================] - 8s 317ms/step - loss: 10.6712 - mse: 10.6712 - val_loss: 298.3824 - val_mse: 298.3824\n",
      "Epoch 28/500\n",
      "25/25 [==============================] - 8s 321ms/step - loss: 9.8245 - mse: 9.8245 - val_loss: 71.4898 - val_mse: 71.4899\n",
      "Epoch 29/500\n",
      "25/25 [==============================] - 8s 314ms/step - loss: 10.0540 - mse: 10.0540 - val_loss: 62.5720 - val_mse: 62.5720\n",
      "Epoch 30/500\n",
      "25/25 [==============================] - 8s 313ms/step - loss: 9.1362 - mse: 9.1362 - val_loss: 51.6064 - val_mse: 51.6064\n",
      "Epoch 31/500\n",
      "25/25 [==============================] - 8s 314ms/step - loss: 7.6834 - mse: 7.6834 - val_loss: 62.2859 - val_mse: 62.2859\n",
      "Epoch 32/500\n",
      "25/25 [==============================] - 8s 320ms/step - loss: 10.7600 - mse: 10.7600 - val_loss: 24.4684 - val_mse: 24.4684\n",
      "Epoch 33/500\n",
      "25/25 [==============================] - 8s 314ms/step - loss: 11.0125 - mse: 11.0125 - val_loss: 33.7323 - val_mse: 33.7323\n",
      "Epoch 34/500\n",
      "25/25 [==============================] - 8s 314ms/step - loss: 9.7704 - mse: 9.7704 - val_loss: 29.1223 - val_mse: 29.1223\n",
      "Epoch 35/500\n",
      "25/25 [==============================] - 8s 314ms/step - loss: 15.1788 - mse: 15.1788 - val_loss: 414.0818 - val_mse: 414.0818\n",
      "Epoch 36/500\n",
      "25/25 [==============================] - 8s 314ms/step - loss: 10.1223 - mse: 10.1223 - val_loss: 1517.6898 - val_mse: 1517.6899\n",
      "Epoch 1/500\n",
      "25/25 [==============================] - 10s 403ms/step - loss: 1035.2878 - mse: 1035.2877 - val_loss: 1548709156.8000 - val_mse: 1548708864.0000\n",
      "Epoch 2/500\n",
      "25/25 [==============================] - 8s 330ms/step - loss: 931.8066 - mse: 931.8066 - val_loss: 1517900.3109 - val_mse: 1517900.1250\n",
      "Epoch 3/500\n"
     ]
    },
    {
     "name": "stdout",
     "output_type": "stream",
     "text": [
      "25/25 [==============================] - 8s 329ms/step - loss: 846.0769 - mse: 846.0768 - val_loss: 41942.8586 - val_mse: 41942.8633\n",
      "Epoch 4/500\n",
      "25/25 [==============================] - 8s 326ms/step - loss: 665.9308 - mse: 665.9308 - val_loss: 1769.0682 - val_mse: 1769.0682\n",
      "Epoch 5/500\n",
      "25/25 [==============================] - 8s 327ms/step - loss: 509.6440 - mse: 509.6440 - val_loss: 9751.2826 - val_mse: 9751.2842\n",
      "Epoch 6/500\n",
      "25/25 [==============================] - 8s 322ms/step - loss: 287.1202 - mse: 287.1202 - val_loss: 5936.2681 - val_mse: 5936.2695\n",
      "Epoch 7/500\n",
      "25/25 [==============================] - 8s 321ms/step - loss: 137.6316 - mse: 137.6316 - val_loss: 11574.6886 - val_mse: 11574.6904\n",
      "Epoch 8/500\n",
      "25/25 [==============================] - 8s 324ms/step - loss: 44.4703 - mse: 44.4703 - val_loss: 55498.7139 - val_mse: 55498.7148\n",
      "Epoch 9/500\n",
      "25/25 [==============================] - 8s 323ms/step - loss: 33.6622 - mse: 33.6622 - val_loss: 453.7919 - val_mse: 453.7920\n",
      "Epoch 10/500\n",
      "25/25 [==============================] - 8s 322ms/step - loss: 24.1177 - mse: 24.1177 - val_loss: 1023.0340 - val_mse: 1023.0341\n",
      "Epoch 11/500\n",
      "25/25 [==============================] - 8s 321ms/step - loss: 22.7608 - mse: 22.7608 - val_loss: 1880.1453 - val_mse: 1880.1455\n",
      "Epoch 12/500\n",
      "25/25 [==============================] - 8s 323ms/step - loss: 16.9154 - mse: 16.9154 - val_loss: 628.0259 - val_mse: 628.0260\n",
      "Epoch 13/500\n",
      "25/25 [==============================] - 9s 342ms/step - loss: 13.4138 - mse: 13.4138 - val_loss: 196.9982 - val_mse: 196.9983\n",
      "Epoch 14/500\n",
      "25/25 [==============================] - 8s 324ms/step - loss: 13.4779 - mse: 13.4779 - val_loss: 195.0905 - val_mse: 195.0905\n",
      "Epoch 15/500\n",
      "25/25 [==============================] - 8s 324ms/step - loss: 10.9568 - mse: 10.9568 - val_loss: 504.2660 - val_mse: 504.2660\n",
      "Epoch 16/500\n",
      "25/25 [==============================] - 8s 340ms/step - loss: 9.0443 - mse: 9.0443 - val_loss: 155.6756 - val_mse: 155.6756\n",
      "Epoch 17/500\n",
      "25/25 [==============================] - 9s 350ms/step - loss: 8.6699 - mse: 8.6699 - val_loss: 302.6308 - val_mse: 302.6308\n",
      "Epoch 18/500\n",
      "25/25 [==============================] - 9s 345ms/step - loss: 11.8486 - mse: 11.8486 - val_loss: 651.1622 - val_mse: 651.1622\n",
      "Epoch 19/500\n",
      "25/25 [==============================] - 8s 329ms/step - loss: 11.7266 - mse: 11.7266 - val_loss: 158.6367 - val_mse: 158.6367\n",
      "Epoch 20/500\n",
      "25/25 [==============================] - 8s 324ms/step - loss: 12.5093 - mse: 12.5093 - val_loss: 101.4025 - val_mse: 101.4025\n",
      "Epoch 21/500\n",
      "25/25 [==============================] - 8s 339ms/step - loss: 12.4625 - mse: 12.4625 - val_loss: 42.7263 - val_mse: 42.7263\n",
      "Epoch 22/500\n",
      "25/25 [==============================] - 8s 326ms/step - loss: 11.6754 - mse: 11.6754 - val_loss: 145.8953 - val_mse: 145.8952\n"
     ]
    },
    {
     "data": {
      "image/png": "[encoded data removed]",
      "text/plain": [
       "<Figure size 432x288 with 1 Axes>"
      ]
     },
     "metadata": {
      "needs_background": "light"
     },
     "output_type": "display_data"
    },
    {
     "data": {
      "image/png": "[encoded data removed]",
      "text/plain": [
       "<Figure size 432x288 with 1 Axes>"
      ]
     },
     "metadata": {
      "needs_background": "light"
     },
     "output_type": "display_data"
    },
    {
     "data": {
      "image/png": "[encoded data removed]",
      "text/plain": [
       "<Figure size 432x288 with 1 Axes>"
      ]
     },
     "metadata": {
      "needs_background": "light"
     },
     "output_type": "display_data"
    }
   ],
   "source": [
    "exec_methods = [\"alex_net_trasfer_v2\", \"alex_net_trasfer_BE\", \"alex_net_trasfer_BE_LR\"]\n",
    "for method in exec_methods:\n",
    "    train_model(method)"
   ]
  },
  {
   "cell_type": "code",
   "execution_count": 25,
   "metadata": {},
   "outputs": [
    {
     "data": {
      "text/plain": [
       "{'alex_net_trasfer_v2': 20.40282440185547,\n",
       " 'alex_net_trasfer_BE': 24.46835708618164,\n",
       " 'alex_net_trasfer_BE_LR': 42.72626495361328}"
      ]
     },
     "execution_count": 25,
     "metadata": {},
     "output_type": "execute_result"
    }
   ],
   "source": [
    "val_loss_dict"
   ]
  },
  {
   "cell_type": "code",
   "execution_count": 26,
   "metadata": {},
   "outputs": [],
   "source": [
    "#, \"alex_net_trasfer_v2\", \"alex_net_trasfer_BE\", \"alex_net_trasfer_BE_LR\""
   ]
  }
 ],
 "metadata": {
  "kernelspec": {
   "display_name": "Python 3",
   "language": "python",
   "name": "python3"
  },
  "language_info": {
   "codemirror_mode": {
    "name": "ipython",
    "version": 3
   },
   "file_extension": ".py",
   "mimetype": "text/x-python",
   "name": "python",
   "nbconvert_exporter": "python",
   "pygments_lexer": "ipython3",
   "version": "3.7.4"
  }
 },
 "nbformat": 4,
 "nbformat_minor": 1
}
