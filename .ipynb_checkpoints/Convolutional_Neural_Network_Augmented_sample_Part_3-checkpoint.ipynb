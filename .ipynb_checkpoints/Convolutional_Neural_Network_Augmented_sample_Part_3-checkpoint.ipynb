{
 "cells": [
  {
   "cell_type": "code",
   "execution_count": 1,
   "metadata": {},
   "outputs": [
    {
     "name": "stderr",
     "output_type": "stream",
     "text": [
      "Using TensorFlow backend.\n"
     ]
    }
   ],
   "source": [
    "from skimage.color import rgb2hsv\n",
    "#from keras.preprocessing.image import ImageDataGenerator, array_to_img, img_to_array, load_img\n",
    "import keras\n",
    "import seaborn as sns\n",
    "import pickle as pkl\n",
    "import cv2\n",
    "from matplotlib import pyplot\n",
    "from keras.callbacks import ModelCheckpoint\n",
    "from keras import backend as K\n",
    "import tensorflow as tf\n",
    "from keras.utils import to_categorical\n",
    "from keras.models import Sequential\n",
    "from keras.layers import Dense\n",
    "from keras.layers import Conv2D\n",
    "from keras.layers import MaxPooling2D\n",
    "from keras.layers import BatchNormalization\n",
    "from keras.layers import Dropout\n",
    "from keras.layers import Flatten\n",
    "from keras.layers import Lambda\n",
    "from keras.callbacks import EarlyStopping\n",
    "from sklearn.model_selection import train_test_split\n",
    "from keras.layers import SpatialDropout2D\n",
    "from contextlib import redirect_stdout\n",
    "import numpy as np\n",
    "import matplotlib.pyplot as plt\n",
    "import pandas as pd\n",
    "import os\n",
    "import re\n",
    "import copy\n",
    "import time\n",
    "import training_models\n",
    "import types\n",
    "import inspect"
   ]
  },
  {
   "cell_type": "code",
   "execution_count": 2,
   "metadata": {},
   "outputs": [
    {
     "data": {
      "text/plain": [
       "['/job:localhost/replica:0/task:0/device:GPU:0']"
      ]
     },
     "execution_count": 2,
     "metadata": {},
     "output_type": "execute_result"
    }
   ],
   "source": [
    "# double checking to ensure gpu is enabled for training\n",
    "K.tensorflow_backend._get_available_gpus()"
   ]
  },
  {
   "cell_type": "code",
   "execution_count": 3,
   "metadata": {},
   "outputs": [],
   "source": [
    "cwd = os.getcwd()"
   ]
  },
  {
   "cell_type": "code",
   "execution_count": 4,
   "metadata": {},
   "outputs": [
    {
     "data": {
      "text/plain": [
       "['count_.csv', 'frames']"
      ]
     },
     "execution_count": 4,
     "metadata": {},
     "output_type": "execute_result"
    }
   ],
   "source": [
    "os.listdir(cwd+ '\\\\color_data')"
   ]
  },
  {
   "cell_type": "code",
   "execution_count": 5,
   "metadata": {},
   "outputs": [],
   "source": [
    "target = pd.read_csv(r'C:\\Users\\abelp\\machine_learning\\crowd_count\\data\\count_.csv', names=['target'])"
   ]
  },
  {
   "cell_type": "code",
   "execution_count": 6,
   "metadata": {},
   "outputs": [],
   "source": [
    "t = pkl.load(open(r'C:\\Users\\abelp\\machine_learning\\crowd_count\\final_data\\augmented_target1.pkl','rb') )"
   ]
  },
  {
   "cell_type": "code",
   "execution_count": 7,
   "metadata": {},
   "outputs": [],
   "source": [
    "target = pd.DataFrame(np.append(np.array(target['target']).ravel(),t))"
   ]
  },
  {
   "cell_type": "code",
   "execution_count": 8,
   "metadata": {},
   "outputs": [
    {
     "data": {
      "text/plain": [
       "4000"
      ]
     },
     "execution_count": 8,
     "metadata": {},
     "output_type": "execute_result"
    }
   ],
   "source": [
    "len(target)"
   ]
  },
  {
   "cell_type": "code",
   "execution_count": 9,
   "metadata": {},
   "outputs": [],
   "source": [
    "target.columns = ['target']"
   ]
  },
  {
   "cell_type": "code",
   "execution_count": 10,
   "metadata": {},
   "outputs": [],
   "source": [
    "input_ = np.append(pkl.load(open(r'C:\\Users\\abelp\\machine_learning\\crowd_count\\data\\final_input_aj_1.pkl', 'rb')),\n",
    "                  pkl.load(open(r'C:\\Users\\abelp\\machine_learning\\crowd_count\\data\\final_input_aj_2.pkl', 'rb')),axis=0)"
   ]
  },
  {
   "cell_type": "code",
   "execution_count": 11,
   "metadata": {},
   "outputs": [],
   "source": [
    "input_ = np.append(input_, pkl.load(open(r'C:\\Users\\abelp\\machine_learning\\crowd_count\\final_data\\augmented_frames1.pkl', 'rb')), axis=0)"
   ]
  },
  {
   "cell_type": "code",
   "execution_count": 12,
   "metadata": {},
   "outputs": [],
   "source": [
    "model_location = 'C:\\\\Users\\\\abelp\\\\machine_learning\\\\crowd_count\\\\models\\\\'"
   ]
  },
  {
   "cell_type": "code",
   "execution_count": 13,
   "metadata": {},
   "outputs": [
    {
     "data": {
      "text/plain": [
       "['alex_net_trasfer.h5',\n",
       " 'alex_net_trasfer.png',\n",
       " 'alex_net_trasfer_actual.h5',\n",
       " 'alex_net_trasfer_actual.png',\n",
       " 'alex_net_trasfer_BE.h5',\n",
       " 'alex_net_trasfer_BE.png',\n",
       " 'alex_net_trasfer_BE_LR.h5',\n",
       " 'alex_net_trasfer_BE_LR.png',\n",
       " 'alex_net_trasfer_deep_BE.h5',\n",
       " 'alex_net_trasfer_deep_BE.png',\n",
       " 'alex_net_trasfer_deep_BE_LR.h5',\n",
       " 'alex_net_trasfer_deep_BE_LR.png',\n",
       " 'alex_net_trasfer_DO.h5',\n",
       " 'alex_net_trasfer_DO.png',\n",
       " 'alex_net_trasfer_v2.h5',\n",
       " 'alex_net_trasfer_v2.png',\n",
       " 'augmented_samplealex_net_trasfer.png',\n",
       " 'augmented_samplealex_net_trasfer_BE.png',\n",
       " 'augmented_samplealex_net_trasfer_deep_BE_LR.png',\n",
       " 'augmented_samplealex_net_trasfer_v2.png',\n",
       " 'augmented_samplebasic_CNN_v2_BN.png',\n",
       " 'augmented_samplebasic_CNN_v2_BN_LR.png',\n",
       " 'augmented_samplebasic_CNN_v2_DO_LR.png',\n",
       " 'basic_CNN.h5',\n",
       " 'basic_CNN.png',\n",
       " 'basic_CNN_v2.h5',\n",
       " 'basic_CNN_v2.png',\n",
       " 'basic_CNN_v2_BN.h5',\n",
       " 'basic_CNN_v2_BN.png',\n",
       " 'basic_CNN_v2_BN_LR.h5',\n",
       " 'basic_CNN_v2_BN_LR.png',\n",
       " 'basic_CNN_v2_DO.h5',\n",
       " 'basic_CNN_v2_DO.png',\n",
       " 'basic_CNN_v2_DO_LR.h5',\n",
       " 'basic_CNN_v2_DO_LR.png']"
      ]
     },
     "execution_count": 13,
     "metadata": {},
     "output_type": "execute_result"
    }
   ],
   "source": [
    "os.listdir(model_location)"
   ]
  },
  {
   "cell_type": "code",
   "execution_count": 14,
   "metadata": {},
   "outputs": [],
   "source": [
    "IMG_SIZE = input_.shape[1]\n",
    "IMG_SIZE2 = input_.shape[2]"
   ]
  },
  {
   "cell_type": "code",
   "execution_count": 15,
   "metadata": {},
   "outputs": [],
   "source": [
    "models_ = training_models.models_to_train"
   ]
  },
  {
   "cell_type": "code",
   "execution_count": 16,
   "metadata": {},
   "outputs": [],
   "source": [
    "target = np.array(target['target'])"
   ]
  },
  {
   "cell_type": "code",
   "execution_count": 17,
   "metadata": {},
   "outputs": [],
   "source": [
    "X_train, X_test, y_train, y_test = train_test_split(input_, target, test_size=0.2, random_state=42, shuffle=True)"
   ]
  },
  {
   "cell_type": "code",
   "execution_count": 18,
   "metadata": {},
   "outputs": [
    {
     "data": {
      "text/plain": [
       "(3200, 480, 640)"
      ]
     },
     "execution_count": 18,
     "metadata": {},
     "output_type": "execute_result"
    }
   ],
   "source": [
    "X_train.shape"
   ]
  },
  {
   "cell_type": "code",
   "execution_count": 19,
   "metadata": {},
   "outputs": [],
   "source": [
    "X_train = np.expand_dims(X_train, axis=3)\n",
    "X_test = np.expand_dims(X_test, axis=3)"
   ]
  },
  {
   "cell_type": "code",
   "execution_count": 20,
   "metadata": {},
   "outputs": [
    {
     "data": {
      "text/plain": [
       "(3200, 480, 640, 1)"
      ]
     },
     "execution_count": 20,
     "metadata": {},
     "output_type": "execute_result"
    }
   ],
   "source": [
    "X_train.shape"
   ]
  },
  {
   "cell_type": "code",
   "execution_count": 21,
   "metadata": {},
   "outputs": [],
   "source": [
    "del input_"
   ]
  },
  {
   "cell_type": "code",
   "execution_count": 22,
   "metadata": {},
   "outputs": [],
   "source": [
    "val_loss_dict = {}"
   ]
  },
  {
   "cell_type": "code",
   "execution_count": 23,
   "metadata": {},
   "outputs": [],
   "source": [
    "def data_Generator():\n",
    "    while True:\n",
    "        for i in range(0,len(X_train) // 100):\n",
    "            time.sleep(0.01)\n",
    "            yield  X_train[i*10:(i+1)*10], y_train[i*10:(i+1)*10]\n",
    "            \n",
    "def train_model(method):        \n",
    "    filepath = model_location + method + '.h5'\n",
    "    \n",
    "    es_callback = EarlyStopping(monitor='mse', patience=5)\n",
    "    checkpoint = ModelCheckpoint(filepath, monitor='val_mse', save_best_only=True, mode='min')\n",
    "    \n",
    "    model = getattr(models_, method)(IMG_SIZE, IMG_SIZE2)\n",
    "\n",
    "    model.compile(optimizer='ADAM', loss='mse', metrics=['mse'])\n",
    "\n",
    "    with open('C:\\\\Users\\\\abelp\\\\machine_learning\\\\crowd_count\\\\model_summary\\\\augmented_' + method + '_summary.txt', 'w') as f:\n",
    "        with redirect_stdout(f):\n",
    "            model.summary()\n",
    "    \n",
    "    history = model.fit_generator(data_Generator(), steps_per_epoch=25, epochs=500,  callbacks=[es_callback, checkpoint], verbose=1, validation_data=(X_test, y_test))\n",
    "    \n",
    "    val_loss_dict[method] = min(history.history['val_mse'])\n",
    "    \n",
    "    plt.figure()\n",
    "    plt.plot(history.history['mse'][1:], label='train')\n",
    "    plt.plot(history.history['val_mse'][1:], label='test')\n",
    "    plt.title('train / test loss - ' + method)\n",
    "    plt.savefig(model_location + 'augmented_sample' + method + '.png')\n",
    "    \n",
    "    del history\n",
    "    del model"
   ]
  },
  {
   "cell_type": "code",
   "execution_count": 24,
   "metadata": {},
   "outputs": [
    {
     "name": "stdout",
     "output_type": "stream",
     "text": [
      "Epoch 1/500\n",
      "25/25 [==============================] - 7s 293ms/step - loss: 927.5633 - mse: 927.5631 - val_loss: 143.9159 - val_mse: 143.9159\n",
      "Epoch 2/500\n",
      "25/25 [==============================] - 4s 166ms/step - loss: 81.5324 - mse: 81.5324 - val_loss: 90.6894 - val_mse: 90.6894\n",
      "Epoch 3/500\n",
      "25/25 [==============================] - 5s 187ms/step - loss: 55.1079 - mse: 55.1079 - val_loss: 25.8761 - val_mse: 25.8761\n",
      "Epoch 4/500\n",
      "25/25 [==============================] - 5s 181ms/step - loss: 26.2999 - mse: 26.2999 - val_loss: 26.1560 - val_mse: 26.1560\n",
      "Epoch 5/500\n",
      "25/25 [==============================] - 5s 182ms/step - loss: 26.9988 - mse: 26.9988 - val_loss: 20.8547 - val_mse: 20.8547\n",
      "Epoch 6/500\n",
      "25/25 [==============================] - 4s 175ms/step - loss: 25.9159 - mse: 25.9159 - val_loss: 29.1394 - val_mse: 29.1394\n",
      "Epoch 7/500\n",
      "25/25 [==============================] - 4s 176ms/step - loss: 25.8713 - mse: 25.8713 - val_loss: 25.6699 - val_mse: 25.6699\n",
      "Epoch 8/500\n",
      "25/25 [==============================] - 4s 174ms/step - loss: 25.3627 - mse: 25.3627 - val_loss: 19.4925 - val_mse: 19.4925\n",
      "Epoch 9/500\n",
      "25/25 [==============================] - 4s 175ms/step - loss: 24.8064 - mse: 24.8064 - val_loss: 21.7378 - val_mse: 21.7378\n",
      "Epoch 10/500\n",
      "25/25 [==============================] - 5s 184ms/step - loss: 19.7269 - mse: 19.7269 - val_loss: 37.0387 - val_mse: 37.0387\n",
      "Epoch 11/500\n",
      "25/25 [==============================] - 5s 184ms/step - loss: 22.7467 - mse: 22.7467 - val_loss: 30.3672 - val_mse: 30.3672\n",
      "Epoch 12/500\n",
      "25/25 [==============================] - 4s 174ms/step - loss: 23.5191 - mse: 23.5191 - val_loss: 23.2174 - val_mse: 23.2174\n",
      "Epoch 13/500\n",
      "25/25 [==============================] - 4s 167ms/step - loss: 20.6353 - mse: 20.6353 - val_loss: 27.9341 - val_mse: 27.9341\n",
      "Epoch 14/500\n",
      "25/25 [==============================] - 4s 166ms/step - loss: 21.0493 - mse: 21.0493 - val_loss: 23.9913 - val_mse: 23.9913\n",
      "Epoch 15/500\n",
      "25/25 [==============================] - 4s 166ms/step - loss: 18.3247 - mse: 18.3247 - val_loss: 17.1636 - val_mse: 17.1636\n",
      "Epoch 16/500\n",
      "25/25 [==============================] - 4s 165ms/step - loss: 20.8029 - mse: 20.8029 - val_loss: 17.7378 - val_mse: 17.7378\n",
      "Epoch 17/500\n",
      "25/25 [==============================] - 4s 176ms/step - loss: 18.5424 - mse: 18.5424 - val_loss: 19.3328 - val_mse: 19.3328\n",
      "Epoch 18/500\n",
      "25/25 [==============================] - 4s 166ms/step - loss: 17.3683 - mse: 17.3683 - val_loss: 17.1377 - val_mse: 17.1377\n",
      "Epoch 19/500\n",
      "25/25 [==============================] - 4s 173ms/step - loss: 15.2469 - mse: 15.2469 - val_loss: 25.3533 - val_mse: 25.3533\n",
      "Epoch 20/500\n",
      "25/25 [==============================] - 4s 177ms/step - loss: 15.6681 - mse: 15.6681 - val_loss: 26.3301 - val_mse: 26.3301\n",
      "Epoch 21/500\n",
      "25/25 [==============================] - 5s 199ms/step - loss: 15.2090 - mse: 15.2090 - val_loss: 24.6266 - val_mse: 24.6266\n",
      "Epoch 22/500\n",
      "25/25 [==============================] - 5s 189ms/step - loss: 13.6913 - mse: 13.6913 - val_loss: 17.0621 - val_mse: 17.0621\n",
      "Epoch 23/500\n",
      "25/25 [==============================] - 4s 174ms/step - loss: 14.3112 - mse: 14.3111 - val_loss: 17.7026 - val_mse: 17.7026\n",
      "Epoch 24/500\n",
      "25/25 [==============================] - 4s 174ms/step - loss: 11.1328 - mse: 11.1328 - val_loss: 17.6870 - val_mse: 17.6870\n",
      "Epoch 25/500\n",
      "25/25 [==============================] - 4s 169ms/step - loss: 12.0784 - mse: 12.0784 - val_loss: 15.1076 - val_mse: 15.1076\n",
      "Epoch 26/500\n",
      "25/25 [==============================] - 4s 168ms/step - loss: 10.2634 - mse: 10.2634 - val_loss: 14.9541 - val_mse: 14.9541\n",
      "Epoch 27/500\n",
      "25/25 [==============================] - 4s 169ms/step - loss: 11.1478 - mse: 11.1478 - val_loss: 15.5518 - val_mse: 15.5518\n",
      "Epoch 28/500\n",
      "25/25 [==============================] - 4s 170ms/step - loss: 9.6534 - mse: 9.6534 - val_loss: 17.8946 - val_mse: 17.8946\n",
      "Epoch 29/500\n",
      "25/25 [==============================] - 4s 170ms/step - loss: 10.2763 - mse: 10.2763 - val_loss: 14.9369 - val_mse: 14.9369\n",
      "Epoch 30/500\n",
      "25/25 [==============================] - 4s 170ms/step - loss: 9.6810 - mse: 9.6810 - val_loss: 14.2048 - val_mse: 14.2048\n",
      "Epoch 31/500\n",
      "25/25 [==============================] - 4s 171ms/step - loss: 8.1739 - mse: 8.1739 - val_loss: 14.7273 - val_mse: 14.7273\n",
      "Epoch 32/500\n",
      "25/25 [==============================] - 4s 180ms/step - loss: 8.5584 - mse: 8.5584 - val_loss: 15.0183 - val_mse: 15.0183\n",
      "Epoch 33/500\n",
      "25/25 [==============================] - 4s 174ms/step - loss: 7.0338 - mse: 7.0338 - val_loss: 15.2606 - val_mse: 15.2606\n",
      "Epoch 34/500\n",
      "25/25 [==============================] - 4s 170ms/step - loss: 8.3053 - mse: 8.3053 - val_loss: 19.4670 - val_mse: 19.4670\n",
      "Epoch 35/500\n",
      "25/25 [==============================] - 4s 177ms/step - loss: 8.2034 - mse: 8.2034 - val_loss: 14.0000 - val_mse: 14.0000\n",
      "Epoch 36/500\n",
      "25/25 [==============================] - 5s 190ms/step - loss: 7.0328 - mse: 7.0328 - val_loss: 15.7382 - val_mse: 15.7382\n",
      "Epoch 37/500\n",
      "25/25 [==============================] - 4s 166ms/step - loss: 8.5193 - mse: 8.5193 - val_loss: 16.7652 - val_mse: 16.7652\n",
      "Epoch 38/500\n",
      "25/25 [==============================] - 4s 166ms/step - loss: 6.1622 - mse: 6.1622 - val_loss: 14.9010 - val_mse: 14.9010\n",
      "Epoch 39/500\n",
      "25/25 [==============================] - 4s 165ms/step - loss: 5.8195 - mse: 5.8195 - val_loss: 15.1685 - val_mse: 15.1685\n",
      "Epoch 40/500\n",
      "25/25 [==============================] - 4s 167ms/step - loss: 7.3822 - mse: 7.3822 - val_loss: 14.7020 - val_mse: 14.7020\n",
      "Epoch 41/500\n",
      "25/25 [==============================] - 4s 167ms/step - loss: 6.0923 - mse: 6.0923 - val_loss: 15.5266 - val_mse: 15.5266\n",
      "Epoch 42/500\n",
      "25/25 [==============================] - 4s 166ms/step - loss: 6.1626 - mse: 6.1626 - val_loss: 21.0286 - val_mse: 21.0286\n",
      "Epoch 43/500\n",
      "25/25 [==============================] - 4s 167ms/step - loss: 8.5101 - mse: 8.5101 - val_loss: 27.2994 - val_mse: 27.2994\n",
      "Epoch 44/500\n",
      "25/25 [==============================] - 4s 167ms/step - loss: 12.0042 - mse: 12.0042 - val_loss: 15.6302 - val_mse: 15.6302\n",
      "Epoch 1/500\n",
      "25/25 [==============================] - 5s 195ms/step - loss: 3128.5607 - mse: 3128.5605 - val_loss: 429.5515 - val_mse: 429.5516\n",
      "Epoch 2/500\n",
      "25/25 [==============================] - 4s 174ms/step - loss: 75.2643 - mse: 75.2643 - val_loss: 349.3921 - val_mse: 349.3921\n",
      "Epoch 3/500\n",
      "25/25 [==============================] - 4s 173ms/step - loss: 41.1823 - mse: 41.1823 - val_loss: 296.9734 - val_mse: 296.9734\n",
      "Epoch 4/500\n",
      "25/25 [==============================] - 4s 174ms/step - loss: 32.9611 - mse: 32.9611 - val_loss: 240.9749 - val_mse: 240.9748\n",
      "Epoch 5/500\n",
      "25/25 [==============================] - 4s 174ms/step - loss: 34.1324 - mse: 34.1324 - val_loss: 194.0755 - val_mse: 194.0755\n",
      "Epoch 6/500\n",
      "25/25 [==============================] - 4s 173ms/step - loss: 26.9056 - mse: 26.9056 - val_loss: 216.3460 - val_mse: 216.3460\n",
      "Epoch 7/500\n",
      "25/25 [==============================] - 4s 173ms/step - loss: 28.7542 - mse: 28.7542 - val_loss: 104.4879 - val_mse: 104.4879\n",
      "Epoch 8/500\n",
      "25/25 [==============================] - 4s 174ms/step - loss: 23.5489 - mse: 23.5489 - val_loss: 121.6400 - val_mse: 121.6400\n",
      "Epoch 9/500\n",
      "25/25 [==============================] - 4s 173ms/step - loss: 24.8199 - mse: 24.8199 - val_loss: 79.5440 - val_mse: 79.5440\n",
      "Epoch 10/500\n",
      "25/25 [==============================] - 4s 173ms/step - loss: 21.4242 - mse: 21.4242 - val_loss: 89.7571 - val_mse: 89.7571\n",
      "Epoch 11/500\n",
      "25/25 [==============================] - 4s 174ms/step - loss: 19.0929 - mse: 19.0929 - val_loss: 83.2966 - val_mse: 83.2966\n",
      "Epoch 12/500\n",
      "25/25 [==============================] - 4s 174ms/step - loss: 18.4572 - mse: 18.4572 - val_loss: 36.5128 - val_mse: 36.5128\n",
      "Epoch 13/500\n",
      "25/25 [==============================] - 4s 173ms/step - loss: 16.2782 - mse: 16.2782 - val_loss: 56.1625 - val_mse: 56.1625\n",
      "Epoch 14/500\n",
      "25/25 [==============================] - 4s 171ms/step - loss: 16.9481 - mse: 16.9481 - val_loss: 36.7198 - val_mse: 36.7198\n",
      "Epoch 15/500\n",
      "25/25 [==============================] - 4s 172ms/step - loss: 13.4290 - mse: 13.4290 - val_loss: 67.1986 - val_mse: 67.1986\n",
      "Epoch 16/500\n"
     ]
    },
    {
     "name": "stdout",
     "output_type": "stream",
     "text": [
      "25/25 [==============================] - 4s 172ms/step - loss: 14.0712 - mse: 14.0712 - val_loss: 27.2434 - val_mse: 27.2434\n",
      "Epoch 17/500\n",
      "25/25 [==============================] - 4s 171ms/step - loss: 11.2643 - mse: 11.2643 - val_loss: 33.8943 - val_mse: 33.8943\n",
      "Epoch 18/500\n",
      "25/25 [==============================] - 4s 173ms/step - loss: 13.0266 - mse: 13.0267 - val_loss: 35.3976 - val_mse: 35.3976\n",
      "Epoch 19/500\n",
      "25/25 [==============================] - 4s 172ms/step - loss: 12.4258 - mse: 12.4258 - val_loss: 30.2144 - val_mse: 30.2144\n",
      "Epoch 20/500\n",
      "25/25 [==============================] - 4s 172ms/step - loss: 12.6247 - mse: 12.6247 - val_loss: 44.0654 - val_mse: 44.0654\n",
      "Epoch 21/500\n",
      "25/25 [==============================] - 4s 172ms/step - loss: 13.7751 - mse: 13.7751 - val_loss: 49.3701 - val_mse: 49.3701\n",
      "Epoch 22/500\n",
      "25/25 [==============================] - 4s 172ms/step - loss: 15.8765 - mse: 15.8765 - val_loss: 48.5222 - val_mse: 48.5222\n",
      "Epoch 1/500\n",
      "25/25 [==============================] - 8s 301ms/step - loss: 1208.1409 - mse: 1208.1410 - val_loss: 626.2688 - val_mse: 626.2689\n",
      "Epoch 2/500\n",
      "25/25 [==============================] - 6s 226ms/step - loss: 71.8949 - mse: 71.8950 - val_loss: 486.9768 - val_mse: 486.9767\n",
      "Epoch 3/500\n",
      "25/25 [==============================] - 6s 225ms/step - loss: 46.5111 - mse: 46.5111 - val_loss: 352.4700 - val_mse: 352.4699\n",
      "Epoch 4/500\n",
      "25/25 [==============================] - 6s 225ms/step - loss: 46.6525 - mse: 46.6525 - val_loss: 439.5220 - val_mse: 439.5219\n",
      "Epoch 5/500\n",
      "25/25 [==============================] - 6s 226ms/step - loss: 51.0343 - mse: 51.0343 - val_loss: 390.1756 - val_mse: 390.1757\n",
      "Epoch 6/500\n",
      "25/25 [==============================] - 6s 225ms/step - loss: 40.3529 - mse: 40.3529 - val_loss: 355.6401 - val_mse: 355.6401\n",
      "Epoch 7/500\n",
      "25/25 [==============================] - 6s 225ms/step - loss: 42.0383 - mse: 42.0383 - val_loss: 435.6764 - val_mse: 435.6763\n",
      "Epoch 8/500\n",
      "25/25 [==============================] - 6s 226ms/step - loss: 41.1484 - mse: 41.1484 - val_loss: 397.4244 - val_mse: 397.4243\n",
      "Epoch 9/500\n",
      "25/25 [==============================] - 6s 226ms/step - loss: 44.4000 - mse: 44.4000 - val_loss: 328.5122 - val_mse: 328.5122\n",
      "Epoch 10/500\n",
      "25/25 [==============================] - 6s 225ms/step - loss: 37.2250 - mse: 37.2250 - val_loss: 398.2974 - val_mse: 398.2975\n",
      "Epoch 11/500\n",
      "25/25 [==============================] - 6s 225ms/step - loss: 28.6121 - mse: 28.6121 - val_loss: 435.2996 - val_mse: 435.2997\n",
      "Epoch 12/500\n",
      "25/25 [==============================] - 6s 227ms/step - loss: 35.1957 - mse: 35.1957 - val_loss: 342.7319 - val_mse: 342.7318\n",
      "Epoch 13/500\n",
      "25/25 [==============================] - 6s 232ms/step - loss: 29.2970 - mse: 29.2970 - val_loss: 365.6701 - val_mse: 365.6702\n",
      "Epoch 14/500\n",
      "25/25 [==============================] - 6s 230ms/step - loss: 37.5418 - mse: 37.5418 - val_loss: 396.4092 - val_mse: 396.4091\n",
      "Epoch 15/500\n",
      "25/25 [==============================] - 6s 250ms/step - loss: 21.9920 - mse: 21.9920 - val_loss: 333.4320 - val_mse: 333.4320\n",
      "Epoch 16/500\n",
      "25/25 [==============================] - 6s 239ms/step - loss: 31.6568 - mse: 31.6568 - val_loss: 350.3772 - val_mse: 350.3773\n",
      "Epoch 17/500\n",
      "25/25 [==============================] - 6s 227ms/step - loss: 34.9632 - mse: 34.9632 - val_loss: 407.0618 - val_mse: 407.0618\n",
      "Epoch 18/500\n",
      "25/25 [==============================] - 6s 228ms/step - loss: 30.6976 - mse: 30.6976 - val_loss: 444.2446 - val_mse: 444.2446\n",
      "Epoch 19/500\n",
      "25/25 [==============================] - 6s 226ms/step - loss: 30.7580 - mse: 30.7580 - val_loss: 401.5576 - val_mse: 401.5576\n",
      "Epoch 20/500\n",
      "25/25 [==============================] - 6s 226ms/step - loss: 27.0227 - mse: 27.0227 - val_loss: 412.9337 - val_mse: 412.9337\n"
     ]
    },
    {
     "data": {
      "image/png": "[encoded data removed]",
      "text/plain": [
       "<Figure size 432x288 with 1 Axes>"
      ]
     },
     "metadata": {
      "needs_background": "light"
     },
     "output_type": "display_data"
    },
    {
     "data": {
      "image/png": "[encoded data removed]",
      "text/plain": [
       "<Figure size 432x288 with 1 Axes>"
      ]
     },
     "metadata": {
      "needs_background": "light"
     },
     "output_type": "display_data"
    },
    {
     "data": {
      "image/png": "[encoded data removed]",
      "text/plain": [
       "<Figure size 432x288 with 1 Axes>"
      ]
     },
     "metadata": {
      "needs_background": "light"
     },
     "output_type": "display_data"
    }
   ],
   "source": [
    "exec_methods = ['basic_CNN_v2_DO_LR', 'basic_CNN_v2_BN_LR', \"alex_net_trasfer\"]\n",
    "for method in exec_methods:\n",
    "    train_model(method)"
   ]
  },
  {
   "cell_type": "code",
   "execution_count": 25,
   "metadata": {},
   "outputs": [
    {
     "data": {
      "text/plain": [
       "{'basic_CNN_v2_DO_LR': 14.000003814697266,\n",
       " 'basic_CNN_v2_BN_LR': 27.243406295776367,\n",
       " 'alex_net_trasfer': 328.5122375488281}"
      ]
     },
     "execution_count": 25,
     "metadata": {},
     "output_type": "execute_result"
    }
   ],
   "source": [
    "val_loss_dict"
   ]
  },
  {
   "cell_type": "code",
   "execution_count": 26,
   "metadata": {},
   "outputs": [],
   "source": [
    "#, \"alex_net_trasfer_v2\", \"alex_net_trasfer_BE\", \"alex_net_trasfer_BE_LR\""
   ]
  }
 ],
 "metadata": {
  "kernelspec": {
   "display_name": "Python 3",
   "language": "python",
   "name": "python3"
  },
  "language_info": {
   "codemirror_mode": {
    "name": "ipython",
    "version": 3
   },
   "file_extension": ".py",
   "mimetype": "text/x-python",
   "name": "python",
   "nbconvert_exporter": "python",
   "pygments_lexer": "ipython3",
   "version": "3.7.4"
  }
 },
 "nbformat": 4,
 "nbformat_minor": 1
}
