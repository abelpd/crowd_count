{
 "cells": [
  {
   "cell_type": "code",
   "execution_count": 1,
   "metadata": {},
   "outputs": [
    {
     "name": "stderr",
     "output_type": "stream",
     "text": [
      "Using TensorFlow backend.\n"
     ]
    }
   ],
   "source": [
    "from skimage.color import rgb2hsv\n",
    "#from keras.preprocessing.image import ImageDataGenerator, array_to_img, img_to_array, load_img\n",
    "import keras\n",
    "import seaborn as sns\n",
    "import pickle as pkl\n",
    "import cv2\n",
    "from matplotlib import pyplot\n",
    "from keras.callbacks import ModelCheckpoint\n",
    "from keras import backend as K\n",
    "import tensorflow as tf\n",
    "from keras.utils import to_categorical\n",
    "from keras.models import Sequential\n",
    "from keras.layers import Dense\n",
    "from keras.layers import Conv2D\n",
    "from keras.layers import MaxPooling2D\n",
    "from keras.layers import BatchNormalization\n",
    "from keras.layers import Dropout\n",
    "from keras.layers import Flatten\n",
    "from keras.layers import Lambda\n",
    "from keras.callbacks import EarlyStopping\n",
    "from sklearn.model_selection import train_test_split\n",
    "from keras.layers import SpatialDropout2D\n",
    "from contextlib import redirect_stdout\n",
    "import numpy as np\n",
    "import matplotlib.pyplot as plt\n",
    "import pandas as pd\n",
    "import os\n",
    "import re\n",
    "import copy\n",
    "import time\n",
    "import training_models\n",
    "import types\n",
    "import inspect"
   ]
  },
  {
   "cell_type": "code",
   "execution_count": 2,
   "metadata": {},
   "outputs": [
    {
     "data": {
      "text/plain": [
       "['/job:localhost/replica:0/task:0/device:GPU:0']"
      ]
     },
     "execution_count": 2,
     "metadata": {},
     "output_type": "execute_result"
    }
   ],
   "source": [
    "# double checking to ensure gpu is enabled for training\n",
    "K.tensorflow_backend._get_available_gpus()"
   ]
  },
  {
   "cell_type": "code",
   "execution_count": 3,
   "metadata": {},
   "outputs": [],
   "source": [
    "cwd = os.getcwd()"
   ]
  },
  {
   "cell_type": "code",
   "execution_count": 4,
   "metadata": {},
   "outputs": [
    {
     "data": {
      "text/plain": [
       "['count_.csv', 'frames']"
      ]
     },
     "execution_count": 4,
     "metadata": {},
     "output_type": "execute_result"
    }
   ],
   "source": [
    "os.listdir(cwd+ '\\\\color_data')"
   ]
  },
  {
   "cell_type": "code",
   "execution_count": 5,
   "metadata": {},
   "outputs": [],
   "source": [
    "target = pd.read_csv(r'C:\\Users\\abelp\\machine_learning\\crowd_count\\data\\count_.csv', names=['target'])"
   ]
  },
  {
   "cell_type": "code",
   "execution_count": 6,
   "metadata": {},
   "outputs": [],
   "source": [
    "t = pkl.load(open(r'C:\\Users\\abelp\\machine_learning\\crowd_count\\final_data\\augmented_target.pkl','rb') )"
   ]
  },
  {
   "cell_type": "code",
   "execution_count": 7,
   "metadata": {},
   "outputs": [],
   "source": [
    "target = pd.DataFrame(np.append(np.array(target['target']).ravel(),t))"
   ]
  },
  {
   "cell_type": "code",
   "execution_count": 8,
   "metadata": {},
   "outputs": [
    {
     "data": {
      "text/plain": [
       "4000"
      ]
     },
     "execution_count": 8,
     "metadata": {},
     "output_type": "execute_result"
    }
   ],
   "source": [
    "len(target)"
   ]
  },
  {
   "cell_type": "code",
   "execution_count": 9,
   "metadata": {},
   "outputs": [],
   "source": [
    "target.columns = ['target']"
   ]
  },
  {
   "cell_type": "code",
   "execution_count": 10,
   "metadata": {},
   "outputs": [],
   "source": [
    "input_ = np.append(pkl.load(open(r'C:\\Users\\abelp\\machine_learning\\crowd_count\\data\\final_input_aj_1.pkl', 'rb')),\n",
    "                  pkl.load(open(r'C:\\Users\\abelp\\machine_learning\\crowd_count\\data\\final_input_aj_2.pkl', 'rb')),axis=0)"
   ]
  },
  {
   "cell_type": "code",
   "execution_count": 11,
   "metadata": {},
   "outputs": [],
   "source": [
    "input_ = np.append(input_, pkl.load(open(r'C:\\Users\\abelp\\machine_learning\\crowd_count\\final_data\\augmented_frames.pkl', 'rb')), axis=0)"
   ]
  },
  {
   "cell_type": "code",
   "execution_count": 12,
   "metadata": {},
   "outputs": [],
   "source": [
    "model_location = 'C:\\\\Users\\\\abelp\\\\machine_learning\\\\crowd_count\\\\models\\\\'"
   ]
  },
  {
   "cell_type": "code",
   "execution_count": 13,
   "metadata": {},
   "outputs": [
    {
     "data": {
      "text/plain": [
       "['alex_net_trasfer.h5',\n",
       " 'alex_net_trasfer.png',\n",
       " 'alex_net_trasfer_deep.h5',\n",
       " 'alex_net_trasfer_deep.png',\n",
       " 'alex_net_trasfer_deep_BE.h5',\n",
       " 'alex_net_trasfer_deep_BE.png',\n",
       " 'alex_net_trasfer_deep_BE_LR.h5',\n",
       " 'alex_net_trasfer_deep_BE_LR.png',\n",
       " 'alex_net_trasfer_v2.h5',\n",
       " 'alex_net_trasfer_v2.png',\n",
       " 'augmented_samplealex_net_trasfer_deep_BE_LR.png',\n",
       " 'augmented_samplealex_net_trasfer_v2.png',\n",
       " 'augmented_samplebasic_CNN_v2_BN.png',\n",
       " 'basic_CNN.h5',\n",
       " 'basic_CNN.png',\n",
       " 'basic_CNN_v2.h5',\n",
       " 'basic_CNN_v2.png',\n",
       " 'basic_CNN_v2_BN.h5',\n",
       " 'basic_CNN_v2_BN.png',\n",
       " 'basic_CNN_v2_DO.h5',\n",
       " 'basic_CNN_v2_DO.png']"
      ]
     },
     "execution_count": 13,
     "metadata": {},
     "output_type": "execute_result"
    }
   ],
   "source": [
    "os.listdir(model_location)"
   ]
  },
  {
   "cell_type": "code",
   "execution_count": 14,
   "metadata": {},
   "outputs": [],
   "source": [
    "IMG_SIZE = input_.shape[1]\n",
    "IMG_SIZE2 = input_.shape[2]"
   ]
  },
  {
   "cell_type": "code",
   "execution_count": 15,
   "metadata": {},
   "outputs": [],
   "source": [
    "models_ = training_models.models_to_train"
   ]
  },
  {
   "cell_type": "code",
   "execution_count": 16,
   "metadata": {},
   "outputs": [],
   "source": [
    "target = np.array(target['target'])"
   ]
  },
  {
   "cell_type": "code",
   "execution_count": 17,
   "metadata": {},
   "outputs": [],
   "source": [
    "X_train, X_test, y_train, y_test = train_test_split(input_, target, test_size=0.2, random_state=42, shuffle=True)"
   ]
  },
  {
   "cell_type": "code",
   "execution_count": 18,
   "metadata": {},
   "outputs": [
    {
     "data": {
      "text/plain": [
       "(3200, 480, 640)"
      ]
     },
     "execution_count": 18,
     "metadata": {},
     "output_type": "execute_result"
    }
   ],
   "source": [
    "X_train.shape"
   ]
  },
  {
   "cell_type": "code",
   "execution_count": 19,
   "metadata": {},
   "outputs": [],
   "source": [
    "X_train = np.expand_dims(X_train, axis=3)\n",
    "X_test = np.expand_dims(X_test, axis=3)"
   ]
  },
  {
   "cell_type": "code",
   "execution_count": 20,
   "metadata": {},
   "outputs": [
    {
     "data": {
      "text/plain": [
       "(3200, 480, 640, 1)"
      ]
     },
     "execution_count": 20,
     "metadata": {},
     "output_type": "execute_result"
    }
   ],
   "source": [
    "X_train.shape"
   ]
  },
  {
   "cell_type": "code",
   "execution_count": 21,
   "metadata": {},
   "outputs": [],
   "source": [
    "del input_"
   ]
  },
  {
   "cell_type": "code",
   "execution_count": 22,
   "metadata": {},
   "outputs": [],
   "source": [
    "val_loss_dict = {}"
   ]
  },
  {
   "cell_type": "code",
   "execution_count": 23,
   "metadata": {},
   "outputs": [],
   "source": [
    "def data_Generator():\n",
    "    while True:\n",
    "        for i in range(0,len(X_train) // 100):\n",
    "            time.sleep(0.01)\n",
    "            yield  X_train[i*10:(i+1)*10], y_train[i*10:(i+1)*10]\n",
    "            \n",
    "def train_model(method):        \n",
    "    filepath = model_location + method + '.h5'\n",
    "    \n",
    "    es_callback = EarlyStopping(monitor='mse', patience=5)\n",
    "    checkpoint = ModelCheckpoint(filepath, monitor='val_mse', save_best_only=True, mode='min')\n",
    "    \n",
    "    model = getattr(models_, method)(IMG_SIZE, IMG_SIZE2)\n",
    "\n",
    "    model.compile(optimizer='ADAM', loss='mse', metrics=['mse'])\n",
    "\n",
    "    with open('C:\\\\Users\\\\abelp\\\\machine_learning\\\\crowd_count\\\\model_summary\\\\' + method + '_summary.txt', 'w') as f:\n",
    "        with redirect_stdout(f):\n",
    "            model.summary()\n",
    "    \n",
    "    history = model.fit_generator(data_Generator(), steps_per_epoch=25, epochs=500,  callbacks=[es_callback, checkpoint], verbose=1, validation_data=(X_test, y_test))\n",
    "    \n",
    "    val_loss_dict[method] = min(history.history['val_mse'])\n",
    "    \n",
    "    plt.figure()\n",
    "    plt.plot(history.history['mse'][1:], label='train')\n",
    "    plt.plot(history.history['val_mse'][1:], label='test')\n",
    "    plt.title('train / test loss - ' + method)\n",
    "    plt.savefig(model_location + 'augmented_sample' + method + '.png')\n",
    "    \n",
    "    del history\n",
    "    del model"
   ]
  },
  {
   "cell_type": "code",
   "execution_count": 24,
   "metadata": {},
   "outputs": [
    {
     "name": "stdout",
     "output_type": "stream",
     "text": [
      "Epoch 1/500\n",
      "25/25 [==============================] - 10s 394ms/step - loss: 2821.3145 - mse: 2821.3145 - val_loss: 410.9599 - val_mse: 410.9599\n",
      "Epoch 2/500\n",
      "25/25 [==============================] - 4s 166ms/step - loss: 62.9614 - mse: 62.9614 - val_loss: 295.5546 - val_mse: 295.5547\n",
      "Epoch 3/500\n",
      "25/25 [==============================] - 4s 163ms/step - loss: 46.7129 - mse: 46.7129 - val_loss: 133.5769 - val_mse: 133.5769\n",
      "Epoch 4/500\n",
      "25/25 [==============================] - 4s 164ms/step - loss: 42.7566 - mse: 42.7566 - val_loss: 95.9152 - val_mse: 95.9152\n",
      "Epoch 5/500\n",
      "25/25 [==============================] - 4s 166ms/step - loss: 41.3629 - mse: 41.3629 - val_loss: 64.1533 - val_mse: 64.1533\n",
      "Epoch 6/500\n",
      "25/25 [==============================] - 4s 167ms/step - loss: 28.8210 - mse: 28.8210 - val_loss: 55.3714 - val_mse: 55.3714\n",
      "Epoch 7/500\n",
      "25/25 [==============================] - 4s 167ms/step - loss: 26.4491 - mse: 26.4491 - val_loss: 37.6815 - val_mse: 37.6815\n",
      "Epoch 8/500\n",
      "25/25 [==============================] - 4s 165ms/step - loss: 23.1359 - mse: 23.1359 - val_loss: 33.1487 - val_mse: 33.1487\n",
      "Epoch 9/500\n",
      "25/25 [==============================] - 4s 164ms/step - loss: 23.5305 - mse: 23.5305 - val_loss: 38.9712 - val_mse: 38.9712\n",
      "Epoch 10/500\n",
      "25/25 [==============================] - 4s 166ms/step - loss: 18.5974 - mse: 18.5974 - val_loss: 29.3285 - val_mse: 29.3285\n",
      "Epoch 11/500\n",
      "25/25 [==============================] - 4s 166ms/step - loss: 16.8963 - mse: 16.8963 - val_loss: 30.8107 - val_mse: 30.8107\n",
      "Epoch 12/500\n",
      "25/25 [==============================] - 4s 164ms/step - loss: 14.4693 - mse: 14.4693 - val_loss: 52.0094 - val_mse: 52.0094\n",
      "Epoch 13/500\n",
      "25/25 [==============================] - 4s 168ms/step - loss: 14.3029 - mse: 14.3029 - val_loss: 27.7243 - val_mse: 27.7243\n",
      "Epoch 14/500\n",
      "25/25 [==============================] - 4s 166ms/step - loss: 12.9731 - mse: 12.9731 - val_loss: 46.6938 - val_mse: 46.6937\n",
      "Epoch 15/500\n",
      "25/25 [==============================] - 4s 164ms/step - loss: 11.8535 - mse: 11.8535 - val_loss: 27.8617 - val_mse: 27.8617\n",
      "Epoch 16/500\n",
      "25/25 [==============================] - 4s 164ms/step - loss: 11.3473 - mse: 11.3473 - val_loss: 45.1599 - val_mse: 45.1599\n",
      "Epoch 17/500\n",
      "25/25 [==============================] - 4s 166ms/step - loss: 9.6491 - mse: 9.6491 - val_loss: 27.2772 - val_mse: 27.2772\n",
      "Epoch 18/500\n",
      "25/25 [==============================] - 4s 165ms/step - loss: 11.2812 - mse: 11.2812 - val_loss: 34.7318 - val_mse: 34.7318\n",
      "Epoch 19/500\n",
      "25/25 [==============================] - 4s 175ms/step - loss: 9.3235 - mse: 9.3235 - val_loss: 26.5647 - val_mse: 26.5647\n",
      "Epoch 20/500\n",
      "25/25 [==============================] - 4s 173ms/step - loss: 8.9202 - mse: 8.9202 - val_loss: 27.8505 - val_mse: 27.8505\n",
      "Epoch 21/500\n",
      "25/25 [==============================] - 4s 167ms/step - loss: 8.9848 - mse: 8.9848 - val_loss: 49.7719 - val_mse: 49.7719\n",
      "Epoch 22/500\n",
      "25/25 [==============================] - 4s 177ms/step - loss: 8.9543 - mse: 8.9543 - val_loss: 29.8550 - val_mse: 29.8550\n",
      "Epoch 23/500\n",
      "25/25 [==============================] - 4s 167ms/step - loss: 9.3582 - mse: 9.3582 - val_loss: 52.6391 - val_mse: 52.6391\n",
      "Epoch 24/500\n",
      "25/25 [==============================] - 4s 166ms/step - loss: 9.2416 - mse: 9.2416 - val_loss: 48.0697 - val_mse: 48.0697\n",
      "Epoch 25/500\n",
      "25/25 [==============================] - 4s 167ms/step - loss: 9.6525 - mse: 9.6525 - val_loss: 50.7522 - val_mse: 50.7523\n",
      "Epoch 1/500\n",
      "25/25 [==============================] - 9s 357ms/step - loss: 329.8397 - mse: 329.8397 - val_loss: 215.9589 - val_mse: 215.9588\n",
      "Epoch 2/500\n",
      "25/25 [==============================] - 6s 256ms/step - loss: 40.4935 - mse: 40.4935 - val_loss: 138.2168 - val_mse: 138.2168\n",
      "Epoch 3/500\n",
      "25/25 [==============================] - 6s 256ms/step - loss: 48.4002 - mse: 48.4002 - val_loss: 40.4328 - val_mse: 40.4328\n",
      "Epoch 4/500\n",
      "25/25 [==============================] - 6s 256ms/step - loss: 27.7283 - mse: 27.7283 - val_loss: 38.8604 - val_mse: 38.8604\n",
      "Epoch 5/500\n",
      "25/25 [==============================] - 6s 256ms/step - loss: 23.9452 - mse: 23.9452 - val_loss: 34.1358 - val_mse: 34.1358\n",
      "Epoch 6/500\n",
      "25/25 [==============================] - 7s 261ms/step - loss: 21.8093 - mse: 21.8093 - val_loss: 50.6154 - val_mse: 50.6154\n",
      "Epoch 7/500\n",
      "25/25 [==============================] - 7s 270ms/step - loss: 24.1423 - mse: 24.1423 - val_loss: 24.1471 - val_mse: 24.1471\n",
      "Epoch 8/500\n",
      "25/25 [==============================] - 7s 280ms/step - loss: 20.6592 - mse: 20.6592 - val_loss: 37.3271 - val_mse: 37.3271\n",
      "Epoch 9/500\n",
      "25/25 [==============================] - 7s 265ms/step - loss: 19.5987 - mse: 19.5987 - val_loss: 62.6129 - val_mse: 62.6129\n",
      "Epoch 10/500\n",
      "25/25 [==============================] - 7s 263ms/step - loss: 21.9101 - mse: 21.9101 - val_loss: 37.7971 - val_mse: 37.7971\n",
      "Epoch 11/500\n",
      "25/25 [==============================] - 6s 256ms/step - loss: 24.6935 - mse: 24.6935 - val_loss: 21.5068 - val_mse: 21.5068\n",
      "Epoch 12/500\n",
      "25/25 [==============================] - 6s 255ms/step - loss: 20.8716 - mse: 20.8716 - val_loss: 152.3298 - val_mse: 152.3298\n",
      "Epoch 13/500\n",
      "25/25 [==============================] - 6s 256ms/step - loss: 18.5912 - mse: 18.5912 - val_loss: 31.7002 - val_mse: 31.7002\n",
      "Epoch 14/500\n",
      "25/25 [==============================] - 6s 255ms/step - loss: 60.8345 - mse: 60.8345 - val_loss: 41.5501 - val_mse: 41.5501\n",
      "Epoch 15/500\n",
      "25/25 [==============================] - 6s 255ms/step - loss: 45.4303 - mse: 45.4303 - val_loss: 102.5374 - val_mse: 102.5374\n",
      "Epoch 16/500\n",
      "25/25 [==============================] - 6s 255ms/step - loss: 27.9922 - mse: 27.9922 - val_loss: 30.8843 - val_mse: 30.8843\n",
      "Epoch 17/500\n",
      "25/25 [==============================] - 6s 255ms/step - loss: 27.8753 - mse: 27.8753 - val_loss: 212.1889 - val_mse: 212.1888\n",
      "Epoch 18/500\n",
      "25/25 [==============================] - 6s 255ms/step - loss: 47.4798 - mse: 47.4798 - val_loss: 245.0324 - val_mse: 245.0324\n",
      "Epoch 1/500\n",
      "25/25 [==============================] - 10s 382ms/step - loss: 8744.2671 - mse: 8744.2666 - val_loss: 238.8752 - val_mse: 238.8752\n",
      "Epoch 2/500\n",
      "25/25 [==============================] - 8s 319ms/step - loss: 139.6920 - mse: 139.6920 - val_loss: 183.6959 - val_mse: 183.6959\n",
      "Epoch 3/500\n",
      "25/25 [==============================] - 8s 319ms/step - loss: 92.7322 - mse: 92.7322 - val_loss: 256.9469 - val_mse: 256.9469\n",
      "Epoch 4/500\n",
      "25/25 [==============================] - 8s 324ms/step - loss: 50.3966 - mse: 50.3966 - val_loss: 310.9512 - val_mse: 310.9511\n",
      "Epoch 5/500\n",
      "25/25 [==============================] - 8s 319ms/step - loss: 40.2576 - mse: 40.2576 - val_loss: 264.7760 - val_mse: 264.7761\n",
      "Epoch 6/500\n",
      "25/25 [==============================] - 8s 319ms/step - loss: 31.7170 - mse: 31.7170 - val_loss: 348.1808 - val_mse: 348.1808\n",
      "Epoch 7/500\n",
      "25/25 [==============================] - 8s 322ms/step - loss: 26.8095 - mse: 26.8095 - val_loss: 199.7358 - val_mse: 199.7358\n",
      "Epoch 8/500\n",
      "25/25 [==============================] - 8s 319ms/step - loss: 22.9021 - mse: 22.9021 - val_loss: 249.7616 - val_mse: 249.7616\n",
      "Epoch 9/500\n",
      "25/25 [==============================] - 8s 319ms/step - loss: 22.8310 - mse: 22.8310 - val_loss: 160.0527 - val_mse: 160.0526\n",
      "Epoch 10/500\n",
      "25/25 [==============================] - 8s 320ms/step - loss: 16.8120 - mse: 16.8120 - val_loss: 202.0896 - val_mse: 202.0896\n",
      "Epoch 11/500\n",
      "25/25 [==============================] - 8s 319ms/step - loss: 14.8678 - mse: 14.8678 - val_loss: 153.9492 - val_mse: 153.9491\n",
      "Epoch 12/500\n",
      "25/25 [==============================] - 8s 318ms/step - loss: 12.7375 - mse: 12.7375 - val_loss: 100.4414 - val_mse: 100.4414\n",
      "Epoch 13/500\n",
      "25/25 [==============================] - 8s 319ms/step - loss: 12.9100 - mse: 12.9100 - val_loss: 112.8087 - val_mse: 112.8087\n",
      "Epoch 14/500\n",
      "25/25 [==============================] - 8s 318ms/step - loss: 10.7065 - mse: 10.7065 - val_loss: 71.5909 - val_mse: 71.5909\n",
      "Epoch 15/500\n",
      "25/25 [==============================] - 8s 318ms/step - loss: 8.9116 - mse: 8.9116 - val_loss: 116.7029 - val_mse: 116.7029\n",
      "Epoch 16/500\n",
      "25/25 [==============================] - 8s 318ms/step - loss: 8.7142 - mse: 8.7142 - val_loss: 52.5718 - val_mse: 52.5718\n",
      "Epoch 17/500\n"
     ]
    },
    {
     "name": "stdout",
     "output_type": "stream",
     "text": [
      "25/25 [==============================] - 8s 318ms/step - loss: 7.6942 - mse: 7.6942 - val_loss: 66.0487 - val_mse: 66.0487\n",
      "Epoch 18/500\n",
      "25/25 [==============================] - 8s 318ms/step - loss: 7.3665 - mse: 7.3665 - val_loss: 45.3552 - val_mse: 45.3552\n",
      "Epoch 19/500\n",
      "25/25 [==============================] - 8s 319ms/step - loss: 5.8553 - mse: 5.8553 - val_loss: 50.6655 - val_mse: 50.6655\n",
      "Epoch 20/500\n",
      "25/25 [==============================] - 8s 321ms/step - loss: 5.3282 - mse: 5.3282 - val_loss: 52.0187 - val_mse: 52.0187\n",
      "Epoch 21/500\n",
      "25/25 [==============================] - 8s 318ms/step - loss: 5.3181 - mse: 5.3181 - val_loss: 36.4885 - val_mse: 36.4885\n",
      "Epoch 22/500\n",
      "25/25 [==============================] - 8s 318ms/step - loss: 5.3116 - mse: 5.3116 - val_loss: 46.9257 - val_mse: 46.9257\n",
      "Epoch 23/500\n",
      "25/25 [==============================] - 8s 319ms/step - loss: 4.9707 - mse: 4.9707 - val_loss: 38.6935 - val_mse: 38.6935\n",
      "Epoch 24/500\n",
      "25/25 [==============================] - 8s 321ms/step - loss: 3.9905 - mse: 3.9905 - val_loss: 54.9672 - val_mse: 54.9672\n",
      "Epoch 25/500\n",
      "25/25 [==============================] - 8s 335ms/step - loss: 4.6593 - mse: 4.6593 - val_loss: 37.6740 - val_mse: 37.6740\n",
      "Epoch 26/500\n",
      "25/25 [==============================] - 8s 321ms/step - loss: 4.4833 - mse: 4.4833 - val_loss: 42.7546 - val_mse: 42.7546\n",
      "Epoch 27/500\n",
      "25/25 [==============================] - 8s 326ms/step - loss: 4.1923 - mse: 4.1923 - val_loss: 41.8090 - val_mse: 41.8090\n",
      "Epoch 28/500\n",
      "25/25 [==============================] - 8s 318ms/step - loss: 4.9527 - mse: 4.9527 - val_loss: 36.5495 - val_mse: 36.5495\n",
      "Epoch 29/500\n",
      "25/25 [==============================] - 8s 326ms/step - loss: 5.6577 - mse: 5.6577 - val_loss: 55.0406 - val_mse: 55.0406\n"
     ]
    },
    {
     "data": {
      "image/png": "[encoded data removed]",
      "text/plain": [
       "<Figure size 432x288 with 1 Axes>"
      ]
     },
     "metadata": {
      "needs_background": "light"
     },
     "output_type": "display_data"
    },
    {
     "data": {
      "image/png": "[encoded data removed]",
      "text/plain": [
       "<Figure size 432x288 with 1 Axes>"
      ]
     },
     "metadata": {
      "needs_background": "light"
     },
     "output_type": "display_data"
    },
    {
     "data": {
      "image/png": "[encoded data removed]",
      "text/plain": [
       "<Figure size 432x288 with 1 Axes>"
      ]
     },
     "metadata": {
      "needs_background": "light"
     },
     "output_type": "display_data"
    }
   ],
   "source": [
    "exec_methods = ['basic_CNN_v2_BN', 'alex_net_trasfer_v2', \"alex_net_trasfer_deep_BE_LR\"]\n",
    "for method in exec_methods:\n",
    "    train_model(method)"
   ]
  },
  {
   "cell_type": "code",
   "execution_count": 25,
   "metadata": {},
   "outputs": [
    {
     "data": {
      "text/plain": [
       "{'basic_CNN_v2_BN': 26.564655303955078,\n",
       " 'alex_net_trasfer_v2': 21.506797790527344,\n",
       " 'alex_net_trasfer_deep_BE_LR': 36.48847579956055}"
      ]
     },
     "execution_count": 25,
     "metadata": {},
     "output_type": "execute_result"
    }
   ],
   "source": [
    "val_loss_dict"
   ]
  },
  {
   "cell_type": "code",
   "execution_count": null,
   "metadata": {},
   "outputs": [],
   "source": []
  }
 ],
 "metadata": {
  "kernelspec": {
   "display_name": "Python 3",
   "language": "python",
   "name": "python3"
  },
  "language_info": {
   "codemirror_mode": {
    "name": "ipython",
    "version": 3
   },
   "file_extension": ".py",
   "mimetype": "text/x-python",
   "name": "python",
   "nbconvert_exporter": "python",
   "pygments_lexer": "ipython3",
   "version": "3.7.4"
  }
 },
 "nbformat": 4,
 "nbformat_minor": 1
}
