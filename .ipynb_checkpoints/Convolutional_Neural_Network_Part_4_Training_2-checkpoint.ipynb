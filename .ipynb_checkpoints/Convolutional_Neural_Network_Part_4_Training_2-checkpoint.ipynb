{
 "cells": [
  {
   "cell_type": "code",
   "execution_count": 1,
   "metadata": {},
   "outputs": [
    {
     "name": "stderr",
     "output_type": "stream",
     "text": [
      "Using TensorFlow backend.\n"
     ]
    }
   ],
   "source": [
    "from skimage.color import rgb2hsv\n",
    "#from keras.preprocessing.image import ImageDataGenerator, array_to_img, img_to_array, load_img\n",
    "import keras\n",
    "import seaborn as sns\n",
    "import pickle as pkl\n",
    "import cv2\n",
    "from matplotlib import pyplot\n",
    "from keras.callbacks import ModelCheckpoint\n",
    "from keras import backend as K\n",
    "import tensorflow as tf\n",
    "from keras.utils import to_categorical\n",
    "from keras.models import Sequential\n",
    "from keras.layers import Dense\n",
    "from keras.layers import Conv2D\n",
    "from keras.layers import MaxPooling2D\n",
    "from keras.layers import BatchNormalization\n",
    "from keras.layers import Dropout\n",
    "from keras.layers import Flatten\n",
    "from keras.layers import Lambda\n",
    "from keras.callbacks import EarlyStopping\n",
    "from sklearn.model_selection import train_test_split\n",
    "from keras.layers import SpatialDropout2D\n",
    "from contextlib import redirect_stdout\n",
    "import numpy as np\n",
    "import matplotlib.pyplot as plt\n",
    "import pandas as pd\n",
    "import os\n",
    "import re\n",
    "import copy\n",
    "import time\n",
    "import training_models\n",
    "import types\n",
    "import inspect"
   ]
  },
  {
   "cell_type": "code",
   "execution_count": 2,
   "metadata": {},
   "outputs": [
    {
     "data": {
      "text/plain": [
       "['/job:localhost/replica:0/task:0/device:GPU:0']"
      ]
     },
     "execution_count": 2,
     "metadata": {},
     "output_type": "execute_result"
    }
   ],
   "source": [
    "# double checking to ensure gpu is enabled for training\n",
    "K.tensorflow_backend._get_available_gpus()"
   ]
  },
  {
   "cell_type": "code",
   "execution_count": 3,
   "metadata": {},
   "outputs": [],
   "source": [
    "cwd = os.getcwd()"
   ]
  },
  {
   "cell_type": "code",
   "execution_count": 4,
   "metadata": {},
   "outputs": [
    {
     "data": {
      "text/plain": [
       "['count_.csv', 'frames']"
      ]
     },
     "execution_count": 4,
     "metadata": {},
     "output_type": "execute_result"
    }
   ],
   "source": [
    "os.listdir(cwd+ '\\\\color_data')"
   ]
  },
  {
   "cell_type": "code",
   "execution_count": 5,
   "metadata": {},
   "outputs": [],
   "source": [
    "target = pd.read_csv(r'C:\\Users\\abelp\\machine_learning\\crowd_count\\data\\count_.csv', names=['target'])"
   ]
  },
  {
   "cell_type": "code",
   "execution_count": 6,
   "metadata": {},
   "outputs": [
    {
     "data": {
      "text/plain": [
       "2000"
      ]
     },
     "execution_count": 6,
     "metadata": {},
     "output_type": "execute_result"
    }
   ],
   "source": [
    "len(target)"
   ]
  },
  {
   "cell_type": "code",
   "execution_count": 7,
   "metadata": {},
   "outputs": [],
   "source": [
    "target.columns = ['target']"
   ]
  },
  {
   "cell_type": "code",
   "execution_count": 8,
   "metadata": {},
   "outputs": [],
   "source": [
    "input_ = np.append(pkl.load(open(r'C:\\Users\\abelp\\machine_learning\\crowd_count\\final_data\\mean_normalized1.pkl', 'rb')),\n",
    "                  pkl.load(open(r'C:\\Users\\abelp\\machine_learning\\crowd_count\\final_data\\mean_normalized2.pkl', 'rb')),axis=0)"
   ]
  },
  {
   "cell_type": "code",
   "execution_count": 9,
   "metadata": {},
   "outputs": [],
   "source": [
    "model_location = 'C:\\\\Users\\\\abelp\\\\machine_learning\\\\crowd_count\\\\models\\\\'"
   ]
  },
  {
   "cell_type": "code",
   "execution_count": 10,
   "metadata": {},
   "outputs": [
    {
     "data": {
      "text/plain": [
       "['alex_net_trasfer.h5',\n",
       " 'alex_net_trasfer.png',\n",
       " 'alex_net_trasfer_actual.h5',\n",
       " 'alex_net_trasfer_actual.png',\n",
       " 'alex_net_trasfer_BE.h5',\n",
       " 'alex_net_trasfer_BE.png',\n",
       " 'alex_net_trasfer_BE_LR.h5',\n",
       " 'alex_net_trasfer_BE_LR.png',\n",
       " 'alex_net_trasfer_deep_BE.h5',\n",
       " 'alex_net_trasfer_deep_BE.png',\n",
       " 'alex_net_trasfer_deep_BE_LR.h5',\n",
       " 'alex_net_trasfer_deep_BE_LR.png',\n",
       " 'alex_net_trasfer_DO.h5',\n",
       " 'alex_net_trasfer_DO.png',\n",
       " 'alex_net_trasfer_v2.h5',\n",
       " 'alex_net_trasfer_v2.png',\n",
       " 'augmented_samplealex_net_trasfer.png',\n",
       " 'augmented_samplealex_net_trasfer_BE.png',\n",
       " 'augmented_samplealex_net_trasfer_BE_LR.png',\n",
       " 'augmented_samplealex_net_trasfer_deep_BE_LR.png',\n",
       " 'augmented_samplealex_net_trasfer_v2.png',\n",
       " 'augmented_samplebasic_CNN_v2_BN.png',\n",
       " 'augmented_samplebasic_CNN_v2_BN_LR.png',\n",
       " 'augmented_samplebasic_CNN_v2_DO_LR.png',\n",
       " 'basic_CNN.h5',\n",
       " 'basic_CNN.png',\n",
       " 'basic_CNN_v2.h5',\n",
       " 'basic_CNN_v2.png',\n",
       " 'basic_CNN_v2_BN.h5',\n",
       " 'basic_CNN_v2_BN.png',\n",
       " 'basic_CNN_v2_BN_LR.h5',\n",
       " 'basic_CNN_v2_BN_LR.png',\n",
       " 'basic_CNN_v2_DO.h5',\n",
       " 'basic_CNN_v2_DO.png',\n",
       " 'basic_CNN_v2_DO_LR.h5',\n",
       " 'basic_CNN_v2_DO_LR.png',\n",
       " 'normalized_samplealex_net_trasfer.png',\n",
       " 'normalized_samplealex_net_trasfer_BE.png',\n",
       " 'normalized_samplealex_net_trasfer_BE_LR.png',\n",
       " 'normalized_samplealex_net_trasfer_v2.png',\n",
       " 'normalized_samplebasic_CNN_v2_BN_LR.png',\n",
       " 'normalized_samplebasic_CNN_v2_DO_LR.png']"
      ]
     },
     "execution_count": 10,
     "metadata": {},
     "output_type": "execute_result"
    }
   ],
   "source": [
    "os.listdir(model_location)"
   ]
  },
  {
   "cell_type": "code",
   "execution_count": 11,
   "metadata": {},
   "outputs": [],
   "source": [
    "IMG_SIZE = input_.shape[1]\n",
    "IMG_SIZE2 = input_.shape[2]"
   ]
  },
  {
   "cell_type": "code",
   "execution_count": 12,
   "metadata": {},
   "outputs": [],
   "source": [
    "models_ = training_models.models_to_train"
   ]
  },
  {
   "cell_type": "code",
   "execution_count": 13,
   "metadata": {},
   "outputs": [],
   "source": [
    "target = np.array(target['target'])"
   ]
  },
  {
   "cell_type": "code",
   "execution_count": 14,
   "metadata": {},
   "outputs": [],
   "source": [
    "X_train, X_test, y_train, y_test = train_test_split(input_, target, test_size=0.2, random_state=42, shuffle=True)"
   ]
  },
  {
   "cell_type": "code",
   "execution_count": 15,
   "metadata": {},
   "outputs": [
    {
     "data": {
      "text/plain": [
       "(1600, 480, 640)"
      ]
     },
     "execution_count": 15,
     "metadata": {},
     "output_type": "execute_result"
    }
   ],
   "source": [
    "X_train.shape"
   ]
  },
  {
   "cell_type": "code",
   "execution_count": 16,
   "metadata": {},
   "outputs": [],
   "source": [
    "X_train = np.expand_dims(X_train, axis=3)\n",
    "X_test = np.expand_dims(X_test, axis=3)"
   ]
  },
  {
   "cell_type": "code",
   "execution_count": 17,
   "metadata": {},
   "outputs": [
    {
     "data": {
      "text/plain": [
       "(1600, 480, 640, 1)"
      ]
     },
     "execution_count": 17,
     "metadata": {},
     "output_type": "execute_result"
    }
   ],
   "source": [
    "X_train.shape"
   ]
  },
  {
   "cell_type": "code",
   "execution_count": 18,
   "metadata": {},
   "outputs": [],
   "source": [
    "del input_"
   ]
  },
  {
   "cell_type": "code",
   "execution_count": 19,
   "metadata": {},
   "outputs": [],
   "source": [
    "val_loss_dict = {}"
   ]
  },
  {
   "cell_type": "code",
   "execution_count": 20,
   "metadata": {},
   "outputs": [],
   "source": [
    "def data_Generator():\n",
    "    while True:\n",
    "        for i in range(0,len(X_train) // 100):\n",
    "            time.sleep(0.01)\n",
    "            yield  X_train[i*10:(i+1)*10], y_train[i*10:(i+1)*10]\n",
    "            \n",
    "def train_model(method):        \n",
    "    filepath = model_location + method + '.h5'\n",
    "    \n",
    "    es_callback = EarlyStopping(monitor='mse', patience=5)\n",
    "    checkpoint = ModelCheckpoint(filepath, monitor='val_mse', save_best_only=True, mode='min')\n",
    "    \n",
    "    model = getattr(models_, method)(IMG_SIZE, IMG_SIZE2)\n",
    "\n",
    "    model.compile(optimizer='ADAM', loss='mse', metrics=['mse'])\n",
    "\n",
    "    with open('C:\\\\Users\\\\abelp\\\\machine_learning\\\\crowd_count\\\\model_summary\\\\augmented_' + method + '_summary.txt', 'w') as f:\n",
    "        with redirect_stdout(f):\n",
    "            model.summary()\n",
    "    \n",
    "    history = model.fit_generator(data_Generator(), steps_per_epoch=50, epochs=500,  callbacks=[es_callback, checkpoint], verbose=1, validation_data=(X_test, y_test))\n",
    "    \n",
    "    val_loss_dict[method] = min(history.history['val_mse'])\n",
    "    \n",
    "    plt.figure()\n",
    "    plt.plot(history.history['mse'][1:], label='train')\n",
    "    plt.plot(history.history['val_mse'][1:], label='test')\n",
    "    plt.title('train / test loss - ' + method)\n",
    "    plt.savefig(model_location + 'normalized_sample' + method + '.png')\n",
    "    \n",
    "    del history\n",
    "    del model"
   ]
  },
  {
   "cell_type": "code",
   "execution_count": 21,
   "metadata": {},
   "outputs": [
    {
     "name": "stdout",
     "output_type": "stream",
     "text": [
      "Epoch 1/500\n",
      "50/50 [==============================] - 15s 301ms/step - loss: 181.7914 - mse: 181.7914 - val_loss: 72.0553 - val_mse: 72.0553\n",
      "Epoch 2/500\n",
      "50/50 [==============================] - 9s 172ms/step - loss: 31.5413 - mse: 31.5413 - val_loss: 382.2024 - val_mse: 382.2023\n",
      "Epoch 3/500\n",
      "50/50 [==============================] - 9s 172ms/step - loss: 20.4604 - mse: 20.4604 - val_loss: 102.0159 - val_mse: 102.0159\n",
      "Epoch 4/500\n",
      "50/50 [==============================] - 9s 172ms/step - loss: 30.9363 - mse: 30.9363 - val_loss: 88.8548 - val_mse: 88.8548\n",
      "Epoch 5/500\n",
      "50/50 [==============================] - 9s 172ms/step - loss: 80.9418 - mse: 80.9418 - val_loss: 139.0388 - val_mse: 139.0388\n",
      "Epoch 6/500\n",
      "50/50 [==============================] - 9s 172ms/step - loss: 33.8063 - mse: 33.8063 - val_loss: 203.0983 - val_mse: 203.0983\n",
      "Epoch 7/500\n",
      "50/50 [==============================] - 9s 173ms/step - loss: 10.7566 - mse: 10.7566 - val_loss: 143.9162 - val_mse: 143.9162\n",
      "Epoch 8/500\n",
      "50/50 [==============================] - 9s 173ms/step - loss: 7.8237 - mse: 7.8237 - val_loss: 59.4061 - val_mse: 59.4061\n",
      "Epoch 9/500\n",
      "50/50 [==============================] - 9s 173ms/step - loss: 12.0536 - mse: 12.0536 - val_loss: 299.8272 - val_mse: 299.8272\n",
      "Epoch 10/500\n",
      "50/50 [==============================] - 9s 173ms/step - loss: 13.6708 - mse: 13.6708 - val_loss: 368.6281 - val_mse: 368.6281\n",
      "Epoch 11/500\n",
      "50/50 [==============================] - 9s 176ms/step - loss: 13.4159 - mse: 13.4159 - val_loss: 2230.4704 - val_mse: 2230.4702\n",
      "Epoch 12/500\n",
      "50/50 [==============================] - 9s 173ms/step - loss: 10.8412 - mse: 10.8412 - val_loss: 232.7584 - val_mse: 232.7584\n",
      "Epoch 13/500\n",
      "50/50 [==============================] - 9s 173ms/step - loss: 8.1905 - mse: 8.1905 - val_loss: 194.8294 - val_mse: 194.8294\n",
      "Epoch 1/500\n",
      "50/50 [==============================] - 14s 270ms/step - loss: 928.5642 - mse: 928.5641 - val_loss: 2939768.4562 - val_mse: 2939768.2500\n",
      "Epoch 2/500\n",
      "50/50 [==============================] - 11s 211ms/step - loss: 697.7506 - mse: 697.7507 - val_loss: 1004.6782 - val_mse: 1004.6782\n",
      "Epoch 3/500\n",
      "50/50 [==============================] - 11s 212ms/step - loss: 296.2296 - mse: 296.2296 - val_loss: 4120.5002 - val_mse: 4120.5000\n",
      "Epoch 4/500\n",
      "50/50 [==============================] - 11s 211ms/step - loss: 40.9959 - mse: 40.9959 - val_loss: 1029.8796 - val_mse: 1029.8795\n",
      "Epoch 5/500\n",
      "50/50 [==============================] - 11s 211ms/step - loss: 6.9967 - mse: 6.9967 - val_loss: 119.3168 - val_mse: 119.3168\n",
      "Epoch 6/500\n",
      "50/50 [==============================] - 11s 211ms/step - loss: 5.4478 - mse: 5.4478 - val_loss: 35.0914 - val_mse: 35.0914\n",
      "Epoch 7/500\n",
      "50/50 [==============================] - 11s 213ms/step - loss: 2.3043 - mse: 2.3043 - val_loss: 18.2295 - val_mse: 18.2295\n",
      "Epoch 8/500\n",
      "50/50 [==============================] - 11s 212ms/step - loss: 2.0947 - mse: 2.0947 - val_loss: 18.7334 - val_mse: 18.7334\n",
      "Epoch 9/500\n",
      "50/50 [==============================] - 11s 217ms/step - loss: 2.5543 - mse: 2.5543 - val_loss: 18.6345 - val_mse: 18.6344\n",
      "Epoch 10/500\n",
      "50/50 [==============================] - 11s 216ms/step - loss: 5.6715 - mse: 5.6715 - val_loss: 24.3857 - val_mse: 24.3857\n",
      "Epoch 11/500\n",
      "50/50 [==============================] - 11s 211ms/step - loss: 8.9246 - mse: 8.9246 - val_loss: 30.9513 - val_mse: 30.9514\n",
      "Epoch 12/500\n",
      "50/50 [==============================] - 11s 212ms/step - loss: 3.6539 - mse: 3.6539 - val_loss: 20.9541 - val_mse: 20.9541\n",
      "Epoch 13/500\n",
      "50/50 [==============================] - 11s 214ms/step - loss: 2.3377 - mse: 2.3377 - val_loss: 17.4943 - val_mse: 17.4943\n",
      "Epoch 1/500\n",
      "50/50 [==============================] - 13s 266ms/step - loss: 935.5911 - mse: 935.5912 - val_loss: 3291195.3500 - val_mse: 3291195.5000\n",
      "Epoch 2/500\n",
      "50/50 [==============================] - 11s 219ms/step - loss: 711.3295 - mse: 711.3296 - val_loss: 9200.3737 - val_mse: 9200.3740\n",
      "Epoch 3/500\n",
      "50/50 [==============================] - 11s 216ms/step - loss: 315.2493 - mse: 315.2492 - val_loss: 474.1438 - val_mse: 474.1438\n",
      "Epoch 4/500\n",
      "50/50 [==============================] - 11s 215ms/step - loss: 46.1370 - mse: 46.1370 - val_loss: 93.6155 - val_mse: 93.6155\n",
      "Epoch 5/500\n",
      "50/50 [==============================] - 11s 217ms/step - loss: 5.4172 - mse: 5.4172 - val_loss: 33.3807 - val_mse: 33.3807\n",
      "Epoch 6/500\n",
      "50/50 [==============================] - 11s 225ms/step - loss: 10.5782 - mse: 10.5782 - val_loss: 288.5059 - val_mse: 288.5059\n",
      "Epoch 7/500\n",
      "50/50 [==============================] - 11s 216ms/step - loss: 6.3631 - mse: 6.3631 - val_loss: 427.4680 - val_mse: 427.4680\n",
      "Epoch 8/500\n",
      "50/50 [==============================] - 11s 216ms/step - loss: 3.5339 - mse: 3.5339 - val_loss: 17.3139 - val_mse: 17.3139\n",
      "Epoch 9/500\n",
      "50/50 [==============================] - 11s 213ms/step - loss: 3.5954 - mse: 3.5954 - val_loss: 93.6503 - val_mse: 93.6503\n",
      "Epoch 10/500\n",
      "50/50 [==============================] - 11s 215ms/step - loss: 3.5283 - mse: 3.5283 - val_loss: 17.3201 - val_mse: 17.3201\n",
      "Epoch 11/500\n",
      "50/50 [==============================] - 11s 216ms/step - loss: 2.5258 - mse: 2.5258 - val_loss: 15.5326 - val_mse: 15.5326\n",
      "Epoch 12/500\n",
      "50/50 [==============================] - 11s 215ms/step - loss: 2.8717 - mse: 2.8717 - val_loss: 20.3827 - val_mse: 20.3827\n",
      "Epoch 13/500\n",
      "50/50 [==============================] - 11s 216ms/step - loss: 4.0834 - mse: 4.0834 - val_loss: 38.4143 - val_mse: 38.4143\n",
      "Epoch 14/500\n",
      "50/50 [==============================] - 11s 223ms/step - loss: 4.3798 - mse: 4.3798 - val_loss: 174.6382 - val_mse: 174.6382\n",
      "Epoch 15/500\n",
      "50/50 [==============================] - 11s 218ms/step - loss: 3.2799 - mse: 3.2799 - val_loss: 36.7203 - val_mse: 36.7203\n",
      "Epoch 16/500\n",
      "50/50 [==============================] - 11s 218ms/step - loss: 2.3215 - mse: 2.3215 - val_loss: 16.3620 - val_mse: 16.3620\n",
      "Epoch 17/500\n",
      "50/50 [==============================] - 11s 229ms/step - loss: 2.0469 - mse: 2.0469 - val_loss: 19.6449 - val_mse: 19.6449\n",
      "Epoch 18/500\n",
      "50/50 [==============================] - 11s 224ms/step - loss: 2.1220 - mse: 2.1220 - val_loss: 13.5695 - val_mse: 13.5695\n",
      "Epoch 19/500\n",
      "50/50 [==============================] - 11s 219ms/step - loss: 2.0566 - mse: 2.0566 - val_loss: 15.0481 - val_mse: 15.0481\n",
      "Epoch 20/500\n",
      "50/50 [==============================] - 11s 218ms/step - loss: 2.2364 - mse: 2.2364 - val_loss: 12.9370 - val_mse: 12.9370\n",
      "Epoch 21/500\n",
      "50/50 [==============================] - 11s 224ms/step - loss: 2.8242 - mse: 2.8242 - val_loss: 106.2171 - val_mse: 106.2171\n",
      "Epoch 22/500\n",
      "50/50 [==============================] - 12s 230ms/step - loss: 3.3575 - mse: 3.3575 - val_loss: 20.7843 - val_mse: 20.7843\n"
     ]
    },
    {
     "data": {
      "image/png": "[encoded data removed]",
      "text/plain": [
       "<Figure size 432x288 with 1 Axes>"
      ]
     },
     "metadata": {
      "needs_background": "light"
     },
     "output_type": "display_data"
    },
    {
     "data": {
      "image/png": "[encoded data removed]",
      "text/plain": [
       "<Figure size 432x288 with 1 Axes>"
      ]
     },
     "metadata": {
      "needs_background": "light"
     },
     "output_type": "display_data"
    },
    {
     "data": {
      "image/png": "[encoded data removed]",
      "text/plain": [
       "<Figure size 432x288 with 1 Axes>"
      ]
     },
     "metadata": {
      "needs_background": "light"
     },
     "output_type": "display_data"
    }
   ],
   "source": [
    "exec_methods = [\"alex_net_trasfer_v2\", \"alex_net_trasfer_BE\", \"alex_net_trasfer_BE_LR\"]\n",
    "for method in exec_methods:\n",
    "    train_model(method)"
   ]
  },
  {
   "cell_type": "code",
   "execution_count": 22,
   "metadata": {},
   "outputs": [
    {
     "data": {
      "text/plain": [
       "{'alex_net_trasfer_v2': 59.40611267089844,\n",
       " 'alex_net_trasfer_BE': 17.494321823120117,\n",
       " 'alex_net_trasfer_BE_LR': 12.9369535446167}"
      ]
     },
     "execution_count": 22,
     "metadata": {},
     "output_type": "execute_result"
    }
   ],
   "source": [
    "val_loss_dict"
   ]
  },
  {
   "cell_type": "code",
   "execution_count": 23,
   "metadata": {},
   "outputs": [],
   "source": [
    "#, \"alex_net_trasfer_v2\", \"alex_net_trasfer_BE\", \"alex_net_trasfer_BE_LR\""
   ]
  }
 ],
 "metadata": {
  "kernelspec": {
   "display_name": "Python 3",
   "language": "python",
   "name": "python3"
  },
  "language_info": {
   "codemirror_mode": {
    "name": "ipython",
    "version": 3
   },
   "file_extension": ".py",
   "mimetype": "text/x-python",
   "name": "python",
   "nbconvert_exporter": "python",
   "pygments_lexer": "ipython3",
   "version": "3.7.4"
  }
 },
 "nbformat": 4,
 "nbformat_minor": 1
}
