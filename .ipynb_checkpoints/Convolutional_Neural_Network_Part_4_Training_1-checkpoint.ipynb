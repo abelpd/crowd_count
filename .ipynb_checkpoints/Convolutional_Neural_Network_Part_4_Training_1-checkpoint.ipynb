{
 "cells": [
  {
   "cell_type": "code",
   "execution_count": 1,
   "metadata": {},
   "outputs": [
    {
     "name": "stderr",
     "output_type": "stream",
     "text": [
      "Using TensorFlow backend.\n"
     ]
    }
   ],
   "source": [
    "from skimage.color import rgb2hsv\n",
    "#from keras.preprocessing.image import ImageDataGenerator, array_to_img, img_to_array, load_img\n",
    "import keras\n",
    "import seaborn as sns\n",
    "import pickle as pkl\n",
    "import cv2\n",
    "from matplotlib import pyplot\n",
    "from keras.callbacks import ModelCheckpoint\n",
    "from keras import backend as K\n",
    "import tensorflow as tf\n",
    "from keras.utils import to_categorical\n",
    "from keras.models import Sequential\n",
    "from keras.layers import Dense\n",
    "from keras.layers import Conv2D\n",
    "from keras.layers import MaxPooling2D\n",
    "from keras.layers import BatchNormalization\n",
    "from keras.layers import Dropout\n",
    "from keras.layers import Flatten\n",
    "from keras.layers import Lambda\n",
    "from keras.callbacks import EarlyStopping\n",
    "from sklearn.model_selection import train_test_split\n",
    "from keras.layers import SpatialDropout2D\n",
    "from contextlib import redirect_stdout\n",
    "import numpy as np\n",
    "import matplotlib.pyplot as plt\n",
    "import pandas as pd\n",
    "import os\n",
    "import re\n",
    "import copy\n",
    "import time\n",
    "import training_models\n",
    "import types\n",
    "import inspect"
   ]
  },
  {
   "cell_type": "code",
   "execution_count": 2,
   "metadata": {},
   "outputs": [
    {
     "data": {
      "text/plain": [
       "['/job:localhost/replica:0/task:0/device:GPU:0']"
      ]
     },
     "execution_count": 2,
     "metadata": {},
     "output_type": "execute_result"
    }
   ],
   "source": [
    "# double checking to ensure gpu is enabled for training\n",
    "K.tensorflow_backend._get_available_gpus()"
   ]
  },
  {
   "cell_type": "code",
   "execution_count": 3,
   "metadata": {},
   "outputs": [],
   "source": [
    "cwd = os.getcwd()"
   ]
  },
  {
   "cell_type": "code",
   "execution_count": 4,
   "metadata": {},
   "outputs": [
    {
     "data": {
      "text/plain": [
       "['count_.csv', 'frames']"
      ]
     },
     "execution_count": 4,
     "metadata": {},
     "output_type": "execute_result"
    }
   ],
   "source": [
    "os.listdir(cwd+ '\\\\color_data')"
   ]
  },
  {
   "cell_type": "code",
   "execution_count": 5,
   "metadata": {},
   "outputs": [],
   "source": [
    "target = pd.read_csv(r'C:\\Users\\abelp\\machine_learning\\crowd_count\\data\\count_.csv', names=['target'])"
   ]
  },
  {
   "cell_type": "code",
   "execution_count": 6,
   "metadata": {},
   "outputs": [
    {
     "data": {
      "text/plain": [
       "2000"
      ]
     },
     "execution_count": 6,
     "metadata": {},
     "output_type": "execute_result"
    }
   ],
   "source": [
    "len(target)"
   ]
  },
  {
   "cell_type": "code",
   "execution_count": 7,
   "metadata": {},
   "outputs": [],
   "source": [
    "target.columns = ['target']"
   ]
  },
  {
   "cell_type": "code",
   "execution_count": 8,
   "metadata": {},
   "outputs": [],
   "source": [
    "input_ = np.append(pkl.load(open(r'C:\\Users\\abelp\\machine_learning\\crowd_count\\final_data\\mean_normalized1.pkl', 'rb')),\n",
    "                  pkl.load(open(r'C:\\Users\\abelp\\machine_learning\\crowd_count\\final_data\\mean_normalized2.pkl', 'rb')),axis=0)"
   ]
  },
  {
   "cell_type": "code",
   "execution_count": 9,
   "metadata": {},
   "outputs": [],
   "source": [
    "model_location = 'C:\\\\Users\\\\abelp\\\\machine_learning\\\\crowd_count\\\\models\\\\'"
   ]
  },
  {
   "cell_type": "code",
   "execution_count": 10,
   "metadata": {},
   "outputs": [
    {
     "data": {
      "text/plain": [
       "['alex_net_trasfer.h5',\n",
       " 'alex_net_trasfer.png',\n",
       " 'alex_net_trasfer_actual.h5',\n",
       " 'alex_net_trasfer_actual.png',\n",
       " 'alex_net_trasfer_BE.h5',\n",
       " 'alex_net_trasfer_BE.png',\n",
       " 'alex_net_trasfer_BE_LR.h5',\n",
       " 'alex_net_trasfer_BE_LR.png',\n",
       " 'alex_net_trasfer_deep_BE.h5',\n",
       " 'alex_net_trasfer_deep_BE.png',\n",
       " 'alex_net_trasfer_deep_BE_LR.h5',\n",
       " 'alex_net_trasfer_deep_BE_LR.png',\n",
       " 'alex_net_trasfer_DO.h5',\n",
       " 'alex_net_trasfer_DO.png',\n",
       " 'alex_net_trasfer_v2.h5',\n",
       " 'alex_net_trasfer_v2.png',\n",
       " 'augmented_samplealex_net_trasfer.png',\n",
       " 'augmented_samplealex_net_trasfer_BE.png',\n",
       " 'augmented_samplealex_net_trasfer_BE_LR.png',\n",
       " 'augmented_samplealex_net_trasfer_deep_BE_LR.png',\n",
       " 'augmented_samplealex_net_trasfer_v2.png',\n",
       " 'augmented_samplebasic_CNN_v2_BN.png',\n",
       " 'augmented_samplebasic_CNN_v2_BN_LR.png',\n",
       " 'augmented_samplebasic_CNN_v2_DO_LR.png',\n",
       " 'basic_CNN.h5',\n",
       " 'basic_CNN.png',\n",
       " 'basic_CNN_v2.h5',\n",
       " 'basic_CNN_v2.png',\n",
       " 'basic_CNN_v2_BN.h5',\n",
       " 'basic_CNN_v2_BN.png',\n",
       " 'basic_CNN_v2_BN_LR.h5',\n",
       " 'basic_CNN_v2_BN_LR.png',\n",
       " 'basic_CNN_v2_DO.h5',\n",
       " 'basic_CNN_v2_DO.png',\n",
       " 'basic_CNN_v2_DO_LR.h5',\n",
       " 'basic_CNN_v2_DO_LR.png',\n",
       " 'normalized_samplealex_net_trasfer.png',\n",
       " 'normalized_samplealex_net_trasfer_BE.png',\n",
       " 'normalized_samplealex_net_trasfer_BE_LR.png',\n",
       " 'normalized_samplealex_net_trasfer_v2.png',\n",
       " 'normalized_samplebasic_CNN_v2_BN_LR.png',\n",
       " 'normalized_samplebasic_CNN_v2_DO_LR.png']"
      ]
     },
     "execution_count": 10,
     "metadata": {},
     "output_type": "execute_result"
    }
   ],
   "source": [
    "os.listdir(model_location)"
   ]
  },
  {
   "cell_type": "code",
   "execution_count": 11,
   "metadata": {},
   "outputs": [],
   "source": [
    "IMG_SIZE = input_.shape[1]\n",
    "IMG_SIZE2 = input_.shape[2]"
   ]
  },
  {
   "cell_type": "code",
   "execution_count": 12,
   "metadata": {},
   "outputs": [],
   "source": [
    "models_ = training_models.models_to_train"
   ]
  },
  {
   "cell_type": "code",
   "execution_count": 13,
   "metadata": {},
   "outputs": [],
   "source": [
    "target = np.array(target['target'])"
   ]
  },
  {
   "cell_type": "code",
   "execution_count": 14,
   "metadata": {},
   "outputs": [],
   "source": [
    "X_train, X_test, y_train, y_test = train_test_split(input_, target, test_size=0.2, random_state=42, shuffle=True)"
   ]
  },
  {
   "cell_type": "code",
   "execution_count": 15,
   "metadata": {},
   "outputs": [
    {
     "data": {
      "text/plain": [
       "(1600, 480, 640)"
      ]
     },
     "execution_count": 15,
     "metadata": {},
     "output_type": "execute_result"
    }
   ],
   "source": [
    "X_train.shape"
   ]
  },
  {
   "cell_type": "code",
   "execution_count": 16,
   "metadata": {},
   "outputs": [],
   "source": [
    "X_train = np.expand_dims(X_train, axis=3)\n",
    "X_test = np.expand_dims(X_test, axis=3)"
   ]
  },
  {
   "cell_type": "code",
   "execution_count": 17,
   "metadata": {},
   "outputs": [
    {
     "data": {
      "text/plain": [
       "(1600, 480, 640, 1)"
      ]
     },
     "execution_count": 17,
     "metadata": {},
     "output_type": "execute_result"
    }
   ],
   "source": [
    "X_train.shape"
   ]
  },
  {
   "cell_type": "code",
   "execution_count": 18,
   "metadata": {},
   "outputs": [],
   "source": [
    "del input_"
   ]
  },
  {
   "cell_type": "code",
   "execution_count": 19,
   "metadata": {},
   "outputs": [],
   "source": [
    "val_loss_dict = {}"
   ]
  },
  {
   "cell_type": "code",
   "execution_count": 20,
   "metadata": {},
   "outputs": [],
   "source": [
    "def data_Generator():\n",
    "    while True:\n",
    "        for i in range(0,len(X_train) // 100):\n",
    "            time.sleep(0.01)\n",
    "            yield  X_train[i*10:(i+1)*10], y_train[i*10:(i+1)*10]\n",
    "            \n",
    "def train_model(method):        \n",
    "    filepath = model_location + method + '.h5'\n",
    "    \n",
    "    es_callback = EarlyStopping(monitor='mse', patience=5)\n",
    "    checkpoint = ModelCheckpoint(filepath, monitor='val_mse', save_best_only=True, mode='min')\n",
    "    \n",
    "    model = getattr(models_, method)(IMG_SIZE, IMG_SIZE2)\n",
    "\n",
    "    model.compile(optimizer='ADAM', loss='mse', metrics=['mse'])\n",
    "\n",
    "    with open('C:\\\\Users\\\\abelp\\\\machine_learning\\\\crowd_count\\\\model_summary\\\\augmented_' + method + '_summary.txt', 'w') as f:\n",
    "        with redirect_stdout(f):\n",
    "            model.summary()\n",
    "    \n",
    "    history = model.fit_generator(data_Generator(), steps_per_epoch=50, epochs=500,  callbacks=[es_callback, checkpoint], verbose=1, validation_data=(X_test, y_test))\n",
    "    \n",
    "    val_loss_dict[method] = min(history.history['val_mse'])\n",
    "    \n",
    "    plt.figure()\n",
    "    plt.plot(history.history['mse'][1:], label='train')\n",
    "    plt.plot(history.history['val_mse'][1:], label='test')\n",
    "    plt.title('train / test loss - ' + method)\n",
    "    plt.savefig(model_location + 'normalized_sample' + method + '.png')\n",
    "    \n",
    "    del history\n",
    "    del model"
   ]
  },
  {
   "cell_type": "code",
   "execution_count": 21,
   "metadata": {},
   "outputs": [
    {
     "name": "stdout",
     "output_type": "stream",
     "text": [
      "Epoch 1/500\n",
      "50/50 [==============================] - 10s 204ms/step - loss: 4741.4433 - mse: 4741.4424 - val_loss: 69.8380 - val_mse: 69.8380\n",
      "Epoch 2/500\n",
      "50/50 [==============================] - 6s 120ms/step - loss: 59.4329 - mse: 59.4329 - val_loss: 53.4862 - val_mse: 53.4862\n",
      "Epoch 3/500\n",
      "50/50 [==============================] - 6s 120ms/step - loss: 62.8708 - mse: 62.8708 - val_loss: 90.3852 - val_mse: 90.3852\n",
      "Epoch 4/500\n",
      "50/50 [==============================] - 6s 120ms/step - loss: 62.7804 - mse: 62.7804 - val_loss: 44.5410 - val_mse: 44.5410\n",
      "Epoch 5/500\n",
      "50/50 [==============================] - 6s 122ms/step - loss: 47.9346 - mse: 47.9346 - val_loss: 43.3308 - val_mse: 43.3308\n",
      "Epoch 6/500\n",
      "50/50 [==============================] - 6s 124ms/step - loss: 48.1337 - mse: 48.1337 - val_loss: 59.2719 - val_mse: 59.2719\n",
      "Epoch 7/500\n",
      "50/50 [==============================] - 6s 121ms/step - loss: 48.0026 - mse: 48.0026 - val_loss: 42.4782 - val_mse: 42.4782\n",
      "Epoch 8/500\n",
      "50/50 [==============================] - 6s 120ms/step - loss: 47.7069 - mse: 47.7069 - val_loss: 43.2677 - val_mse: 43.2677\n",
      "Epoch 9/500\n",
      "50/50 [==============================] - 6s 121ms/step - loss: 44.5258 - mse: 44.5258 - val_loss: 41.2175 - val_mse: 41.2175\n",
      "Epoch 10/500\n",
      "50/50 [==============================] - 6s 120ms/step - loss: 45.4006 - mse: 45.4006 - val_loss: 52.3806 - val_mse: 52.3806\n",
      "Epoch 11/500\n",
      "50/50 [==============================] - 6s 119ms/step - loss: 42.4400 - mse: 42.4400 - val_loss: 43.1883 - val_mse: 43.1883\n",
      "Epoch 12/500\n",
      "50/50 [==============================] - 6s 120ms/step - loss: 42.7444 - mse: 42.7444 - val_loss: 38.1720 - val_mse: 38.1720\n",
      "Epoch 13/500\n",
      "50/50 [==============================] - 6s 119ms/step - loss: 41.4620 - mse: 41.4620 - val_loss: 41.9042 - val_mse: 41.9042\n",
      "Epoch 14/500\n",
      "50/50 [==============================] - 6s 119ms/step - loss: 45.4684 - mse: 45.4684 - val_loss: 40.6978 - val_mse: 40.6978\n",
      "Epoch 15/500\n",
      "50/50 [==============================] - 6s 119ms/step - loss: 40.6566 - mse: 40.6566 - val_loss: 39.9203 - val_mse: 39.9203\n",
      "Epoch 16/500\n",
      "50/50 [==============================] - 6s 119ms/step - loss: 42.8054 - mse: 42.8054 - val_loss: 45.1487 - val_mse: 45.1487\n",
      "Epoch 17/500\n",
      "50/50 [==============================] - 6s 120ms/step - loss: 37.6896 - mse: 37.6896 - val_loss: 40.1401 - val_mse: 40.1401\n",
      "Epoch 18/500\n",
      "50/50 [==============================] - 6s 120ms/step - loss: 41.2080 - mse: 41.2080 - val_loss: 40.2589 - val_mse: 40.2589\n",
      "Epoch 19/500\n",
      "50/50 [==============================] - 6s 119ms/step - loss: 40.6900 - mse: 40.6900 - val_loss: 43.5099 - val_mse: 43.5099\n",
      "Epoch 20/500\n",
      "50/50 [==============================] - 6s 119ms/step - loss: 40.8942 - mse: 40.8942 - val_loss: 41.1268 - val_mse: 41.1268\n",
      "Epoch 21/500\n",
      "50/50 [==============================] - 6s 120ms/step - loss: 36.3932 - mse: 36.3932 - val_loss: 33.1186 - val_mse: 33.1186\n",
      "Epoch 22/500\n",
      "50/50 [==============================] - 6s 120ms/step - loss: 35.5465 - mse: 35.5465 - val_loss: 37.3911 - val_mse: 37.3911\n",
      "Epoch 23/500\n",
      "50/50 [==============================] - 6s 120ms/step - loss: 38.8437 - mse: 38.8437 - val_loss: 32.4742 - val_mse: 32.4742\n",
      "Epoch 24/500\n",
      "50/50 [==============================] - 6s 120ms/step - loss: 34.5335 - mse: 34.5335 - val_loss: 33.4751 - val_mse: 33.4751\n",
      "Epoch 25/500\n",
      "50/50 [==============================] - 6s 119ms/step - loss: 35.5769 - mse: 35.5769 - val_loss: 37.4675 - val_mse: 37.4675\n",
      "Epoch 26/500\n",
      "50/50 [==============================] - 6s 121ms/step - loss: 34.1819 - mse: 34.1819 - val_loss: 38.2321 - val_mse: 38.2321\n",
      "Epoch 27/500\n",
      "50/50 [==============================] - 6s 127ms/step - loss: 32.2756 - mse: 32.2756 - val_loss: 30.8730 - val_mse: 30.8730\n",
      "Epoch 28/500\n",
      "50/50 [==============================] - 6s 120ms/step - loss: 28.8598 - mse: 28.8598 - val_loss: 27.0224 - val_mse: 27.0224\n",
      "Epoch 29/500\n",
      "50/50 [==============================] - 6s 119ms/step - loss: 30.4969 - mse: 30.4969 - val_loss: 28.1907 - val_mse: 28.1907\n",
      "Epoch 30/500\n",
      "50/50 [==============================] - 6s 120ms/step - loss: 28.3965 - mse: 28.3965 - val_loss: 24.1460 - val_mse: 24.1460\n",
      "Epoch 31/500\n",
      "50/50 [==============================] - 6s 120ms/step - loss: 25.2799 - mse: 25.2799 - val_loss: 30.3833 - val_mse: 30.3833\n",
      "Epoch 32/500\n",
      "50/50 [==============================] - 6s 120ms/step - loss: 28.9678 - mse: 28.9678 - val_loss: 28.1048 - val_mse: 28.1048\n",
      "Epoch 33/500\n",
      "50/50 [==============================] - 6s 120ms/step - loss: 31.1312 - mse: 31.1312 - val_loss: 25.6302 - val_mse: 25.6302\n",
      "Epoch 34/500\n",
      "50/50 [==============================] - 6s 121ms/step - loss: 22.3339 - mse: 22.3339 - val_loss: 32.8550 - val_mse: 32.8550\n",
      "Epoch 35/500\n",
      "50/50 [==============================] - 6s 121ms/step - loss: 20.5139 - mse: 20.5139 - val_loss: 20.4063 - val_mse: 20.4063\n",
      "Epoch 36/500\n",
      "50/50 [==============================] - 6s 121ms/step - loss: 17.2934 - mse: 17.2934 - val_loss: 24.0424 - val_mse: 24.0424\n",
      "Epoch 37/500\n",
      "50/50 [==============================] - 6s 120ms/step - loss: 20.5462 - mse: 20.5462 - val_loss: 22.6672 - val_mse: 22.6672\n",
      "Epoch 38/500\n",
      "50/50 [==============================] - 6s 124ms/step - loss: 16.9378 - mse: 16.9378 - val_loss: 20.9963 - val_mse: 20.9963\n",
      "Epoch 39/500\n",
      "50/50 [==============================] - 6s 122ms/step - loss: 16.4044 - mse: 16.4044 - val_loss: 18.3468 - val_mse: 18.3468\n",
      "Epoch 40/500\n",
      "50/50 [==============================] - 6s 120ms/step - loss: 15.1788 - mse: 15.1788 - val_loss: 18.8129 - val_mse: 18.8129\n",
      "Epoch 41/500\n",
      "50/50 [==============================] - 6s 119ms/step - loss: 16.0563 - mse: 16.0563 - val_loss: 18.5173 - val_mse: 18.5173\n",
      "Epoch 42/500\n",
      "50/50 [==============================] - 6s 120ms/step - loss: 15.9959 - mse: 15.9959 - val_loss: 26.0596 - val_mse: 26.0596\n",
      "Epoch 43/500\n",
      "50/50 [==============================] - 6s 119ms/step - loss: 15.3725 - mse: 15.3725 - val_loss: 18.3745 - val_mse: 18.3745\n",
      "Epoch 44/500\n",
      "50/50 [==============================] - 6s 120ms/step - loss: 12.2038 - mse: 12.2038 - val_loss: 18.0997 - val_mse: 18.0997\n",
      "Epoch 45/500\n",
      "50/50 [==============================] - 6s 121ms/step - loss: 14.1326 - mse: 14.1326 - val_loss: 18.0178 - val_mse: 18.0178\n",
      "Epoch 46/500\n",
      "50/50 [==============================] - 6s 120ms/step - loss: 13.4620 - mse: 13.4620 - val_loss: 18.5426 - val_mse: 18.5426\n",
      "Epoch 47/500\n",
      "50/50 [==============================] - 6s 121ms/step - loss: 13.6247 - mse: 13.6247 - val_loss: 18.1782 - val_mse: 18.1782\n",
      "Epoch 48/500\n",
      "50/50 [==============================] - 6s 123ms/step - loss: 12.6887 - mse: 12.6887 - val_loss: 20.7029 - val_mse: 20.7029\n",
      "Epoch 49/500\n",
      "50/50 [==============================] - 6s 124ms/step - loss: 11.0967 - mse: 11.0967 - val_loss: 17.3223 - val_mse: 17.3223\n",
      "Epoch 50/500\n",
      "50/50 [==============================] - 6s 122ms/step - loss: 10.1596 - mse: 10.1596 - val_loss: 17.3133 - val_mse: 17.3133\n",
      "Epoch 51/500\n",
      "50/50 [==============================] - 6s 122ms/step - loss: 10.1133 - mse: 10.1133 - val_loss: 17.0204 - val_mse: 17.0204\n",
      "Epoch 52/500\n",
      "50/50 [==============================] - 6s 117ms/step - loss: 8.8250 - mse: 8.8250 - val_loss: 17.1378 - val_mse: 17.1378\n",
      "Epoch 53/500\n",
      "50/50 [==============================] - 6s 117ms/step - loss: 10.8047 - mse: 10.8047 - val_loss: 17.2379 - val_mse: 17.2379\n",
      "Epoch 54/500\n",
      "50/50 [==============================] - 6s 123ms/step - loss: 9.3960 - mse: 9.3960 - val_loss: 16.8415 - val_mse: 16.8415\n",
      "Epoch 55/500\n",
      "50/50 [==============================] - 6s 120ms/step - loss: 9.6387 - mse: 9.6387 - val_loss: 16.9522 - val_mse: 16.9522\n",
      "Epoch 56/500\n",
      "50/50 [==============================] - 6s 120ms/step - loss: 8.6440 - mse: 8.6440 - val_loss: 17.5929 - val_mse: 17.5929\n",
      "Epoch 57/500\n",
      "50/50 [==============================] - 6s 119ms/step - loss: 9.2126 - mse: 9.2126 - val_loss: 16.6937 - val_mse: 16.6937\n",
      "Epoch 58/500\n",
      "50/50 [==============================] - 6s 119ms/step - loss: 8.2057 - mse: 8.2057 - val_loss: 18.5456 - val_mse: 18.5456\n",
      "Epoch 59/500\n",
      "50/50 [==============================] - 6s 119ms/step - loss: 9.0137 - mse: 9.0137 - val_loss: 17.0023 - val_mse: 17.0023\n",
      "Epoch 60/500\n"
     ]
    },
    {
     "name": "stdout",
     "output_type": "stream",
     "text": [
      "50/50 [==============================] - 6s 119ms/step - loss: 7.2658 - mse: 7.2658 - val_loss: 16.8927 - val_mse: 16.8927\n",
      "Epoch 61/500\n",
      "50/50 [==============================] - 6s 120ms/step - loss: 8.5092 - mse: 8.5092 - val_loss: 17.5453 - val_mse: 17.5453\n",
      "Epoch 62/500\n",
      "50/50 [==============================] - 6s 121ms/step - loss: 8.0041 - mse: 8.0041 - val_loss: 17.4034 - val_mse: 17.4034\n",
      "Epoch 63/500\n",
      "50/50 [==============================] - 6s 120ms/step - loss: 7.1547 - mse: 7.1547 - val_loss: 17.8537 - val_mse: 17.8537\n",
      "Epoch 64/500\n",
      "50/50 [==============================] - 6s 122ms/step - loss: 7.8287 - mse: 7.8287 - val_loss: 21.7648 - val_mse: 21.7648\n",
      "Epoch 65/500\n",
      "50/50 [==============================] - 6s 122ms/step - loss: 8.1143 - mse: 8.1143 - val_loss: 17.4188 - val_mse: 17.4188\n",
      "Epoch 66/500\n",
      "50/50 [==============================] - 6s 125ms/step - loss: 6.3599 - mse: 6.3599 - val_loss: 18.1801 - val_mse: 18.1801\n",
      "Epoch 67/500\n",
      "50/50 [==============================] - 6s 123ms/step - loss: 7.3289 - mse: 7.3289 - val_loss: 21.3876 - val_mse: 21.3876\n",
      "Epoch 68/500\n",
      "50/50 [==============================] - 6s 123ms/step - loss: 7.3705 - mse: 7.3705 - val_loss: 17.4710 - val_mse: 17.4710\n",
      "Epoch 69/500\n",
      "50/50 [==============================] - 6s 122ms/step - loss: 7.3763 - mse: 7.3763 - val_loss: 18.3887 - val_mse: 18.3887\n",
      "Epoch 70/500\n",
      "50/50 [==============================] - 6s 124ms/step - loss: 6.3052 - mse: 6.3052 - val_loss: 18.2489 - val_mse: 18.2489\n",
      "Epoch 71/500\n",
      "50/50 [==============================] - 6s 124ms/step - loss: 6.4071 - mse: 6.4071 - val_loss: 18.7321 - val_mse: 18.7321\n",
      "Epoch 72/500\n",
      "50/50 [==============================] - 6s 125ms/step - loss: 6.0833 - mse: 6.0833 - val_loss: 19.8343 - val_mse: 19.8343\n",
      "Epoch 73/500\n",
      "50/50 [==============================] - 6s 125ms/step - loss: 5.8198 - mse: 5.8198 - val_loss: 17.7978 - val_mse: 17.7978\n",
      "Epoch 74/500\n",
      "50/50 [==============================] - 6s 124ms/step - loss: 5.9547 - mse: 5.9547 - val_loss: 18.2628 - val_mse: 18.2628\n",
      "Epoch 75/500\n",
      "50/50 [==============================] - 6s 123ms/step - loss: 6.5647 - mse: 6.5647 - val_loss: 17.8475 - val_mse: 17.8475\n",
      "Epoch 76/500\n",
      "50/50 [==============================] - 6s 121ms/step - loss: 7.6029 - mse: 7.6029 - val_loss: 23.8769 - val_mse: 23.8769\n",
      "Epoch 77/500\n",
      "50/50 [==============================] - 6s 123ms/step - loss: 6.0236 - mse: 6.0236 - val_loss: 18.1101 - val_mse: 18.1101\n",
      "Epoch 78/500\n",
      "50/50 [==============================] - 6s 120ms/step - loss: 4.5625 - mse: 4.5625 - val_loss: 20.8164 - val_mse: 20.8164\n",
      "Epoch 79/500\n",
      "50/50 [==============================] - 6s 119ms/step - loss: 5.1580 - mse: 5.1580 - val_loss: 19.0414 - val_mse: 19.0414\n",
      "Epoch 80/500\n",
      "50/50 [==============================] - 6s 120ms/step - loss: 5.4352 - mse: 5.4352 - val_loss: 20.0012 - val_mse: 20.0012\n",
      "Epoch 81/500\n",
      "50/50 [==============================] - 6s 124ms/step - loss: 6.2952 - mse: 6.2952 - val_loss: 19.1468 - val_mse: 19.1468\n",
      "Epoch 82/500\n",
      "50/50 [==============================] - 6s 121ms/step - loss: 4.9441 - mse: 4.9441 - val_loss: 20.2501 - val_mse: 20.2501\n",
      "Epoch 83/500\n",
      "50/50 [==============================] - 6s 123ms/step - loss: 4.5715 - mse: 4.5715 - val_loss: 24.0362 - val_mse: 24.0362\n",
      "Epoch 1/500\n",
      "50/50 [==============================] - 7s 140ms/step - loss: 1864.3897 - mse: 1864.3896 - val_loss: 743.3465 - val_mse: 743.3464\n",
      "Epoch 2/500\n",
      "50/50 [==============================] - 7s 130ms/step - loss: 24.4182 - mse: 24.4182 - val_loss: 710.5354 - val_mse: 710.5355\n",
      "Epoch 3/500\n",
      "50/50 [==============================] - 6s 127ms/step - loss: 14.4015 - mse: 14.4015 - val_loss: 636.0219 - val_mse: 636.0219\n",
      "Epoch 4/500\n",
      "50/50 [==============================] - 6s 125ms/step - loss: 8.5374 - mse: 8.5374 - val_loss: 502.2770 - val_mse: 502.2770\n",
      "Epoch 5/500\n",
      "50/50 [==============================] - 6s 125ms/step - loss: 5.1461 - mse: 5.1461 - val_loss: 382.2631 - val_mse: 382.2631\n",
      "Epoch 6/500\n",
      "50/50 [==============================] - 6s 125ms/step - loss: 3.8025 - mse: 3.8025 - val_loss: 286.8000 - val_mse: 286.8000\n",
      "Epoch 7/500\n",
      "50/50 [==============================] - 7s 132ms/step - loss: 2.9472 - mse: 2.9472 - val_loss: 206.6726 - val_mse: 206.6726\n",
      "Epoch 8/500\n",
      "50/50 [==============================] - 6s 126ms/step - loss: 2.7618 - mse: 2.7618 - val_loss: 150.0769 - val_mse: 150.0769\n",
      "Epoch 9/500\n",
      "50/50 [==============================] - 6s 127ms/step - loss: 3.2146 - mse: 3.2146 - val_loss: 115.9649 - val_mse: 115.9649\n",
      "Epoch 10/500\n",
      "50/50 [==============================] - 6s 125ms/step - loss: 5.3483 - mse: 5.3483 - val_loss: 95.8697 - val_mse: 95.8697\n",
      "Epoch 11/500\n",
      "50/50 [==============================] - 6s 124ms/step - loss: 13.2417 - mse: 13.2417 - val_loss: 78.5376 - val_mse: 78.5376\n",
      "Epoch 12/500\n",
      "50/50 [==============================] - 6s 124ms/step - loss: 49.7715 - mse: 49.7715 - val_loss: 17239.2169 - val_mse: 17239.2168\n",
      "Epoch 13/500\n",
      "50/50 [==============================] - 6s 126ms/step - loss: 181.7933 - mse: 181.7933 - val_loss: 289.6453 - val_mse: 289.6452\n",
      "Epoch 1/500\n",
      "50/50 [==============================] - 10s 201ms/step - loss: 270.6872 - mse: 270.6871 - val_loss: 313.0074 - val_mse: 313.0074\n",
      "Epoch 2/500\n",
      "50/50 [==============================] - 8s 159ms/step - loss: 58.5058 - mse: 58.5058 - val_loss: 226.5110 - val_mse: 226.5110\n",
      "Epoch 3/500\n",
      "50/50 [==============================] - 8s 167ms/step - loss: 41.3573 - mse: 41.3573 - val_loss: 239.9834 - val_mse: 239.9833\n",
      "Epoch 4/500\n",
      "50/50 [==============================] - 8s 157ms/step - loss: 41.1985 - mse: 41.1985 - val_loss: 290.5498 - val_mse: 290.5497\n",
      "Epoch 5/500\n",
      "50/50 [==============================] - 8s 157ms/step - loss: 37.9305 - mse: 37.9305 - val_loss: 81.3323 - val_mse: 81.3324\n",
      "Epoch 6/500\n",
      "50/50 [==============================] - 8s 157ms/step - loss: 36.9921 - mse: 36.9921 - val_loss: 119.6779 - val_mse: 119.6779\n",
      "Epoch 7/500\n",
      "50/50 [==============================] - 8s 158ms/step - loss: 25.8327 - mse: 25.8327 - val_loss: 163.3495 - val_mse: 163.3495\n",
      "Epoch 8/500\n",
      "50/50 [==============================] - 8s 162ms/step - loss: 25.7390 - mse: 25.7390 - val_loss: 195.9447 - val_mse: 195.9447\n",
      "Epoch 9/500\n",
      "50/50 [==============================] - 8s 163ms/step - loss: 24.5999 - mse: 24.5999 - val_loss: 148.1612 - val_mse: 148.1612\n",
      "Epoch 10/500\n",
      "50/50 [==============================] - 8s 166ms/step - loss: 17.0322 - mse: 17.0322 - val_loss: 157.1906 - val_mse: 157.1906\n",
      "Epoch 11/500\n",
      "50/50 [==============================] - 8s 162ms/step - loss: 31.1959 - mse: 31.1959 - val_loss: 73.8243 - val_mse: 73.8243\n",
      "Epoch 12/500\n",
      "50/50 [==============================] - 8s 164ms/step - loss: 29.5565 - mse: 29.5565 - val_loss: 179.8524 - val_mse: 179.8524\n",
      "Epoch 13/500\n",
      "50/50 [==============================] - 8s 167ms/step - loss: 50.6175 - mse: 50.6175 - val_loss: 84.8266 - val_mse: 84.8266\n",
      "Epoch 14/500\n",
      "50/50 [==============================] - 8s 164ms/step - loss: 26.2253 - mse: 26.2253 - val_loss: 63.5319 - val_mse: 63.5319\n",
      "Epoch 15/500\n",
      "50/50 [==============================] - 8s 159ms/step - loss: 12.6556 - mse: 12.6556 - val_loss: 64.1281 - val_mse: 64.1281\n",
      "Epoch 16/500\n",
      "50/50 [==============================] - 8s 157ms/step - loss: 13.6768 - mse: 13.6768 - val_loss: 105.4919 - val_mse: 105.4919\n",
      "Epoch 17/500\n",
      "50/50 [==============================] - 8s 159ms/step - loss: 12.3246 - mse: 12.3246 - val_loss: 76.9050 - val_mse: 76.9050\n",
      "Epoch 18/500\n",
      "50/50 [==============================] - 8s 157ms/step - loss: 12.6147 - mse: 12.6147 - val_loss: 73.3171 - val_mse: 73.3171\n",
      "Epoch 19/500\n",
      "50/50 [==============================] - 8s 157ms/step - loss: 8.6119 - mse: 8.6119 - val_loss: 89.2723 - val_mse: 89.2723\n",
      "Epoch 20/500\n",
      "50/50 [==============================] - 8s 159ms/step - loss: 12.0783 - mse: 12.0783 - val_loss: 40.7163 - val_mse: 40.7163\n",
      "Epoch 21/500\n",
      "50/50 [==============================] - 8s 160ms/step - loss: 6.6656 - mse: 6.6656 - val_loss: 66.9963 - val_mse: 66.9963\n",
      "Epoch 22/500\n",
      "50/50 [==============================] - 8s 159ms/step - loss: 8.0015 - mse: 8.0015 - val_loss: 44.1384 - val_mse: 44.1384\n",
      "Epoch 23/500\n",
      "50/50 [==============================] - 8s 165ms/step - loss: 9.7214 - mse: 9.7214 - val_loss: 62.8562 - val_mse: 62.8562\n"
     ]
    },
    {
     "name": "stdout",
     "output_type": "stream",
     "text": [
      "Epoch 24/500\n",
      "50/50 [==============================] - 8s 161ms/step - loss: 8.9027 - mse: 8.9027 - val_loss: 50.7571 - val_mse: 50.7571\n",
      "Epoch 25/500\n",
      "50/50 [==============================] - 8s 164ms/step - loss: 6.5973 - mse: 6.5973 - val_loss: 70.8899 - val_mse: 70.8899\n",
      "Epoch 26/500\n",
      "50/50 [==============================] - 8s 161ms/step - loss: 5.0773 - mse: 5.0773 - val_loss: 66.2566 - val_mse: 66.2566\n",
      "Epoch 27/500\n",
      "50/50 [==============================] - 8s 164ms/step - loss: 3.7784 - mse: 3.7784 - val_loss: 56.3589 - val_mse: 56.3589\n",
      "Epoch 28/500\n",
      "50/50 [==============================] - 8s 165ms/step - loss: 4.8449 - mse: 4.8449 - val_loss: 57.2530 - val_mse: 57.2530\n",
      "Epoch 29/500\n",
      "50/50 [==============================] - 8s 161ms/step - loss: 6.6364 - mse: 6.6364 - val_loss: 29.3016 - val_mse: 29.3016\n",
      "Epoch 30/500\n",
      "50/50 [==============================] - 8s 158ms/step - loss: 9.2733 - mse: 9.2733 - val_loss: 28.3674 - val_mse: 28.3674\n",
      "Epoch 31/500\n",
      "50/50 [==============================] - 8s 164ms/step - loss: 5.1219 - mse: 5.1219 - val_loss: 32.9270 - val_mse: 32.9270\n",
      "Epoch 32/500\n",
      "50/50 [==============================] - 8s 161ms/step - loss: 8.6461 - mse: 8.6461 - val_loss: 35.6124 - val_mse: 35.6124\n"
     ]
    },
    {
     "data": {
      "image/png": "[encoded data removed]",
      "text/plain": [
       "<Figure size 432x288 with 1 Axes>"
      ]
     },
     "metadata": {
      "needs_background": "light"
     },
     "output_type": "display_data"
    },
    {
     "data": {
      "image/png": "[encoded data removed]",
      "text/plain": [
       "<Figure size 432x288 with 1 Axes>"
      ]
     },
     "metadata": {
      "needs_background": "light"
     },
     "output_type": "display_data"
    },
    {
     "data": {
      "image/png": "[encoded data removed]",
      "text/plain": [
       "<Figure size 432x288 with 1 Axes>"
      ]
     },
     "metadata": {
      "needs_background": "light"
     },
     "output_type": "display_data"
    }
   ],
   "source": [
    "exec_methods = ['basic_CNN_v2_DO_LR', 'basic_CNN_v2_BN_LR', \"alex_net_trasfer\"]\n",
    "for method in exec_methods:\n",
    "    train_model(method)"
   ]
  },
  {
   "cell_type": "code",
   "execution_count": 22,
   "metadata": {},
   "outputs": [
    {
     "data": {
      "text/plain": [
       "{'basic_CNN_v2_DO_LR': 16.693740844726562,\n",
       " 'basic_CNN_v2_BN_LR': 78.53763580322266,\n",
       " 'alex_net_trasfer': 28.36736297607422}"
      ]
     },
     "execution_count": 22,
     "metadata": {},
     "output_type": "execute_result"
    }
   ],
   "source": [
    "val_loss_dict"
   ]
  },
  {
   "cell_type": "code",
   "execution_count": 23,
   "metadata": {},
   "outputs": [],
   "source": [
    "#, \"alex_net_trasfer_v2\", \"alex_net_trasfer_BE\", \"alex_net_trasfer_BE_LR\""
   ]
  }
 ],
 "metadata": {
  "kernelspec": {
   "display_name": "Python 3",
   "language": "python",
   "name": "python3"
  },
  "language_info": {
   "codemirror_mode": {
    "name": "ipython",
    "version": 3
   },
   "file_extension": ".py",
   "mimetype": "text/x-python",
   "name": "python",
   "nbconvert_exporter": "python",
   "pygments_lexer": "ipython3",
   "version": "3.7.4"
  }
 },
 "nbformat": 4,
 "nbformat_minor": 1
}
